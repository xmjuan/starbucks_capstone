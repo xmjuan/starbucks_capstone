{
 "cells": [
  {
   "cell_type": "markdown",
   "metadata": {},
   "source": [
    "# Starbucks Capstone Challenge\n",
    "\n",
    "### Introduction\n",
    "\n",
    "This data set contains simulated data that mimics customer behavior on the Starbucks rewards mobile app. Once every few days, Starbucks sends out an offer to users of the mobile app. An offer can be merely an advertisement for a drink or an actual offer such as a discount or BOGO (buy one get one free). Some users might not receive any offer during certain weeks. \n",
    "\n",
    "Not all users receive the same offer, and that is the challenge to solve with this data set.\n",
    "\n",
    "Your task is to combine transaction, demographic and offer data to determine which demographic groups respond best to which offer type. This data set is a simplified version of the real Starbucks app because the underlying simulator only has one product whereas Starbucks actually sells dozens of products.\n",
    "\n",
    "Every offer has a validity period before the offer expires. As an example, a BOGO offer might be valid for only 5 days. You'll see in the data set that informational offers have a validity period even though these ads are merely providing information about a product; for example, if an informational offer has 7 days of validity, you can assume the customer is feeling the influence of the offer for 7 days after receiving the advertisement.\n",
    "\n",
    "You'll be given transactional data showing user purchases made on the app including the timestamp of purchase and the amount of money spent on a purchase. This transactional data also has a record for each offer that a user receives as well as a record for when a user actually views the offer. There are also records for when a user completes an offer. \n",
    "\n",
    "Keep in mind as well that someone using the app might make a purchase through the app without having received an offer or seen an offer.\n",
    "\n",
    "### Example\n",
    "\n",
    "To give an example, a user could receive a discount offer buy 10 dollars get 2 off on Monday. The offer is valid for 10 days from receipt. If the customer accumulates at least 10 dollars in purchases during the validity period, the customer completes the offer.\n",
    "\n",
    "However, there are a few things to watch out for in this data set. Customers do not opt into the offers that they receive; in other words, a user can receive an offer, never actually view the offer, and still complete the offer. For example, a user might receive the \"buy 10 dollars get 2 dollars off offer\", but the user never opens the offer during the 10 day validity period. The customer spends 15 dollars during those ten days. There will be an offer completion record in the data set; however, the customer was not influenced by the offer because the customer never viewed the offer.\n",
    "\n",
    "### Cleaning\n",
    "\n",
    "This makes data cleaning especially important and tricky.\n",
    "\n",
    "You'll also want to take into account that some demographic groups will make purchases even if they don't receive an offer. From a business perspective, if a customer is going to make a 10 dollar purchase without an offer anyway, you wouldn't want to send a buy 10 dollars get 2 dollars off offer. You'll want to try to assess what a certain demographic group will buy when not receiving any offers.\n",
    "\n",
    "### Final Advice\n",
    "\n",
    "Because this is a capstone project, you are free to analyze the data any way you see fit. For example, you could build a machine learning model that predicts how much someone will spend based on demographics and offer type. Or you could build a model that predicts whether or not someone will respond to an offer. Or, you don't need to build a machine learning model at all. You could develop a set of heuristics that determine what offer you should send to each customer (i.e., 75 percent of women customers who were 35 years old responded to offer A vs 40 percent from the same demographic to offer B, so send offer A)."
   ]
  },
  {
   "cell_type": "markdown",
   "metadata": {},
   "source": [
    "# Data Sets\n",
    "\n",
    "The data is contained in three files:\n",
    "\n",
    "* portfolio.json - containing offer ids and meta data about each offer (duration, type, etc.)\n",
    "* profile.json - demographic data for each customer\n",
    "* transcript.json - records for transactions, offers received, offers viewed, and offers completed\n",
    "\n",
    "Here is the schema and explanation of each variable in the files:\n",
    "\n",
    "**portfolio.json**\n",
    "* id (string) - offer id\n",
    "* offer_type (string) - type of offer ie BOGO, discount, informational\n",
    "* difficulty (int) - minimum required spend to complete an offer\n",
    "* reward (int) - reward given for completing an offer\n",
    "* duration (int) - time for offer to be open, in days\n",
    "* channels (list of strings)\n",
    "\n",
    "**profile.json**\n",
    "* age (int) - age of the customer \n",
    "* became_member_on (int) - date when customer created an app account\n",
    "* gender (str) - gender of the customer (note some entries contain 'O' for other rather than M or F)\n",
    "* id (str) - customer id\n",
    "* income (float) - customer's income\n",
    "\n",
    "**transcript.json**\n",
    "* event (str) - record description (ie transaction, offer received, offer viewed, etc.)\n",
    "* person (str) - customer id\n",
    "* time (int) - time in hours since start of test. The data begins at time t=0\n",
    "* value - (dict of strings) - either an offer id or transaction amount depending on the record\n",
    "\n",
    "**Note:** If you are using the workspace, you will need to go to the terminal and run the command `conda update pandas` before reading in the files. This is because the version of pandas in the workspace cannot read in the transcript.json file correctly, but the newest version of pandas can. You can access the termnal from the orange icon in the top left of this notebook.  \n",
    "\n",
    "You can see how to access the terminal and how the install works using the two images below.  First you need to access the terminal:\n",
    "\n",
    "<img src=\"pic1.png\"/>\n",
    "\n",
    "Then you will want to run the above command:\n",
    "\n",
    "<img src=\"pic2.png\"/>\n",
    "\n",
    "Finally, when you enter back into the notebook (use the jupyter icon again), you should be able to run the below cell without any errors."
   ]
  },
  {
   "cell_type": "code",
   "execution_count": 1,
   "metadata": {
    "collapsed": true
   },
   "outputs": [],
   "source": [
    "import pandas as pd\n",
    "import numpy as np\n",
    "import math\n",
    "import json\n",
    "import matplotlib.pyplot as plt\n",
    "import seaborn as sb\n",
    "%matplotlib inline\n",
    "\n",
    "# read in the json files\n",
    "portfolio = pd.read_json('data/portfolio.json', orient='records', lines=True)\n",
    "profile = pd.read_json('data/profile.json', orient='records', lines=True)\n",
    "transcript = pd.read_json('data/transcript.json', orient='records', lines=True)\n",
    "\n",
    "\n",
    "import warnings\n",
    "warnings.filterwarnings(\"ignore\")"
   ]
  },
  {
   "cell_type": "markdown",
   "metadata": {},
   "source": [
    "# EDA"
   ]
  },
  {
   "cell_type": "markdown",
   "metadata": {},
   "source": [
    "### 1. portfolio dataset"
   ]
  },
  {
   "cell_type": "code",
   "execution_count": 2,
   "metadata": {
    "collapsed": true
   },
   "outputs": [
    {
     "name": "stdout",
     "output_type": "stream",
     "text": [
      "<class 'pandas.core.frame.DataFrame'>\n",
      "RangeIndex: 10 entries, 0 to 9\n",
      "Data columns (total 6 columns):\n",
      " #   Column      Non-Null Count  Dtype \n",
      "---  ------      --------------  ----- \n",
      " 0   reward      10 non-null     int64 \n",
      " 1   channels    10 non-null     object\n",
      " 2   difficulty  10 non-null     int64 \n",
      " 3   duration    10 non-null     int64 \n",
      " 4   offer_type  10 non-null     object\n",
      " 5   id          10 non-null     object\n",
      "dtypes: int64(3), object(3)\n",
      "memory usage: 608.0+ bytes\n"
     ]
    },
    {
     "data": {
      "text/plain": [
       "(   reward                      channels  difficulty  duration     offer_type  \\\n",
       " 0      10       [email, mobile, social]          10         7           bogo   \n",
       " 1      10  [web, email, mobile, social]          10         5           bogo   \n",
       " 2       0          [web, email, mobile]           0         4  informational   \n",
       " 3       5          [web, email, mobile]           5         7           bogo   \n",
       " 4       5                  [web, email]          20        10       discount   \n",
       " \n",
       "                                  id  \n",
       " 0  ae264e3637204a6fb9bb56bc8210ddfd  \n",
       " 1  4d5c57ea9a6940dd891ad53e9dbe8da0  \n",
       " 2  3f207df678b143eea3cee63160fa8bed  \n",
       " 3  9b98b8c7a33c4b65b9aebfe6a799e6d9  \n",
       " 4  0b1e1539f2cc45b7b9fa7c272da2e1d7  ,\n",
       " None)"
      ]
     },
     "execution_count": 2,
     "metadata": {},
     "output_type": "execute_result"
    }
   ],
   "source": [
    "portfolio.head(), portfolio.info()"
   ]
  },
  {
   "cell_type": "code",
   "execution_count": 3,
   "metadata": {
    "collapsed": true
   },
   "outputs": [
    {
     "name": "stdout",
     "output_type": "stream",
     "text": [
      "There is 0 duplicates in offer id.\n"
     ]
    }
   ],
   "source": [
    "id_duplicates = portfolio['id'].duplicated().sum()\n",
    "print('There is {} duplicates in offer id.'.format(id_duplicates))"
   ]
  },
  {
   "cell_type": "code",
   "execution_count": 4,
   "metadata": {
    "collapsed": true
   },
   "outputs": [],
   "source": [
    "# rename id to offer_id\n",
    "portfolio.rename(columns={'id':'offer_id'}, inplace=True)"
   ]
  },
  {
   "cell_type": "code",
   "execution_count": 5,
   "metadata": {
    "collapsed": true
   },
   "outputs": [
    {
     "data": {
      "image/png": "[encoded data removed]",
      "text/plain": [
       "<Figure size 864x360 with 4 Axes>"
      ]
     },
     "metadata": {
      "needs_background": "light"
     },
     "output_type": "display_data"
    }
   ],
   "source": [
    "portfolio.hist(figsize=(12,5), grid=False);"
   ]
  },
  {
   "cell_type": "code",
   "execution_count": 6,
   "metadata": {
    "collapsed": true
   },
   "outputs": [
    {
     "data": {
      "image/png": "[encoded data removed]",
      "text/plain": [
       "<Figure size 432x288 with 1 Axes>"
      ]
     },
     "metadata": {
      "needs_background": "light"
     },
     "output_type": "display_data"
    }
   ],
   "source": [
    "portfolio['channels'].value_counts().plot(kind='bar', title='channels', width=0.75);"
   ]
  },
  {
   "cell_type": "markdown",
   "metadata": {},
   "source": [
    "Most of offers are sending on all channels."
   ]
  },
  {
   "cell_type": "code",
   "execution_count": 7,
   "metadata": {
    "collapsed": true
   },
   "outputs": [
    {
     "data": {
      "image/png": "[encoded data removed]",
      "text/plain": [
       "<Figure size 432x288 with 1 Axes>"
      ]
     },
     "metadata": {
      "needs_background": "light"
     },
     "output_type": "display_data"
    }
   ],
   "source": [
    "portfolio['offer_type'].value_counts().plot(kind='bar', title='offer type', width=0.75);"
   ]
  },
  {
   "cell_type": "code",
   "execution_count": 8,
   "metadata": {
    "collapsed": true
   },
   "outputs": [],
   "source": [
    "# clean channel\n",
    "channels = pd.get_dummies(portfolio['channels'].apply(pd.Series).stack()).sum(level=0)\n",
    "portfolio_new = portfolio.merge(channels, left_index=True, right_index=True)\n",
    "portfolio_new = portfolio_new.drop('channels', axis=1)"
   ]
  },
  {
   "cell_type": "code",
   "execution_count": 9,
   "metadata": {
    "collapsed": true
   },
   "outputs": [],
   "source": [
    "# clean offer_type\n",
    "offer_type = pd.get_dummies(portfolio_new['offer_type'])\n",
    "portfolio_new.merge(offer_type, left_index=True, right_index=True)\n",
    "portfolio_new = portfolio_new.drop('offer_type', axis=1)"
   ]
  },
  {
   "cell_type": "markdown",
   "metadata": {},
   "source": [
    "### 2. profile dataset"
   ]
  },
  {
   "cell_type": "code",
   "execution_count": 10,
   "metadata": {
    "collapsed": true
   },
   "outputs": [
    {
     "name": "stdout",
     "output_type": "stream",
     "text": [
      "<class 'pandas.core.frame.DataFrame'>\n",
      "RangeIndex: 17000 entries, 0 to 16999\n",
      "Data columns (total 5 columns):\n",
      " #   Column            Non-Null Count  Dtype  \n",
      "---  ------            --------------  -----  \n",
      " 0   gender            14825 non-null  object \n",
      " 1   age               17000 non-null  int64  \n",
      " 2   id                17000 non-null  object \n",
      " 3   became_member_on  17000 non-null  int64  \n",
      " 4   income            14825 non-null  float64\n",
      "dtypes: float64(1), int64(2), object(2)\n",
      "memory usage: 664.2+ KB\n"
     ]
    },
    {
     "data": {
      "text/plain": [
       "(  gender  age                                id  became_member_on    income\n",
       " 0   None  118  68be06ca386d4c31939f3a4f0e3dd783          20170212       NaN\n",
       " 1      F   55  0610b486422d4921ae7d2bf64640c50b          20170715  112000.0\n",
       " 2   None  118  38fe809add3b4fcf9315a9694bb96ff5          20180712       NaN\n",
       " 3      F   75  78afa995795e4d85b5d9ceeca43f5fef          20170509  100000.0\n",
       " 4   None  118  a03223e636434f42ac4c3df47e8bac43          20170804       NaN,\n",
       " None)"
      ]
     },
     "execution_count": 10,
     "metadata": {},
     "output_type": "execute_result"
    }
   ],
   "source": [
    "profile.head(), profile.info()"
   ]
  },
  {
   "cell_type": "code",
   "execution_count": 11,
   "metadata": {
    "collapsed": true
   },
   "outputs": [
    {
     "data": {
      "image/png": "[encoded data removed]",
      "text/plain": [
       "<Figure size 864x360 with 4 Axes>"
      ]
     },
     "metadata": {
      "needs_background": "light"
     },
     "output_type": "display_data"
    }
   ],
   "source": [
    "profile.hist(figsize=(12,5), grid=False);"
   ]
  },
  {
   "cell_type": "markdown",
   "metadata": {},
   "source": [
    "In age distribution, there are some ages above 100, which doesn't seem to be correct."
   ]
  },
  {
   "cell_type": "code",
   "execution_count": 12,
   "metadata": {
    "collapsed": true
   },
   "outputs": [
    {
     "data": {
      "text/html": [
       "<div>\n",
       "<style scoped>\n",
       "    .dataframe tbody tr th:only-of-type {\n",
       "        vertical-align: middle;\n",
       "    }\n",
       "\n",
       "    .dataframe tbody tr th {\n",
       "        vertical-align: top;\n",
       "    }\n",
       "\n",
       "    .dataframe thead th {\n",
       "        text-align: right;\n",
       "    }\n",
       "</style>\n",
       "<table border=\"1\" class=\"dataframe\">\n",
       "  <thead>\n",
       "    <tr style=\"text-align: right;\">\n",
       "      <th></th>\n",
       "      <th>gender</th>\n",
       "      <th>age</th>\n",
       "      <th>id</th>\n",
       "      <th>became_member_on</th>\n",
       "      <th>income</th>\n",
       "    </tr>\n",
       "  </thead>\n",
       "  <tbody>\n",
       "    <tr>\n",
       "      <th>0</th>\n",
       "      <td>None</td>\n",
       "      <td>118</td>\n",
       "      <td>68be06ca386d4c31939f3a4f0e3dd783</td>\n",
       "      <td>20170212</td>\n",
       "      <td>NaN</td>\n",
       "    </tr>\n",
       "    <tr>\n",
       "      <th>2</th>\n",
       "      <td>None</td>\n",
       "      <td>118</td>\n",
       "      <td>38fe809add3b4fcf9315a9694bb96ff5</td>\n",
       "      <td>20180712</td>\n",
       "      <td>NaN</td>\n",
       "    </tr>\n",
       "    <tr>\n",
       "      <th>4</th>\n",
       "      <td>None</td>\n",
       "      <td>118</td>\n",
       "      <td>a03223e636434f42ac4c3df47e8bac43</td>\n",
       "      <td>20170804</td>\n",
       "      <td>NaN</td>\n",
       "    </tr>\n",
       "    <tr>\n",
       "      <th>6</th>\n",
       "      <td>None</td>\n",
       "      <td>118</td>\n",
       "      <td>8ec6ce2a7e7949b1bf142def7d0e0586</td>\n",
       "      <td>20170925</td>\n",
       "      <td>NaN</td>\n",
       "    </tr>\n",
       "    <tr>\n",
       "      <th>7</th>\n",
       "      <td>None</td>\n",
       "      <td>118</td>\n",
       "      <td>68617ca6246f4fbc85e91a2a49552598</td>\n",
       "      <td>20171002</td>\n",
       "      <td>NaN</td>\n",
       "    </tr>\n",
       "    <tr>\n",
       "      <th>...</th>\n",
       "      <td>...</td>\n",
       "      <td>...</td>\n",
       "      <td>...</td>\n",
       "      <td>...</td>\n",
       "      <td>...</td>\n",
       "    </tr>\n",
       "    <tr>\n",
       "      <th>16980</th>\n",
       "      <td>None</td>\n",
       "      <td>118</td>\n",
       "      <td>5c686d09ca4d475a8f750f2ba07e0440</td>\n",
       "      <td>20160901</td>\n",
       "      <td>NaN</td>\n",
       "    </tr>\n",
       "    <tr>\n",
       "      <th>16982</th>\n",
       "      <td>None</td>\n",
       "      <td>118</td>\n",
       "      <td>d9ca82f550ac4ee58b6299cf1e5c824a</td>\n",
       "      <td>20160415</td>\n",
       "      <td>NaN</td>\n",
       "    </tr>\n",
       "    <tr>\n",
       "      <th>16989</th>\n",
       "      <td>None</td>\n",
       "      <td>118</td>\n",
       "      <td>ca45ee1883624304bac1e4c8a114f045</td>\n",
       "      <td>20180305</td>\n",
       "      <td>NaN</td>\n",
       "    </tr>\n",
       "    <tr>\n",
       "      <th>16991</th>\n",
       "      <td>None</td>\n",
       "      <td>118</td>\n",
       "      <td>a9a20fa8b5504360beb4e7c8712f8306</td>\n",
       "      <td>20160116</td>\n",
       "      <td>NaN</td>\n",
       "    </tr>\n",
       "    <tr>\n",
       "      <th>16994</th>\n",
       "      <td>None</td>\n",
       "      <td>118</td>\n",
       "      <td>c02b10e8752c4d8e9b73f918558531f7</td>\n",
       "      <td>20151211</td>\n",
       "      <td>NaN</td>\n",
       "    </tr>\n",
       "  </tbody>\n",
       "</table>\n",
       "<p>2192 rows × 5 columns</p>\n",
       "</div>"
      ],
      "text/plain": [
       "      gender  age                                id  became_member_on  income\n",
       "0       None  118  68be06ca386d4c31939f3a4f0e3dd783          20170212     NaN\n",
       "2       None  118  38fe809add3b4fcf9315a9694bb96ff5          20180712     NaN\n",
       "4       None  118  a03223e636434f42ac4c3df47e8bac43          20170804     NaN\n",
       "6       None  118  8ec6ce2a7e7949b1bf142def7d0e0586          20170925     NaN\n",
       "7       None  118  68617ca6246f4fbc85e91a2a49552598          20171002     NaN\n",
       "...      ...  ...                               ...               ...     ...\n",
       "16980   None  118  5c686d09ca4d475a8f750f2ba07e0440          20160901     NaN\n",
       "16982   None  118  d9ca82f550ac4ee58b6299cf1e5c824a          20160415     NaN\n",
       "16989   None  118  ca45ee1883624304bac1e4c8a114f045          20180305     NaN\n",
       "16991   None  118  a9a20fa8b5504360beb4e7c8712f8306          20160116     NaN\n",
       "16994   None  118  c02b10e8752c4d8e9b73f918558531f7          20151211     NaN\n",
       "\n",
       "[2192 rows x 5 columns]"
      ]
     },
     "execution_count": 12,
     "metadata": {},
     "output_type": "execute_result"
    }
   ],
   "source": [
    "# check and clean age over 100\n",
    "profile[profile['age']>=100]"
   ]
  },
  {
   "cell_type": "code",
   "execution_count": 13,
   "metadata": {
    "collapsed": true
   },
   "outputs": [
    {
     "data": {
      "text/plain": [
       "gender              2175\n",
       "age                    0\n",
       "id                     0\n",
       "became_member_on       0\n",
       "income              2175\n",
       "dtype: int64"
      ]
     },
     "execution_count": 13,
     "metadata": {},
     "output_type": "execute_result"
    }
   ],
   "source": [
    "# none values in age and income for ages over 100\n",
    "profile[profile['age']>=100].isnull().sum()"
   ]
  },
  {
   "cell_type": "code",
   "execution_count": 14,
   "metadata": {
    "collapsed": true
   },
   "outputs": [
    {
     "name": "stdout",
     "output_type": "stream",
     "text": [
      "<class 'pandas.core.frame.DataFrame'>\n",
      "Int64Index: 14808 entries, 1 to 16999\n",
      "Data columns (total 5 columns):\n",
      " #   Column            Non-Null Count  Dtype  \n",
      "---  ------            --------------  -----  \n",
      " 0   gender            14808 non-null  object \n",
      " 1   age               14808 non-null  int64  \n",
      " 2   id                14808 non-null  object \n",
      " 3   became_member_on  14808 non-null  int64  \n",
      " 4   income            14808 non-null  float64\n",
      "dtypes: float64(1), int64(2), object(2)\n",
      "memory usage: 694.1+ KB\n"
     ]
    }
   ],
   "source": [
    "# ages over 100 have no values in gender and income, drop rows when ages are over 100\n",
    "drop_age = profile[profile['age']>=100].index\n",
    "\n",
    "profile = profile.drop(axis=0, index=drop_age)\n",
    "profile.info()"
   ]
  },
  {
   "cell_type": "code",
   "execution_count": 15,
   "metadata": {
    "collapsed": true
   },
   "outputs": [
    {
     "data": {
      "text/plain": [
       "gender              0\n",
       "age                 0\n",
       "id                  0\n",
       "became_member_on    0\n",
       "income              0\n",
       "dtype: int64"
      ]
     },
     "execution_count": 15,
     "metadata": {},
     "output_type": "execute_result"
    }
   ],
   "source": [
    "# after dropping ages over 100, there are no values any more\n",
    "profile.isnull().sum()"
   ]
  },
  {
   "cell_type": "code",
   "execution_count": 16,
   "metadata": {
    "collapsed": true
   },
   "outputs": [
    {
     "data": {
      "text/plain": [
       "0"
      ]
     },
     "execution_count": 16,
     "metadata": {},
     "output_type": "execute_result"
    }
   ],
   "source": [
    "# no duplicates in customer id\n",
    "profile['id'].duplicated().sum()"
   ]
  },
  {
   "cell_type": "code",
   "execution_count": 17,
   "metadata": {
    "collapsed": true
   },
   "outputs": [],
   "source": [
    "# rename id to customer_id\n",
    "profile.rename(columns={'id':'customer_id'}, inplace=True)"
   ]
  },
  {
   "cell_type": "code",
   "execution_count": 18,
   "metadata": {
    "collapsed": true
   },
   "outputs": [
    {
     "data": {
      "image/png": "[encoded data removed]",
      "text/plain": [
       "<Figure size 864x360 with 4 Axes>"
      ]
     },
     "metadata": {
      "needs_background": "light"
     },
     "output_type": "display_data"
    }
   ],
   "source": [
    "# distribution of numerical values seem better now\n",
    "profile.hist(figsize=(12,5), grid=False);"
   ]
  },
  {
   "cell_type": "markdown",
   "metadata": {},
   "source": [
    "- age is quite normal distribution, centralized at 50 to 60.\n",
    "- became_member_on is left skewed, most customers (6500) became members in 2017 and 2018.\n",
    "- income is right skewed, mode is at around 70000."
   ]
  },
  {
   "cell_type": "code",
   "execution_count": 19,
   "metadata": {
    "collapsed": true
   },
   "outputs": [
    {
     "data": {
      "text/html": [
       "<div>\n",
       "<style scoped>\n",
       "    .dataframe tbody tr th:only-of-type {\n",
       "        vertical-align: middle;\n",
       "    }\n",
       "\n",
       "    .dataframe tbody tr th {\n",
       "        vertical-align: top;\n",
       "    }\n",
       "\n",
       "    .dataframe thead th {\n",
       "        text-align: right;\n",
       "    }\n",
       "</style>\n",
       "<table border=\"1\" class=\"dataframe\">\n",
       "  <thead>\n",
       "    <tr style=\"text-align: right;\">\n",
       "      <th></th>\n",
       "      <th>age</th>\n",
       "      <th>became_member_on</th>\n",
       "      <th>income</th>\n",
       "    </tr>\n",
       "  </thead>\n",
       "  <tbody>\n",
       "    <tr>\n",
       "      <th>count</th>\n",
       "      <td>14808.000000</td>\n",
       "      <td>1.480800e+04</td>\n",
       "      <td>14808.000000</td>\n",
       "    </tr>\n",
       "    <tr>\n",
       "      <th>mean</th>\n",
       "      <td>54.340829</td>\n",
       "      <td>2.016689e+07</td>\n",
       "      <td>65394.313884</td>\n",
       "    </tr>\n",
       "    <tr>\n",
       "      <th>std</th>\n",
       "      <td>17.323921</td>\n",
       "      <td>1.188748e+04</td>\n",
       "      <td>21595.072904</td>\n",
       "    </tr>\n",
       "    <tr>\n",
       "      <th>min</th>\n",
       "      <td>18.000000</td>\n",
       "      <td>2.013073e+07</td>\n",
       "      <td>30000.000000</td>\n",
       "    </tr>\n",
       "    <tr>\n",
       "      <th>25%</th>\n",
       "      <td>42.000000</td>\n",
       "      <td>2.016052e+07</td>\n",
       "      <td>49000.000000</td>\n",
       "    </tr>\n",
       "    <tr>\n",
       "      <th>50%</th>\n",
       "      <td>55.000000</td>\n",
       "      <td>2.017080e+07</td>\n",
       "      <td>64000.000000</td>\n",
       "    </tr>\n",
       "    <tr>\n",
       "      <th>75%</th>\n",
       "      <td>66.000000</td>\n",
       "      <td>2.017123e+07</td>\n",
       "      <td>80000.000000</td>\n",
       "    </tr>\n",
       "    <tr>\n",
       "      <th>max</th>\n",
       "      <td>99.000000</td>\n",
       "      <td>2.018073e+07</td>\n",
       "      <td>120000.000000</td>\n",
       "    </tr>\n",
       "  </tbody>\n",
       "</table>\n",
       "</div>"
      ],
      "text/plain": [
       "                age  became_member_on         income\n",
       "count  14808.000000      1.480800e+04   14808.000000\n",
       "mean      54.340829      2.016689e+07   65394.313884\n",
       "std       17.323921      1.188748e+04   21595.072904\n",
       "min       18.000000      2.013073e+07   30000.000000\n",
       "25%       42.000000      2.016052e+07   49000.000000\n",
       "50%       55.000000      2.017080e+07   64000.000000\n",
       "75%       66.000000      2.017123e+07   80000.000000\n",
       "max       99.000000      2.018073e+07  120000.000000"
      ]
     },
     "execution_count": 19,
     "metadata": {},
     "output_type": "execute_result"
    }
   ],
   "source": [
    "profile.describe()"
   ]
  },
  {
   "cell_type": "markdown",
   "metadata": {},
   "source": [
    "- Most customers sit in age group 50 to 60. Will use the 25%, 50% and 75% as a criteria to seperate customers into different age groups."
   ]
  },
  {
   "cell_type": "code",
   "execution_count": 20,
   "metadata": {
    "collapsed": true
   },
   "outputs": [
    {
     "data": {
      "image/png": "[encoded data removed]",
      "text/plain": [
       "<Figure size 432x288 with 1 Axes>"
      ]
     },
     "metadata": {
      "needs_background": "light"
     },
     "output_type": "display_data"
    }
   ],
   "source": [
    "profile['gender'].value_counts().plot(kind='bar', title='customer gender', width=0.75);"
   ]
  },
  {
   "cell_type": "markdown",
   "metadata": {},
   "source": [
    "In customer gender group, males (8000) are more than females (6000)."
   ]
  },
  {
   "cell_type": "code",
   "execution_count": 21,
   "metadata": {
    "collapsed": true
   },
   "outputs": [
    {
     "data": {
      "image/png": "[encoded data removed]",
      "text/plain": [
       "<Figure size 1440x288 with 3 Axes>"
      ]
     },
     "metadata": {
      "needs_background": "light"
     },
     "output_type": "display_data"
    }
   ],
   "source": [
    "# seperate became_member_on value to year, month, day as single feature\n",
    "profile['became_member_on_year'] = profile['became_member_on'].apply(lambda x: int(str(x)[:4]))\n",
    "profile['became_member_on_month'] = profile['became_member_on'].apply(lambda x: int(str(x)[4:6]))\n",
    "profile['became_member_on_day'] = profile['became_member_on'].apply(lambda x: int(str(x)[6:8]))\n",
    "\n",
    "# plot to see pattern\n",
    "fig, ax = plt.subplots(1, 3, figsize=(20,4), sharey=True)\n",
    "ax[0].hist(profile['became_member_on_year'])\n",
    "ax[0].set_title('distribution of became_member_on_year')\n",
    "\n",
    "ax[1].hist(profile['became_member_on_month'])\n",
    "ax[1].set_title('distribution of became_member_on_month')\n",
    "\n",
    "ax[2].hist(profile['became_member_on_day'])\n",
    "ax[2].set_title('distribution of became_member_on_day');"
   ]
  },
  {
   "cell_type": "markdown",
   "metadata": {},
   "source": [
    "- Most customers became member in 2017 and 2018, in Jan to Mar.\n",
    "- It seems the impact of year on number of customers are big, as well as month (Nov to Feb), however day as a feature has very small impact."
   ]
  },
  {
   "cell_type": "code",
   "execution_count": 22,
   "metadata": {
    "collapsed": true
   },
   "outputs": [],
   "source": [
    "def profile_cleaning():\n",
    "    \"\"\" Method to clean up profile dataset,\n",
    "        it first encode gender,\n",
    "        then split age group into bins,\n",
    "        encode became_member_on,\n",
    "        at last encode age group.\n",
    "    \n",
    "    Inputs: none\n",
    "    Outputs: a cleaned new dataset, dataframe\n",
    "    \n",
    "    \"\"\"\n",
    "    # transform gender into dummy\n",
    "    profile_gender = pd.get_dummies(profile['gender'])\n",
    "    profile_new_df = profile_gender.merge(profile, left_on=profile.index, right_on=profile_gender.index)\n",
    "    \n",
    "    # drop old gender feature and the other extra\n",
    "    profile_new_df = profile_new_df.drop(['gender','key_0'], axis=1)\n",
    "    \n",
    "    # split age into different groups\n",
    "    perc_25 = profile['age'].describe()[4]\n",
    "    perc_50 = profile['age'].describe()[5]\n",
    "    perc_75 = profile['age'].describe()[6]\n",
    "    perc_min = profile['age'].min()\n",
    "    perc_max = profile['age'].max()\n",
    "    \n",
    "    # set bins and names\n",
    "    bins_edge = [perc_min, perc_25, perc_50, perc_75, perc_max]\n",
    "    bins_names = ['18_42', '42_55', '55_66', '66_99']\n",
    "    \n",
    "    # cut bins\n",
    "    profile_new_df['age_group'] = pd.cut(profile['age'], bins_edge, labels=bins_names)\n",
    "    profile['age_group'] = pd.cut(profile['age'], bins_edge, labels=bins_names)\n",
    "    \n",
    "    # encode age\n",
    "    profile_age = pd.get_dummies(profile_new_df['age_group'])\n",
    "    profile_new_df = profile_age.merge(profile_new_df, left_on=profile_new_df.index, right_on=profile_age.index)\n",
    "    profile_new_df = profile_new_df.drop(['age','age_group','key_0','became_member_on'], axis=1)\n",
    "    \n",
    "    # encode became_member_on\n",
    "    became_member_on = pd.get_dummies(profile_new_df[['became_member_on_year','became_member_on_month','became_member_on_day']].astype('str'))\n",
    "    profile_new_df = profile_new_df.merge(became_member_on, how='left', left_on=became_member_on.index, right_on=became_member_on.index)\n",
    "    profile_new_df = profile_new_df.drop(['key_0','became_member_on_year','became_member_on_month','became_member_on_day'], axis=1)\n",
    "    \n",
    "    return profile_new_df\n",
    "\n",
    "profile_new = profile_cleaning()"
   ]
  },
  {
   "cell_type": "markdown",
   "metadata": {},
   "source": [
    "### 3. transcript dataset\n",
    "\n",
    "transcript data set is the interaction between profile and portfolio"
   ]
  },
  {
   "cell_type": "code",
   "execution_count": 23,
   "metadata": {
    "collapsed": true
   },
   "outputs": [
    {
     "name": "stdout",
     "output_type": "stream",
     "text": [
      "<class 'pandas.core.frame.DataFrame'>\n",
      "RangeIndex: 306534 entries, 0 to 306533\n",
      "Data columns (total 4 columns):\n",
      " #   Column  Non-Null Count   Dtype \n",
      "---  ------  --------------   ----- \n",
      " 0   person  306534 non-null  object\n",
      " 1   event   306534 non-null  object\n",
      " 2   value   306534 non-null  object\n",
      " 3   time    306534 non-null  int64 \n",
      "dtypes: int64(1), object(3)\n",
      "memory usage: 9.4+ MB\n"
     ]
    },
    {
     "data": {
      "text/plain": [
       "(                             person           event  \\\n",
       " 0  78afa995795e4d85b5d9ceeca43f5fef  offer received   \n",
       " 1  a03223e636434f42ac4c3df47e8bac43  offer received   \n",
       " 2  e2127556f4f64592b11af22de27a7932  offer received   \n",
       " 3  8ec6ce2a7e7949b1bf142def7d0e0586  offer received   \n",
       " 4  68617ca6246f4fbc85e91a2a49552598  offer received   \n",
       " \n",
       "                                               value  time  \n",
       " 0  {'offer id': '9b98b8c7a33c4b65b9aebfe6a799e6d9'}     0  \n",
       " 1  {'offer id': '0b1e1539f2cc45b7b9fa7c272da2e1d7'}     0  \n",
       " 2  {'offer id': '2906b810c7d4411798c6938adc9daaa5'}     0  \n",
       " 3  {'offer id': 'fafdcd668e3743c1bb461111dcafc2a4'}     0  \n",
       " 4  {'offer id': '4d5c57ea9a6940dd891ad53e9dbe8da0'}     0  ,\n",
       " None)"
      ]
     },
     "execution_count": 23,
     "metadata": {},
     "output_type": "execute_result"
    }
   ],
   "source": [
    "transcript.head(), transcript.info()"
   ]
  },
  {
   "cell_type": "code",
   "execution_count": 24,
   "metadata": {
    "collapsed": true
   },
   "outputs": [
    {
     "name": "stdout",
     "output_type": "stream",
     "text": [
      "There are 289534 duplicates in person, due to different offers, there is 17000 unique customers\n"
     ]
    }
   ],
   "source": [
    "# duplicates in person\n",
    "person_duplicate = transcript['person'].duplicated().sum()\n",
    "person_unique = transcript['person'].nunique()\n",
    "print('There are {} duplicates in person, due to different offers, there is {} unique customers'.format(person_duplicate, person_unique))"
   ]
  },
  {
   "cell_type": "code",
   "execution_count": 25,
   "metadata": {
    "collapsed": true
   },
   "outputs": [
    {
     "data": {
      "image/png": "[encoded data removed]",
      "text/plain": [
       "<Figure size 432x288 with 1 Axes>"
      ]
     },
     "metadata": {
      "needs_background": "light"
     },
     "output_type": "display_data"
    }
   ],
   "source": [
    "# distribution of numerical values seem better now\n",
    "transcript.hist(grid=False)\n",
    "plt.title('time in hour');"
   ]
  },
  {
   "cell_type": "markdown",
   "metadata": {},
   "source": [
    "Inconsistency of unit between portfolio duration and transcript test time, will transform time in hour to day."
   ]
  },
  {
   "cell_type": "code",
   "execution_count": 26,
   "metadata": {
    "collapsed": true
   },
   "outputs": [
    {
     "data": {
      "image/png": "[encoded data removed]",
      "text/plain": [
       "<Figure size 432x288 with 1 Axes>"
      ]
     },
     "metadata": {
      "needs_background": "light"
     },
     "output_type": "display_data"
    }
   ],
   "source": [
    "# convert transcript test time from hour to day\n",
    "transcript['time_day'] = transcript['time']/24\n",
    "\n",
    "# visualize again\n",
    "transcript['time_day'].hist(grid=False)\n",
    "plt.title('time in day')\n",
    "\n",
    "# drop original column\n",
    "transcript = transcript.drop('time', axis=1);"
   ]
  },
  {
   "cell_type": "code",
   "execution_count": 27,
   "metadata": {
    "collapsed": true
   },
   "outputs": [
    {
     "data": {
      "image/png": "[encoded data removed]",
      "text/plain": [
       "<Figure size 432x288 with 1 Axes>"
      ]
     },
     "metadata": {
      "needs_background": "light"
     },
     "output_type": "display_data"
    }
   ],
   "source": [
    "# look at event\n",
    "transcript['event'].value_counts().plot(kind='bar', title='offer recevied', width=0.75);"
   ]
  },
  {
   "cell_type": "code",
   "execution_count": 28,
   "metadata": {
    "collapsed": true
   },
   "outputs": [],
   "source": [
    "def clean_value_col():\n",
    "    \"\"\"split value column of transcript into 3 columns amount, offer_id, reward\n",
    "    \n",
    "    Inputs: none\n",
    "    Outputs: 3 new columns as a new dataset, dataframe\n",
    "    \"\"\"\n",
    "    # split value column\n",
    "    values = pd.json_normalize(transcript['value'])\n",
    "    \n",
    "    # get not null values in offer_id\n",
    "    values_offer_id = values[values['offer id'].isnull()==False]\n",
    "    \n",
    "    # fill with original index\n",
    "    filled_offers = values_offer_id.assign(offer_id=values_offer_id['offer id'])\n",
    "    values_old = values.drop(values_offer_id.index, axis=0)\n",
    "    values_new = values_old.append(filled_offers)\n",
    "    values_new = values_new.drop(['offer id'], axis=1)\n",
    "    \n",
    "    return values_new\n",
    "\n",
    "values_new = clean_value_col()"
   ]
  },
  {
   "cell_type": "markdown",
   "metadata": {},
   "source": [
    "reference: https://stackoverflow.com/questions/38231591/split-explode-a-column-of-dictionaries-into-separate-columns-with-pandas"
   ]
  },
  {
   "cell_type": "code",
   "execution_count": 29,
   "metadata": {
    "collapsed": true
   },
   "outputs": [],
   "source": [
    "# merge new values columns back to transcript\n",
    "transcript = transcript.merge(values_new, how='inner', left_index=True, right_index=True)\n",
    "transcript = transcript.drop(['value'], axis=1)"
   ]
  },
  {
   "cell_type": "code",
   "execution_count": 30,
   "metadata": {},
   "outputs": [
    {
     "data": {
      "image/png": "[encoded data removed]",
      "text/plain": [
       "<Figure size 576x360 with 4 Axes>"
      ]
     },
     "metadata": {
      "needs_background": "light"
     },
     "output_type": "display_data"
    }
   ],
   "source": [
    "# look at distribution of numeric features in transcript\n",
    "transcript.hist(figsize=(8,5), grid=False);"
   ]
  },
  {
   "cell_type": "code",
   "execution_count": 31,
   "metadata": {},
   "outputs": [
    {
     "data": {
      "text/plain": [
       "count    138953.000000\n",
       "mean         12.777356\n",
       "std          30.250529\n",
       "min           0.050000\n",
       "25%           2.780000\n",
       "50%           8.890000\n",
       "75%          18.070000\n",
       "max        1062.280000\n",
       "Name: amount, dtype: float64"
      ]
     },
     "execution_count": 31,
     "metadata": {},
     "output_type": "execute_result"
    },
    {
     "data": {
      "image/png": "[encoded data removed]",
      "text/plain": [
       "<Figure size 432x288 with 1 Axes>"
      ]
     },
     "metadata": {
      "needs_background": "light"
     },
     "output_type": "display_data"
    }
   ],
   "source": [
    "# as amount in previous plot is too squeezy, look at it seperately\n",
    "plt.boxplot(transcript[transcript['amount'].isnull()==False]['amount'])\n",
    "transcript[transcript['amount'].isnull()==False]['amount'].describe()"
   ]
  },
  {
   "cell_type": "code",
   "execution_count": 32,
   "metadata": {},
   "outputs": [
    {
     "name": "stdout",
     "output_type": "stream",
     "text": [
      "<class 'pandas.core.frame.DataFrame'>\n",
      "Int64Index: 306534 entries, 0 to 306533\n",
      "Data columns (total 6 columns):\n",
      " #   Column    Non-Null Count   Dtype  \n",
      "---  ------    --------------   -----  \n",
      " 0   person    306534 non-null  object \n",
      " 1   event     306534 non-null  object \n",
      " 2   time_day  306534 non-null  float64\n",
      " 3   amount    138953 non-null  float64\n",
      " 4   offer_id  167581 non-null  object \n",
      " 5   reward    33579 non-null   float64\n",
      "dtypes: float64(3), object(3)\n",
      "memory usage: 16.4+ MB\n"
     ]
    }
   ],
   "source": [
    "transcript.info()"
   ]
  },
  {
   "cell_type": "markdown",
   "metadata": {},
   "source": [
    "amount has a huge range from 1062 to 0.05, with average as 12.7."
   ]
  },
  {
   "cell_type": "code",
   "execution_count": 33,
   "metadata": {
    "collapsed": true
   },
   "outputs": [],
   "source": [
    "# rename person to customer id\n",
    "transcript.rename(columns={'person':'customer_id'}, inplace=True)"
   ]
  },
  {
   "cell_type": "code",
   "execution_count": 34,
   "metadata": {},
   "outputs": [
    {
     "data": {
      "text/html": [
       "<div>\n",
       "<style scoped>\n",
       "    .dataframe tbody tr th:only-of-type {\n",
       "        vertical-align: middle;\n",
       "    }\n",
       "\n",
       "    .dataframe tbody tr th {\n",
       "        vertical-align: top;\n",
       "    }\n",
       "\n",
       "    .dataframe thead th {\n",
       "        text-align: right;\n",
       "    }\n",
       "</style>\n",
       "<table border=\"1\" class=\"dataframe\">\n",
       "  <thead>\n",
       "    <tr style=\"text-align: right;\">\n",
       "      <th></th>\n",
       "      <th>customer_id</th>\n",
       "      <th>event</th>\n",
       "      <th>time_day</th>\n",
       "      <th>amount</th>\n",
       "      <th>offer_id</th>\n",
       "      <th>reward</th>\n",
       "    </tr>\n",
       "  </thead>\n",
       "  <tbody>\n",
       "    <tr>\n",
       "      <th>0</th>\n",
       "      <td>78afa995795e4d85b5d9ceeca43f5fef</td>\n",
       "      <td>offer received</td>\n",
       "      <td>0.00</td>\n",
       "      <td>NaN</td>\n",
       "      <td>9b98b8c7a33c4b65b9aebfe6a799e6d9</td>\n",
       "      <td>NaN</td>\n",
       "    </tr>\n",
       "    <tr>\n",
       "      <th>15561</th>\n",
       "      <td>78afa995795e4d85b5d9ceeca43f5fef</td>\n",
       "      <td>offer viewed</td>\n",
       "      <td>0.25</td>\n",
       "      <td>NaN</td>\n",
       "      <td>9b98b8c7a33c4b65b9aebfe6a799e6d9</td>\n",
       "      <td>NaN</td>\n",
       "    </tr>\n",
       "    <tr>\n",
       "      <th>47582</th>\n",
       "      <td>78afa995795e4d85b5d9ceeca43f5fef</td>\n",
       "      <td>transaction</td>\n",
       "      <td>5.50</td>\n",
       "      <td>19.89</td>\n",
       "      <td>NaN</td>\n",
       "      <td>NaN</td>\n",
       "    </tr>\n",
       "    <tr>\n",
       "      <th>47583</th>\n",
       "      <td>78afa995795e4d85b5d9ceeca43f5fef</td>\n",
       "      <td>offer completed</td>\n",
       "      <td>5.50</td>\n",
       "      <td>NaN</td>\n",
       "      <td>9b98b8c7a33c4b65b9aebfe6a799e6d9</td>\n",
       "      <td>5.0</td>\n",
       "    </tr>\n",
       "    <tr>\n",
       "      <th>49502</th>\n",
       "      <td>78afa995795e4d85b5d9ceeca43f5fef</td>\n",
       "      <td>transaction</td>\n",
       "      <td>6.00</td>\n",
       "      <td>17.78</td>\n",
       "      <td>NaN</td>\n",
       "      <td>NaN</td>\n",
       "    </tr>\n",
       "    <tr>\n",
       "      <th>53176</th>\n",
       "      <td>78afa995795e4d85b5d9ceeca43f5fef</td>\n",
       "      <td>offer received</td>\n",
       "      <td>7.00</td>\n",
       "      <td>NaN</td>\n",
       "      <td>5a8bc65990b245e5a138643cd4eb9837</td>\n",
       "      <td>NaN</td>\n",
       "    </tr>\n",
       "    <tr>\n",
       "      <th>85291</th>\n",
       "      <td>78afa995795e4d85b5d9ceeca43f5fef</td>\n",
       "      <td>offer viewed</td>\n",
       "      <td>9.00</td>\n",
       "      <td>NaN</td>\n",
       "      <td>5a8bc65990b245e5a138643cd4eb9837</td>\n",
       "      <td>NaN</td>\n",
       "    </tr>\n",
       "    <tr>\n",
       "      <th>87134</th>\n",
       "      <td>78afa995795e4d85b5d9ceeca43f5fef</td>\n",
       "      <td>transaction</td>\n",
       "      <td>9.25</td>\n",
       "      <td>19.67</td>\n",
       "      <td>NaN</td>\n",
       "      <td>NaN</td>\n",
       "    </tr>\n",
       "    <tr>\n",
       "      <th>92104</th>\n",
       "      <td>78afa995795e4d85b5d9ceeca43f5fef</td>\n",
       "      <td>transaction</td>\n",
       "      <td>10.00</td>\n",
       "      <td>29.72</td>\n",
       "      <td>NaN</td>\n",
       "      <td>NaN</td>\n",
       "    </tr>\n",
       "    <tr>\n",
       "      <th>141566</th>\n",
       "      <td>78afa995795e4d85b5d9ceeca43f5fef</td>\n",
       "      <td>transaction</td>\n",
       "      <td>15.75</td>\n",
       "      <td>23.93</td>\n",
       "      <td>NaN</td>\n",
       "      <td>NaN</td>\n",
       "    </tr>\n",
       "    <tr>\n",
       "      <th>150598</th>\n",
       "      <td>78afa995795e4d85b5d9ceeca43f5fef</td>\n",
       "      <td>offer received</td>\n",
       "      <td>17.00</td>\n",
       "      <td>NaN</td>\n",
       "      <td>ae264e3637204a6fb9bb56bc8210ddfd</td>\n",
       "      <td>NaN</td>\n",
       "    </tr>\n",
       "    <tr>\n",
       "      <th>163375</th>\n",
       "      <td>78afa995795e4d85b5d9ceeca43f5fef</td>\n",
       "      <td>offer viewed</td>\n",
       "      <td>17.00</td>\n",
       "      <td>NaN</td>\n",
       "      <td>ae264e3637204a6fb9bb56bc8210ddfd</td>\n",
       "      <td>NaN</td>\n",
       "    </tr>\n",
       "    <tr>\n",
       "      <th>201572</th>\n",
       "      <td>78afa995795e4d85b5d9ceeca43f5fef</td>\n",
       "      <td>offer received</td>\n",
       "      <td>21.00</td>\n",
       "      <td>NaN</td>\n",
       "      <td>f19421c1d4aa40978ebb69ca19b0e20d</td>\n",
       "      <td>NaN</td>\n",
       "    </tr>\n",
       "    <tr>\n",
       "      <th>218393</th>\n",
       "      <td>78afa995795e4d85b5d9ceeca43f5fef</td>\n",
       "      <td>transaction</td>\n",
       "      <td>21.25</td>\n",
       "      <td>21.72</td>\n",
       "      <td>NaN</td>\n",
       "      <td>NaN</td>\n",
       "    </tr>\n",
       "    <tr>\n",
       "      <th>218394</th>\n",
       "      <td>78afa995795e4d85b5d9ceeca43f5fef</td>\n",
       "      <td>offer completed</td>\n",
       "      <td>21.25</td>\n",
       "      <td>NaN</td>\n",
       "      <td>ae264e3637204a6fb9bb56bc8210ddfd</td>\n",
       "      <td>10.0</td>\n",
       "    </tr>\n",
       "    <tr>\n",
       "      <th>218395</th>\n",
       "      <td>78afa995795e4d85b5d9ceeca43f5fef</td>\n",
       "      <td>offer completed</td>\n",
       "      <td>21.25</td>\n",
       "      <td>NaN</td>\n",
       "      <td>f19421c1d4aa40978ebb69ca19b0e20d</td>\n",
       "      <td>5.0</td>\n",
       "    </tr>\n",
       "    <tr>\n",
       "      <th>230412</th>\n",
       "      <td>78afa995795e4d85b5d9ceeca43f5fef</td>\n",
       "      <td>transaction</td>\n",
       "      <td>22.25</td>\n",
       "      <td>26.56</td>\n",
       "      <td>NaN</td>\n",
       "      <td>NaN</td>\n",
       "    </tr>\n",
       "    <tr>\n",
       "      <th>262138</th>\n",
       "      <td>78afa995795e4d85b5d9ceeca43f5fef</td>\n",
       "      <td>offer viewed</td>\n",
       "      <td>24.25</td>\n",
       "      <td>NaN</td>\n",
       "      <td>f19421c1d4aa40978ebb69ca19b0e20d</td>\n",
       "      <td>NaN</td>\n",
       "    </tr>\n",
       "  </tbody>\n",
       "</table>\n",
       "</div>"
      ],
      "text/plain": [
       "                             customer_id            event  time_day  amount  \\\n",
       "0       78afa995795e4d85b5d9ceeca43f5fef   offer received      0.00     NaN   \n",
       "15561   78afa995795e4d85b5d9ceeca43f5fef     offer viewed      0.25     NaN   \n",
       "47582   78afa995795e4d85b5d9ceeca43f5fef      transaction      5.50   19.89   \n",
       "47583   78afa995795e4d85b5d9ceeca43f5fef  offer completed      5.50     NaN   \n",
       "49502   78afa995795e4d85b5d9ceeca43f5fef      transaction      6.00   17.78   \n",
       "53176   78afa995795e4d85b5d9ceeca43f5fef   offer received      7.00     NaN   \n",
       "85291   78afa995795e4d85b5d9ceeca43f5fef     offer viewed      9.00     NaN   \n",
       "87134   78afa995795e4d85b5d9ceeca43f5fef      transaction      9.25   19.67   \n",
       "92104   78afa995795e4d85b5d9ceeca43f5fef      transaction     10.00   29.72   \n",
       "141566  78afa995795e4d85b5d9ceeca43f5fef      transaction     15.75   23.93   \n",
       "150598  78afa995795e4d85b5d9ceeca43f5fef   offer received     17.00     NaN   \n",
       "163375  78afa995795e4d85b5d9ceeca43f5fef     offer viewed     17.00     NaN   \n",
       "201572  78afa995795e4d85b5d9ceeca43f5fef   offer received     21.00     NaN   \n",
       "218393  78afa995795e4d85b5d9ceeca43f5fef      transaction     21.25   21.72   \n",
       "218394  78afa995795e4d85b5d9ceeca43f5fef  offer completed     21.25     NaN   \n",
       "218395  78afa995795e4d85b5d9ceeca43f5fef  offer completed     21.25     NaN   \n",
       "230412  78afa995795e4d85b5d9ceeca43f5fef      transaction     22.25   26.56   \n",
       "262138  78afa995795e4d85b5d9ceeca43f5fef     offer viewed     24.25     NaN   \n",
       "\n",
       "                                offer_id  reward  \n",
       "0       9b98b8c7a33c4b65b9aebfe6a799e6d9     NaN  \n",
       "15561   9b98b8c7a33c4b65b9aebfe6a799e6d9     NaN  \n",
       "47582                                NaN     NaN  \n",
       "47583   9b98b8c7a33c4b65b9aebfe6a799e6d9     5.0  \n",
       "49502                                NaN     NaN  \n",
       "53176   5a8bc65990b245e5a138643cd4eb9837     NaN  \n",
       "85291   5a8bc65990b245e5a138643cd4eb9837     NaN  \n",
       "87134                                NaN     NaN  \n",
       "92104                                NaN     NaN  \n",
       "141566                               NaN     NaN  \n",
       "150598  ae264e3637204a6fb9bb56bc8210ddfd     NaN  \n",
       "163375  ae264e3637204a6fb9bb56bc8210ddfd     NaN  \n",
       "201572  f19421c1d4aa40978ebb69ca19b0e20d     NaN  \n",
       "218393                               NaN     NaN  \n",
       "218394  ae264e3637204a6fb9bb56bc8210ddfd    10.0  \n",
       "218395  f19421c1d4aa40978ebb69ca19b0e20d     5.0  \n",
       "230412                               NaN     NaN  \n",
       "262138  f19421c1d4aa40978ebb69ca19b0e20d     NaN  "
      ]
     },
     "execution_count": 34,
     "metadata": {},
     "output_type": "execute_result"
    }
   ],
   "source": [
    "# look at 1 customer and his orders to understand the original dataset\n",
    "transcript[transcript['customer_id']=='78afa995795e4d85b5d9ceeca43f5fef']"
   ]
  },
  {
   "cell_type": "markdown",
   "metadata": {},
   "source": [
    "Above we are using one customer as example to understand the dataset, it seems, for one customer, an effective offer is: <br>\n",
    "- **offer_received -> offer_viewed -> if transaction over offer difficultiy -> offer_completed** <br>\n",
    "\n",
    "Sometimes even an offer is not viewed, it can be completed, this is unintentional offer completed, therefore, we will try identify the effective offers first. <br>\n",
    "As transaction here is used to measure if the offer is completed or not, will drop this feature from here."
   ]
  },
  {
   "cell_type": "code",
   "execution_count": 35,
   "metadata": {
    "collapsed": true
   },
   "outputs": [],
   "source": [
    "def transcript_cleaning():\n",
    "    \"\"\"Encode categorical column (event) of transcript dataset\n",
    "    \n",
    "    Inputs: none\n",
    "    Outputs: new transcript dataset, dataframe\n",
    "    \"\"\"\n",
    "    events = pd.get_dummies(transcript['event'])\n",
    "    transcript_new_df = transcript.merge(events, left_index=True, right_index=True)\n",
    "    transcript_new_df = transcript_new_df.drop('event', axis=1)\n",
    "    \n",
    "    return transcript_new_df\n",
    "\n",
    "transcript_new = transcript_cleaning()"
   ]
  },
  {
   "cell_type": "code",
   "execution_count": 36,
   "metadata": {
    "collapsed": true
   },
   "outputs": [
    {
     "name": "stdout",
     "output_type": "stream",
     "text": [
      "Number of offers per customer is 3.7.\n"
     ]
    }
   ],
   "source": [
    "# how many offers per customer get\n",
    "num_offer_person = transcript_new.groupby('customer_id')['offer_id'].nunique().mean()\n",
    "\n",
    "print('Number of offers per customer is {:.1f}.'.format(num_offer_person))"
   ]
  },
  {
   "cell_type": "code",
   "execution_count": 37,
   "metadata": {
    "collapsed": true
   },
   "outputs": [],
   "source": [
    "# based on previous observation about effective offers, construct a dataset on effective offers\n",
    "\n",
    "def df_effective_offer():\n",
    "    \"\"\" construct a dataset of effective offer, per customer per offer id, \n",
    "        if offer is viewed and completed, that's an effective offer,\n",
    "        if offer is only received or received and viewed, it's an ineffective offer\n",
    "        \n",
    "    Inputs: none\n",
    "    Outputs: effective_offer dataset, dataframe\n",
    "    \n",
    "    \"\"\"\n",
    "    # group transcript df by events\n",
    "    transcript_df = transcript_new.groupby(['customer_id','offer_id'], as_index=False).agg({'offer completed':'sum',\n",
    "                                                                                        'offer received':'sum',\n",
    "                                                                                        'offer viewed':'sum'})\n",
    "    \n",
    "    # construct a new column of effective offer\n",
    "    transcript_df['effective_offer'] = transcript_df['offer completed'] + transcript_df['offer viewed']\n",
    "    transcript_df['effective_offer'] = transcript_df['effective_offer'].apply(lambda x: 1 if x>=2 else 0)\n",
    "    \n",
    "    # drop columns offer_completed, offer_received, offer_viewed\n",
    "    effective_offer = transcript_df.drop(['offer completed','offer received', 'offer viewed'], axis=1)\n",
    "    \n",
    "    return effective_offer\n",
    "\n",
    "effective_offer_df = df_effective_offer()"
   ]
  },
  {
   "cell_type": "code",
   "execution_count": 38,
   "metadata": {
    "collapsed": true
   },
   "outputs": [
    {
     "data": {
      "text/plain": [
       "customer_id        0\n",
       "offer_id           0\n",
       "effective_offer    0\n",
       "dtype: int64"
      ]
     },
     "execution_count": 38,
     "metadata": {},
     "output_type": "execute_result"
    }
   ],
   "source": [
    "# validate constructed dataset\n",
    "effective_offer_df.isnull().sum()"
   ]
  },
  {
   "cell_type": "code",
   "execution_count": 39,
   "metadata": {
    "collapsed": true
   },
   "outputs": [
    {
     "name": "stdout",
     "output_type": "stream",
     "text": [
      "<class 'pandas.core.frame.DataFrame'>\n",
      "Int64Index: 63288 entries, 0 to 63287\n",
      "Data columns (total 3 columns):\n",
      " #   Column           Non-Null Count  Dtype \n",
      "---  ------           --------------  ----- \n",
      " 0   customer_id      63288 non-null  object\n",
      " 1   offer_id         63288 non-null  object\n",
      " 2   effective_offer  63288 non-null  int64 \n",
      "dtypes: int64(1), object(2)\n",
      "memory usage: 1.9+ MB\n"
     ]
    }
   ],
   "source": [
    "effective_offer_df.info()"
   ]
  },
  {
   "cell_type": "markdown",
   "metadata": {},
   "source": [
    "### 4. merge datasets"
   ]
  },
  {
   "cell_type": "code",
   "execution_count": 40,
   "metadata": {
    "collapsed": true
   },
   "outputs": [],
   "source": [
    "def merge_df(df1=transcript, df2=profile, df3=portfolio):\n",
    "    \"\"\"Method to merge 2 dataframes on left, default is merging original dataframes\n",
    "    \n",
    "    Inputs: \n",
    "            df1: transcript dataframe\n",
    "            df2: profile dataframe\n",
    "            df3: portfolio dataframe\n",
    "    \n",
    "    Outputs:\n",
    "            merged dataframe\n",
    "    \"\"\"\n",
    "    df = df1.merge(df2, how='left', on='customer_id').merge(df3, how='left', on='offer_id')\n",
    "    #df_new = df.drop(['id_x', 'id_y'], axis=1)\n",
    "    \n",
    "    return df\n",
    "\n",
    "original_df = merge_df()\n",
    "model_df = merge_df(df1=effective_offer_df, df2=profile_new, df3=portfolio_new)"
   ]
  },
  {
   "cell_type": "code",
   "execution_count": 41,
   "metadata": {},
   "outputs": [
    {
     "name": "stdout",
     "output_type": "stream",
     "text": [
      "<class 'pandas.core.frame.DataFrame'>\n",
      "Int64Index: 306534 entries, 0 to 306533\n",
      "Data columns (total 19 columns):\n",
      " #   Column                  Non-Null Count   Dtype   \n",
      "---  ------                  --------------   -----   \n",
      " 0   customer_id             306534 non-null  object  \n",
      " 1   event                   306534 non-null  object  \n",
      " 2   time_day                306534 non-null  float64 \n",
      " 3   amount                  138953 non-null  float64 \n",
      " 4   offer_id                167581 non-null  object  \n",
      " 5   reward_x                33579 non-null   float64 \n",
      " 6   gender                  272430 non-null  object  \n",
      " 7   age                     272430 non-null  float64 \n",
      " 8   became_member_on        272430 non-null  float64 \n",
      " 9   income                  272430 non-null  float64 \n",
      " 10  became_member_on_year   272430 non-null  float64 \n",
      " 11  became_member_on_month  272430 non-null  float64 \n",
      " 12  became_member_on_day    272430 non-null  float64 \n",
      " 13  age_group               271063 non-null  category\n",
      " 14  reward_y                167581 non-null  float64 \n",
      " 15  channels                167581 non-null  object  \n",
      " 16  difficulty              167581 non-null  float64 \n",
      " 17  duration                167581 non-null  float64 \n",
      " 18  offer_type              167581 non-null  object  \n",
      "dtypes: category(1), float64(12), object(6)\n",
      "memory usage: 44.7+ MB\n"
     ]
    }
   ],
   "source": [
    "original_df.info()"
   ]
  },
  {
   "cell_type": "code",
   "execution_count": 44,
   "metadata": {},
   "outputs": [],
   "source": [
    "# clean up original dataframe\n",
    "original_df = original_df.drop('reward_y', axis=1)\n",
    "original_df.rename(columns={'reward_x':'reward'}, inplace=True)"
   ]
  },
  {
   "cell_type": "code",
   "execution_count": 47,
   "metadata": {},
   "outputs": [
    {
     "name": "stdout",
     "output_type": "stream",
     "text": [
      "<class 'pandas.core.frame.DataFrame'>\n",
      "Int64Index: 306534 entries, 0 to 306533\n",
      "Data columns (total 18 columns):\n",
      " #   Column                  Non-Null Count   Dtype   \n",
      "---  ------                  --------------   -----   \n",
      " 0   customer_id             306534 non-null  object  \n",
      " 1   event                   306534 non-null  object  \n",
      " 2   time_day                306534 non-null  float64 \n",
      " 3   amount                  138953 non-null  float64 \n",
      " 4   offer_id                167581 non-null  object  \n",
      " 5   reward                  33579 non-null   float64 \n",
      " 6   gender                  272430 non-null  object  \n",
      " 7   age                     272430 non-null  float64 \n",
      " 8   became_member_on        272430 non-null  float64 \n",
      " 9   income                  272430 non-null  float64 \n",
      " 10  became_member_on_year   272430 non-null  float64 \n",
      " 11  became_member_on_month  272430 non-null  float64 \n",
      " 12  became_member_on_day    272430 non-null  float64 \n",
      " 13  age_group               271063 non-null  category\n",
      " 14  channels                167581 non-null  object  \n",
      " 15  difficulty              167581 non-null  float64 \n",
      " 16  duration                167581 non-null  float64 \n",
      " 17  offer_type              167581 non-null  object  \n",
      "dtypes: category(1), float64(11), object(6)\n",
      "memory usage: 42.4+ MB\n"
     ]
    }
   ],
   "source": [
    "original_df.info()"
   ]
  },
  {
   "cell_type": "code",
   "execution_count": 45,
   "metadata": {},
   "outputs": [
    {
     "name": "stdout",
     "output_type": "stream",
     "text": [
      "5 exists in profile but not in effective_offer_df, 8125 exists in effective_offer_df but not in profile df.\n"
     ]
    }
   ],
   "source": [
    "# clean up model dataframe\n",
    "# it seems not all customer_id are in profile dataset\n",
    "not_eo_df = profile[profile['customer_id'].isin(effective_offer_df['customer_id']) == False].shape[0]\n",
    "\n",
    "not_profile_df = effective_offer_df[effective_offer_df['customer_id'].isin( \\\n",
    "    profile['customer_id']) == False]['customer_id'].shape[0]\n",
    "\n",
    "print('{} exists in profile but not in effective_offer_df,\\\n",
    " {} exists in effective_offer_df but not in profile df.'.format(not_eo_df, not_profile_df))\n",
    "\n",
    "# drop customers not with features\n",
    "model_df = model_df.dropna(axis=0)"
   ]
  },
  {
   "cell_type": "code",
   "execution_count": 46,
   "metadata": {},
   "outputs": [
    {
     "name": "stdout",
     "output_type": "stream",
     "text": [
      "<class 'pandas.core.frame.DataFrame'>\n",
      "Int64Index: 55163 entries, 0 to 63287\n",
      "Data columns (total 67 columns):\n",
      " #   Column                      Non-Null Count  Dtype  \n",
      "---  ------                      --------------  -----  \n",
      " 0   customer_id                 55163 non-null  object \n",
      " 1   offer_id                    55163 non-null  object \n",
      " 2   effective_offer             55163 non-null  int64  \n",
      " 3   18_42                       55163 non-null  float64\n",
      " 4   42_55                       55163 non-null  float64\n",
      " 5   55_66                       55163 non-null  float64\n",
      " 6   66_99                       55163 non-null  float64\n",
      " 7   F                           55163 non-null  float64\n",
      " 8   M                           55163 non-null  float64\n",
      " 9   O                           55163 non-null  float64\n",
      " 10  income                      55163 non-null  float64\n",
      " 11  became_member_on_year_2013  55163 non-null  float64\n",
      " 12  became_member_on_year_2014  55163 non-null  float64\n",
      " 13  became_member_on_year_2015  55163 non-null  float64\n",
      " 14  became_member_on_year_2016  55163 non-null  float64\n",
      " 15  became_member_on_year_2017  55163 non-null  float64\n",
      " 16  became_member_on_year_2018  55163 non-null  float64\n",
      " 17  became_member_on_month_1    55163 non-null  float64\n",
      " 18  became_member_on_month_10   55163 non-null  float64\n",
      " 19  became_member_on_month_11   55163 non-null  float64\n",
      " 20  became_member_on_month_12   55163 non-null  float64\n",
      " 21  became_member_on_month_2    55163 non-null  float64\n",
      " 22  became_member_on_month_3    55163 non-null  float64\n",
      " 23  became_member_on_month_4    55163 non-null  float64\n",
      " 24  became_member_on_month_5    55163 non-null  float64\n",
      " 25  became_member_on_month_6    55163 non-null  float64\n",
      " 26  became_member_on_month_7    55163 non-null  float64\n",
      " 27  became_member_on_month_8    55163 non-null  float64\n",
      " 28  became_member_on_month_9    55163 non-null  float64\n",
      " 29  became_member_on_day_1      55163 non-null  float64\n",
      " 30  became_member_on_day_10     55163 non-null  float64\n",
      " 31  became_member_on_day_11     55163 non-null  float64\n",
      " 32  became_member_on_day_12     55163 non-null  float64\n",
      " 33  became_member_on_day_13     55163 non-null  float64\n",
      " 34  became_member_on_day_14     55163 non-null  float64\n",
      " 35  became_member_on_day_15     55163 non-null  float64\n",
      " 36  became_member_on_day_16     55163 non-null  float64\n",
      " 37  became_member_on_day_17     55163 non-null  float64\n",
      " 38  became_member_on_day_18     55163 non-null  float64\n",
      " 39  became_member_on_day_19     55163 non-null  float64\n",
      " 40  became_member_on_day_2      55163 non-null  float64\n",
      " 41  became_member_on_day_20     55163 non-null  float64\n",
      " 42  became_member_on_day_21     55163 non-null  float64\n",
      " 43  became_member_on_day_22     55163 non-null  float64\n",
      " 44  became_member_on_day_23     55163 non-null  float64\n",
      " 45  became_member_on_day_24     55163 non-null  float64\n",
      " 46  became_member_on_day_25     55163 non-null  float64\n",
      " 47  became_member_on_day_26     55163 non-null  float64\n",
      " 48  became_member_on_day_27     55163 non-null  float64\n",
      " 49  became_member_on_day_28     55163 non-null  float64\n",
      " 50  became_member_on_day_29     55163 non-null  float64\n",
      " 51  became_member_on_day_3      55163 non-null  float64\n",
      " 52  became_member_on_day_30     55163 non-null  float64\n",
      " 53  became_member_on_day_31     55163 non-null  float64\n",
      " 54  became_member_on_day_4      55163 non-null  float64\n",
      " 55  became_member_on_day_5      55163 non-null  float64\n",
      " 56  became_member_on_day_6      55163 non-null  float64\n",
      " 57  became_member_on_day_7      55163 non-null  float64\n",
      " 58  became_member_on_day_8      55163 non-null  float64\n",
      " 59  became_member_on_day_9      55163 non-null  float64\n",
      " 60  reward                      55163 non-null  int64  \n",
      " 61  difficulty                  55163 non-null  int64  \n",
      " 62  duration                    55163 non-null  int64  \n",
      " 63  email                       55163 non-null  uint8  \n",
      " 64  mobile                      55163 non-null  uint8  \n",
      " 65  social                      55163 non-null  uint8  \n",
      " 66  web                         55163 non-null  uint8  \n",
      "dtypes: float64(57), int64(4), object(2), uint8(4)\n",
      "memory usage: 27.1+ MB\n"
     ]
    }
   ],
   "source": [
    "model_df.info()"
   ]
  },
  {
   "cell_type": "markdown",
   "metadata": {},
   "source": [
    "### 5. Insights\n",
    "In order to get some basic insights from the dataset, I will take a look at it from 2 aspects:\n",
    "- Customer\n",
    "- Offer"
   ]
  },
  {
   "cell_type": "markdown",
   "metadata": {},
   "source": [
    "- Which offer type is the most difficult? Which reward the most?"
   ]
  },
  {
   "cell_type": "code",
   "execution_count": 48,
   "metadata": {},
   "outputs": [
    {
     "data": {
      "image/png": "[encoded data removed]",
      "text/plain": [
       "<Figure size 432x288 with 1 Axes>"
      ]
     },
     "metadata": {
      "needs_background": "light"
     },
     "output_type": "display_data"
    }
   ],
   "source": [
    "# set data\n",
    "by_offer_type = portfolio.groupby(['offer_type'])[['difficulty','reward','duration']].mean()\n",
    "\n",
    "# visualize\n",
    "by_offer_type.plot(kind='bar')\n",
    "plt.title('Difficulty, reward, duration by offer type');"
   ]
  },
  {
   "cell_type": "markdown",
   "metadata": {},
   "source": [
    "Completion of discount is the most difficult, which also has the most duration and small rewards."
   ]
  },
  {
   "cell_type": "code",
   "execution_count": 52,
   "metadata": {},
   "outputs": [
    {
     "data": {
      "image/png": "[encoded data removed]",
      "text/plain": [
       "<Figure size 432x288 with 1 Axes>"
      ]
     },
     "metadata": {
      "needs_background": "light"
     },
     "output_type": "display_data"
    }
   ],
   "source": [
    "# look at number of offers by event type\n",
    "original_df.groupby(['offer_type','event'])['offer_id'].count().unstack().plot(kind='bar')\n",
    "plt.title('Number of offers by event per offer type');"
   ]
  },
  {
   "cell_type": "markdown",
   "metadata": {},
   "source": [
    "In terms of offers, no completed offer for informational events (no track of that?), offer received is equal for discount and bogo (both around 30000), for offer viewed, discount (around 22000) is lower than bogo (around 25000), while for offer completed, it's ( around 18000) higher than bogo (around 15000). Looks discount could be the most effective event type with a higher completion rate, to be validated."
   ]
  },
  {
   "cell_type": "code",
   "execution_count": 51,
   "metadata": {},
   "outputs": [
    {
     "data": {
      "image/png": "[encoded data removed]",
      "text/plain": [
       "<Figure size 432x288 with 1 Axes>"
      ]
     },
     "metadata": {
      "needs_background": "light"
     },
     "output_type": "display_data"
    }
   ],
   "source": [
    "# gender with offer types\n",
    "original_df.groupby(['gender','event'])['offer_id'].count().unstack().plot(kind='bar')\n",
    "plt.title('number of offers by event type per gender');"
   ]
  },
  {
   "cell_type": "markdown",
   "metadata": {},
   "source": [
    "It seems the pattern between female and male are the same for offer received, offer reviewed and offer completed. In terms of customer group, more males received/reviewed offers. However, it seems female is higher in ratio of offer viewed and offer completed."
   ]
  },
  {
   "cell_type": "code",
   "execution_count": 55,
   "metadata": {},
   "outputs": [
    {
     "data": {
      "image/png": "[encoded data removed]",
      "text/plain": [
       "<Figure size 432x288 with 1 Axes>"
      ]
     },
     "metadata": {
      "needs_background": "light"
     },
     "output_type": "display_data"
    }
   ],
   "source": [
    "original_df.groupby(['age_group','event'])['offer_id'].count().unstack().plot(kind='bar')\n",
    "plt.title('number of offers by event type per age group');"
   ]
  },
  {
   "cell_type": "code",
   "execution_count": 56,
   "metadata": {},
   "outputs": [
    {
     "name": "stdout",
     "output_type": "stream",
     "text": [
      "In all offers, 47.45390932327828% is effective.\n"
     ]
    }
   ],
   "source": [
    "# effective offer rate\n",
    "effective_perc = model_df['effective_offer'].mean()\n",
    "print('In all offers, {}% is effective.'.format(effective_perc*100))"
   ]
  },
  {
   "cell_type": "code",
   "execution_count": 57,
   "metadata": {},
   "outputs": [
    {
     "name": "stdout",
     "output_type": "stream",
     "text": [
      "Number of effective offers per customer is 0.49\n"
     ]
    },
    {
     "data": {
      "image/png": "[encoded data removed]",
      "text/plain": [
       "<Figure size 432x288 with 1 Axes>"
      ]
     },
     "metadata": {
      "needs_background": "light"
     },
     "output_type": "display_data"
    }
   ],
   "source": [
    "# effective offer by customers\n",
    "top_customer_offer = model_df.groupby('customer_id')['effective_offer'].mean().sort_values(ascending=False)\n",
    "top_customer_offer.head(10).plot(kind='barh', title='top 10 customers with the most effective offers')\n",
    "print('Number of effective offers per customer is {:.2f}'.format(top_customer_offer.mean()))"
   ]
  },
  {
   "cell_type": "markdown",
   "metadata": {},
   "source": [
    "For top 10 customers, they can complete their offers that they received."
   ]
  },
  {
   "cell_type": "code",
   "execution_count": 58,
   "metadata": {},
   "outputs": [
    {
     "data": {
      "image/png": "[encoded data removed]",
      "text/plain": [
       "<Figure size 432x288 with 1 Axes>"
      ]
     },
     "metadata": {
      "needs_background": "light"
     },
     "output_type": "display_data"
    }
   ],
   "source": [
    "# number of effective offers per age group\n",
    "effective_offer = model_df[model_df['effective_offer']==1]\n",
    "age_1 = (effective_offer['18_42']==1).sum()\n",
    "age_2 = (effective_offer['42_55']==1).sum()\n",
    "age_3 = (effective_offer['55_66']==1).sum()\n",
    "age_4 = (effective_offer['66_99']==1).sum()\n",
    "\n",
    "y = [age_1, age_2, age_3, age_4]\n",
    "x = range(0, 4)\n",
    "plt.bar(x, y)\n",
    "plt.xticks(x, labels=['18_42','42_55','55_66','66_99'])\n",
    "plt.title('effective offer per age group');"
   ]
  },
  {
   "cell_type": "code",
   "execution_count": 66,
   "metadata": {},
   "outputs": [],
   "source": [
    "def effective_offer_by_feature(selected_features):\n",
    "    \"\"\"Method to visualize multiple comparable columns and their number of average effective offers\n",
    "    \n",
    "    Inputs: selected features, list of column names\n",
    "    Outputs: none\n",
    "    \"\"\"\n",
    "    # construct effective offer dataframe\n",
    "    effective_offer = model_df[model_df['effective_offer']==1]\n",
    "    \n",
    "    # initialize\n",
    "    features_values = []\n",
    "    count = 0\n",
    "    features_names = []\n",
    "    \n",
    "    # loop to get list of feature names and feature of values\n",
    "    for col in selected_features:\n",
    "        feature_value = (effective_offer[col]==1).sum()/effective_offer_df.shape[0]\n",
    "        features_values.append(feature_value)\n",
    "        features_names.append(col)\n",
    "        count+=1\n",
    "    feature_mean = np.array(features_values).mean()\n",
    "    \n",
    "    # construct y and x in plot\n",
    "    y = features_values - feature_mean\n",
    "    x = range(0, count)\n",
    "    \n",
    "    # differentiate by color for values below and above averages\n",
    "    cc=list(map(lambda x: 'red' if x <= 0 else 'green', y))\n",
    "    \n",
    "    # visualize\n",
    "    plt.bar(x, y, color=cc)\n",
    "    plt.annotate('mean: {:.2f}'.format(feature_mean), xy=(0.02, 0.94), xycoords='axes fraction')\n",
    "    plt.xticks(x, features_names, rotation=90)\n",
    "    plt.title('effective offer compared with mean per feature group')"
   ]
  },
  {
   "cell_type": "code",
   "execution_count": 72,
   "metadata": {},
   "outputs": [
    {
     "data": {
      "image/png": "[encoded data removed]",
      "text/plain": [
       "<Figure size 432x288 with 1 Axes>"
      ]
     },
     "metadata": {
      "needs_background": "light"
     },
     "output_type": "display_data"
    }
   ],
   "source": [
    "# age group\n",
    "age_group = model_df.columns[3:7]\n",
    "effective_offer_by_feature(age_group)"
   ]
  },
  {
   "cell_type": "code",
   "execution_count": 76,
   "metadata": {},
   "outputs": [
    {
     "data": {
      "image/png": "[encoded data removed]",
      "text/plain": [
       "<Figure size 432x288 with 1 Axes>"
      ]
     },
     "metadata": {
      "needs_background": "light"
     },
     "output_type": "display_data"
    }
   ],
   "source": [
    "# gender group\n",
    "gender_group = model_df.columns[7:10]\n",
    "effective_offer_by_feature(gender_group)"
   ]
  },
  {
   "cell_type": "code",
   "execution_count": 77,
   "metadata": {},
   "outputs": [
    {
     "data": {
      "image/png": "[encoded data removed]",
      "text/plain": [
       "<Figure size 432x288 with 1 Axes>"
      ]
     },
     "metadata": {
      "needs_background": "light"
     },
     "output_type": "display_data"
    }
   ],
   "source": [
    "# became_member_on_year group\n",
    "year_group = model_df.columns[11:17]\n",
    "effective_offer_by_feature(year_group)"
   ]
  },
  {
   "cell_type": "code",
   "execution_count": 79,
   "metadata": {},
   "outputs": [
    {
     "name": "stdout",
     "output_type": "stream",
     "text": [
      "<class 'pandas.core.frame.DataFrame'>\n",
      "Int64Index: 55163 entries, 0 to 63287\n",
      "Data columns (total 67 columns):\n",
      " #   Column                      Non-Null Count  Dtype  \n",
      "---  ------                      --------------  -----  \n",
      " 0   customer_id                 55163 non-null  object \n",
      " 1   offer_id                    55163 non-null  object \n",
      " 2   effective_offer             55163 non-null  int64  \n",
      " 3   18_42                       55163 non-null  float64\n",
      " 4   42_55                       55163 non-null  float64\n",
      " 5   55_66                       55163 non-null  float64\n",
      " 6   66_99                       55163 non-null  float64\n",
      " 7   F                           55163 non-null  float64\n",
      " 8   M                           55163 non-null  float64\n",
      " 9   O                           55163 non-null  float64\n",
      " 10  income                      55163 non-null  float64\n",
      " 11  became_member_on_year_2013  55163 non-null  float64\n",
      " 12  became_member_on_year_2014  55163 non-null  float64\n",
      " 13  became_member_on_year_2015  55163 non-null  float64\n",
      " 14  became_member_on_year_2016  55163 non-null  float64\n",
      " 15  became_member_on_year_2017  55163 non-null  float64\n",
      " 16  became_member_on_year_2018  55163 non-null  float64\n",
      " 17  became_member_on_month_1    55163 non-null  float64\n",
      " 18  became_member_on_month_10   55163 non-null  float64\n",
      " 19  became_member_on_month_11   55163 non-null  float64\n",
      " 20  became_member_on_month_12   55163 non-null  float64\n",
      " 21  became_member_on_month_2    55163 non-null  float64\n",
      " 22  became_member_on_month_3    55163 non-null  float64\n",
      " 23  became_member_on_month_4    55163 non-null  float64\n",
      " 24  became_member_on_month_5    55163 non-null  float64\n",
      " 25  became_member_on_month_6    55163 non-null  float64\n",
      " 26  became_member_on_month_7    55163 non-null  float64\n",
      " 27  became_member_on_month_8    55163 non-null  float64\n",
      " 28  became_member_on_month_9    55163 non-null  float64\n",
      " 29  became_member_on_day_1      55163 non-null  float64\n",
      " 30  became_member_on_day_10     55163 non-null  float64\n",
      " 31  became_member_on_day_11     55163 non-null  float64\n",
      " 32  became_member_on_day_12     55163 non-null  float64\n",
      " 33  became_member_on_day_13     55163 non-null  float64\n",
      " 34  became_member_on_day_14     55163 non-null  float64\n",
      " 35  became_member_on_day_15     55163 non-null  float64\n",
      " 36  became_member_on_day_16     55163 non-null  float64\n",
      " 37  became_member_on_day_17     55163 non-null  float64\n",
      " 38  became_member_on_day_18     55163 non-null  float64\n",
      " 39  became_member_on_day_19     55163 non-null  float64\n",
      " 40  became_member_on_day_2      55163 non-null  float64\n",
      " 41  became_member_on_day_20     55163 non-null  float64\n",
      " 42  became_member_on_day_21     55163 non-null  float64\n",
      " 43  became_member_on_day_22     55163 non-null  float64\n",
      " 44  became_member_on_day_23     55163 non-null  float64\n",
      " 45  became_member_on_day_24     55163 non-null  float64\n",
      " 46  became_member_on_day_25     55163 non-null  float64\n",
      " 47  became_member_on_day_26     55163 non-null  float64\n",
      " 48  became_member_on_day_27     55163 non-null  float64\n",
      " 49  became_member_on_day_28     55163 non-null  float64\n",
      " 50  became_member_on_day_29     55163 non-null  float64\n",
      " 51  became_member_on_day_3      55163 non-null  float64\n",
      " 52  became_member_on_day_30     55163 non-null  float64\n",
      " 53  became_member_on_day_31     55163 non-null  float64\n",
      " 54  became_member_on_day_4      55163 non-null  float64\n",
      " 55  became_member_on_day_5      55163 non-null  float64\n",
      " 56  became_member_on_day_6      55163 non-null  float64\n",
      " 57  became_member_on_day_7      55163 non-null  float64\n",
      " 58  became_member_on_day_8      55163 non-null  float64\n",
      " 59  became_member_on_day_9      55163 non-null  float64\n",
      " 60  reward                      55163 non-null  int64  \n",
      " 61  difficulty                  55163 non-null  int64  \n",
      " 62  duration                    55163 non-null  int64  \n",
      " 63  email                       55163 non-null  uint8  \n",
      " 64  mobile                      55163 non-null  uint8  \n",
      " 65  social                      55163 non-null  uint8  \n",
      " 66  web                         55163 non-null  uint8  \n",
      "dtypes: float64(57), int64(4), object(2), uint8(4)\n",
      "memory usage: 27.1+ MB\n"
     ]
    }
   ],
   "source": [
    "model_df.info()"
   ]
  },
  {
   "cell_type": "code",
   "execution_count": 80,
   "metadata": {},
   "outputs": [
    {
     "data": {
      "image/png": "[encoded data removed]",
      "text/plain": [
       "<Figure size 432x288 with 1 Axes>"
      ]
     },
     "metadata": {
      "needs_background": "light"
     },
     "output_type": "display_data"
    }
   ],
   "source": [
    "# became_member_on_month group\n",
    "month_group = model_df.columns[17:29]\n",
    "effective_offer_by_feature(month_group)"
   ]
  },
  {
   "cell_type": "code",
   "execution_count": 81,
   "metadata": {},
   "outputs": [
    {
     "data": {
      "image/png": "[encoded data removed]",
      "text/plain": [
       "<Figure size 432x288 with 1 Axes>"
      ]
     },
     "metadata": {
      "needs_background": "light"
     },
     "output_type": "display_data"
    }
   ],
   "source": [
    "# became_member_on_month group\n",
    "day_group = model_df.columns[29:60]\n",
    "effective_offer_by_feature(day_group)"
   ]
  },
  {
   "cell_type": "code",
   "execution_count": 82,
   "metadata": {
    "scrolled": true
   },
   "outputs": [
    {
     "data": {
      "image/png": "[encoded data removed]",
      "text/plain": [
       "<Figure size 432x288 with 1 Axes>"
      ]
     },
     "metadata": {
      "needs_background": "light"
     },
     "output_type": "display_data"
    }
   ],
   "source": [
    "# channel group\n",
    "channel_group = model_df.columns[63:67]\n",
    "effective_offer_by_feature(channel_group)"
   ]
  },
  {
   "cell_type": "code",
   "execution_count": 84,
   "metadata": {},
   "outputs": [
    {
     "data": {
      "text/plain": [
       "Index(['customer_id', 'offer_id', 'effective_offer', '18_42', '42_55', '55_66',\n",
       "       '66_99', 'F', 'M', 'O', 'income', 'became_member_on_year_2013',\n",
       "       'became_member_on_year_2014', 'became_member_on_year_2015',\n",
       "       'became_member_on_year_2016', 'became_member_on_year_2017',\n",
       "       'became_member_on_year_2018', 'became_member_on_month_1',\n",
       "       'became_member_on_month_10', 'became_member_on_month_11',\n",
       "       'became_member_on_month_12', 'became_member_on_month_2',\n",
       "       'became_member_on_month_3', 'became_member_on_month_4',\n",
       "       'became_member_on_month_5', 'became_member_on_month_6',\n",
       "       'became_member_on_month_7', 'became_member_on_month_8',\n",
       "       'became_member_on_month_9', 'became_member_on_day_1',\n",
       "       'became_member_on_day_10', 'became_member_on_day_11',\n",
       "       'became_member_on_day_12', 'became_member_on_day_13',\n",
       "       'became_member_on_day_14', 'became_member_on_day_15',\n",
       "       'became_member_on_day_16', 'became_member_on_day_17',\n",
       "       'became_member_on_day_18', 'became_member_on_day_19',\n",
       "       'became_member_on_day_2', 'became_member_on_day_20',\n",
       "       'became_member_on_day_21', 'became_member_on_day_22',\n",
       "       'became_member_on_day_23', 'became_member_on_day_24',\n",
       "       'became_member_on_day_25', 'became_member_on_day_26',\n",
       "       'became_member_on_day_27', 'became_member_on_day_28',\n",
       "       'became_member_on_day_29', 'became_member_on_day_3',\n",
       "       'became_member_on_day_30', 'became_member_on_day_31',\n",
       "       'became_member_on_day_4', 'became_member_on_day_5',\n",
       "       'became_member_on_day_6', 'became_member_on_day_7',\n",
       "       'became_member_on_day_8', 'became_member_on_day_9', 'reward',\n",
       "       'difficulty', 'duration', 'email', 'mobile', 'social', 'web'],\n",
       "      dtype='object')"
      ]
     },
     "execution_count": 84,
     "metadata": {},
     "output_type": "execute_result"
    }
   ],
   "source": [
    "model_df.columns"
   ]
  },
  {
   "cell_type": "code",
   "execution_count": 89,
   "metadata": {},
   "outputs": [
    {
     "data": {
      "text/html": [
       "<div>\n",
       "<style scoped>\n",
       "    .dataframe tbody tr th:only-of-type {\n",
       "        vertical-align: middle;\n",
       "    }\n",
       "\n",
       "    .dataframe tbody tr th {\n",
       "        vertical-align: top;\n",
       "    }\n",
       "\n",
       "    .dataframe thead th {\n",
       "        text-align: right;\n",
       "    }\n",
       "</style>\n",
       "<table border=\"1\" class=\"dataframe\">\n",
       "  <thead>\n",
       "    <tr style=\"text-align: right;\">\n",
       "      <th></th>\n",
       "      <th>effective_offer</th>\n",
       "      <th>income</th>\n",
       "      <th>reward</th>\n",
       "      <th>difficulty</th>\n",
       "      <th>duration</th>\n",
       "    </tr>\n",
       "  </thead>\n",
       "  <tbody>\n",
       "    <tr>\n",
       "      <th>effective_offer</th>\n",
       "      <td>1.000000</td>\n",
       "      <td>0.127819</td>\n",
       "      <td>0.184785</td>\n",
       "      <td>0.132435</td>\n",
       "      <td>0.207399</td>\n",
       "    </tr>\n",
       "    <tr>\n",
       "      <th>income</th>\n",
       "      <td>0.127819</td>\n",
       "      <td>1.000000</td>\n",
       "      <td>-0.000383</td>\n",
       "      <td>-0.000734</td>\n",
       "      <td>-0.001044</td>\n",
       "    </tr>\n",
       "    <tr>\n",
       "      <th>reward</th>\n",
       "      <td>0.184785</td>\n",
       "      <td>-0.000383</td>\n",
       "      <td>1.000000</td>\n",
       "      <td>0.465215</td>\n",
       "      <td>0.160815</td>\n",
       "    </tr>\n",
       "    <tr>\n",
       "      <th>difficulty</th>\n",
       "      <td>0.132435</td>\n",
       "      <td>-0.000734</td>\n",
       "      <td>0.465215</td>\n",
       "      <td>1.000000</td>\n",
       "      <td>0.808828</td>\n",
       "    </tr>\n",
       "    <tr>\n",
       "      <th>duration</th>\n",
       "      <td>0.207399</td>\n",
       "      <td>-0.001044</td>\n",
       "      <td>0.160815</td>\n",
       "      <td>0.808828</td>\n",
       "      <td>1.000000</td>\n",
       "    </tr>\n",
       "  </tbody>\n",
       "</table>\n",
       "</div>"
      ],
      "text/plain": [
       "                 effective_offer    income    reward  difficulty  duration\n",
       "effective_offer         1.000000  0.127819  0.184785    0.132435  0.207399\n",
       "income                  0.127819  1.000000 -0.000383   -0.000734 -0.001044\n",
       "reward                  0.184785 -0.000383  1.000000    0.465215  0.160815\n",
       "difficulty              0.132435 -0.000734  0.465215    1.000000  0.808828\n",
       "duration                0.207399 -0.001044  0.160815    0.808828  1.000000"
      ]
     },
     "execution_count": 89,
     "metadata": {},
     "output_type": "execute_result"
    }
   ],
   "source": [
    "model_df[num_group].corr()"
   ]
  },
  {
   "cell_type": "code",
   "execution_count": 93,
   "metadata": {},
   "outputs": [
    {
     "data": {
      "image/png": "[encoded data removed]",
      "text/plain": [
       "<Figure size 576x360 with 2 Axes>"
      ]
     },
     "metadata": {
      "needs_background": "light"
     },
     "output_type": "display_data"
    }
   ],
   "source": [
    "# numeric group\n",
    "num_group = ['effective_offer', 'income', 'reward', 'difficulty', 'duration']\n",
    "plt.figure(figsize=(8,5))\n",
    "sb.heatmap(model_df[num_group].corr(), cmap='rocket_r', annot=True, fmt='.1f')\n",
    "plt.title('Correlation between numeric features and effective offer');"
   ]
  },
  {
   "cell_type": "markdown",
   "metadata": {},
   "source": [
    "### Preparing data set - profile"
   ]
  },
  {
   "cell_type": "markdown",
   "metadata": {},
   "source": [
    "- Which feature is the most important to completing an offer?"
   ]
  },
  {
   "cell_type": "code",
   "execution_count": 96,
   "metadata": {},
   "outputs": [],
   "source": [
    "# drop offer id and customer id in model dataset\n",
    "df = model_df.drop(['customer_id','offer_id'], axis=1)"
   ]
  },
  {
   "cell_type": "code",
   "execution_count": 98,
   "metadata": {},
   "outputs": [],
   "source": [
    "from sklearn.preprocessing import StandardScaler\n",
    "from sklearn.model_selection import train_test_split, GridSearchCV\n",
    "from sklearn.neighbors import KNeighborsClassifier\n",
    "from sklearn.metrics import classification_report, accuracy_score, confusion_matrix\n",
    "from sklearn.ensemble import RandomForestClassifier\n",
    "from sklearn.ensemble import AdaBoostClassifier\n",
    "from sklearn.linear_model import LogisticRegression\n",
    "from sklearn.pipeline import Pipeline\n",
    "from sklearn import svm\n",
    "from sklearn.metrics import precision_recall_fscore_support as score"
   ]
  },
  {
   "cell_type": "code",
   "execution_count": 99,
   "metadata": {},
   "outputs": [],
   "source": [
    "X = df.drop('effective_offer', axis=1)\n",
    "y = df[['effective_offer']]"
   ]
  },
  {
   "cell_type": "code",
   "execution_count": 100,
   "metadata": {},
   "outputs": [],
   "source": [
    "# creat traing, test sets\n",
    "X_train, X_test, y_train, y_test = train_test_split(X, y)"
   ]
  },
  {
   "cell_type": "markdown",
   "metadata": {},
   "source": [
    "### Try different models"
   ]
  },
  {
   "cell_type": "markdown",
   "metadata": {},
   "source": [
    "### Random forest classifier"
   ]
  },
  {
   "cell_type": "code",
   "execution_count": 101,
   "metadata": {},
   "outputs": [],
   "source": [
    "# although scaling is not needed in ensemble, but it's used to speed up the process\n",
    "pipeline_rfc = Pipeline([\n",
    "    ('scaler', StandardScaler()),\n",
    "    ('rfc', RandomForestClassifier())\n",
    "])\n",
    "\n",
    "# fit model\n",
    "pipeline_rfc.fit(X_train, y_train)\n",
    "y_pred_rfc = pipeline_rfc.predict(X_test)"
   ]
  },
  {
   "cell_type": "code",
   "execution_count": 102,
   "metadata": {},
   "outputs": [],
   "source": [
    "def display_results(y_pred, y_test):\n",
    "    \"\"\"Method to iterate classification report per target and overall accuracy\n",
    "    \n",
    "    Args:\n",
    "    y_pred: panda series\n",
    "    y_test: panda series\n",
    "    \n",
    "    Returns:\n",
    "    None\n",
    "    \"\"\"\n",
    "    # calculated overall accuracy\n",
    "    print('Overall accuracy of current model is {:.3f}'.format(accuracy_score(y_test, y_pred)))\n",
    "    \n",
    "    # classification report per column\n",
    "    col_name = 'effective_offer'\n",
    "    \n",
    "    results = classification_report(y_test, y_pred)\n",
    "    print('Feature:', 'effective offer', '\\n', results)"
   ]
  },
  {
   "cell_type": "code",
   "execution_count": 103,
   "metadata": {},
   "outputs": [
    {
     "name": "stdout",
     "output_type": "stream",
     "text": [
      "Overall accuracy of current model is 0.717\n",
      "Feature: effective offer \n",
      "               precision    recall  f1-score   support\n",
      "\n",
      "           0       0.73      0.74      0.73      7220\n",
      "           1       0.71      0.69      0.70      6571\n",
      "\n",
      "    accuracy                           0.72     13791\n",
      "   macro avg       0.72      0.72      0.72     13791\n",
      "weighted avg       0.72      0.72      0.72     13791\n",
      "\n"
     ]
    }
   ],
   "source": [
    "display_results(y_pred_rfc, y_test)"
   ]
  },
  {
   "cell_type": "code",
   "execution_count": 105,
   "metadata": {},
   "outputs": [
    {
     "data": {
      "text/plain": [
       "' '"
      ]
     },
     "execution_count": 105,
     "metadata": {},
     "output_type": "execute_result"
    }
   ],
   "source": [
    "\n",
    "precision,recall,fscore,support=score(y_true,y_pred,average='macro')\n",
    "print 'Precision : {}'.format(precision)\n",
    "print 'Recall    : {}'.format(recall)\n",
    "print 'F-score   : {}'.format(fscore)\n",
    "print 'Support   : {}'.format(support)"
   ]
  },
  {
   "cell_type": "markdown",
   "metadata": {},
   "source": [
    "### SVC"
   ]
  },
  {
   "cell_type": "code",
   "execution_count": null,
   "metadata": {
    "collapsed": true
   },
   "outputs": [],
   "source": [
    "svc_clf = svm.SVC()\n",
    "svc_clf.fit(X_train, y_train)\n",
    "y_pred_svc = svc_clf.predict(X_test)"
   ]
  },
  {
   "cell_type": "code",
   "execution_count": null,
   "metadata": {
    "collapsed": true
   },
   "outputs": [],
   "source": [
    "display_results(y_pred_svc, y_test)"
   ]
  },
  {
   "cell_type": "markdown",
   "metadata": {},
   "source": [
    "### LogisticClassifier"
   ]
  },
  {
   "cell_type": "code",
   "execution_count": null,
   "metadata": {
    "collapsed": true
   },
   "outputs": [],
   "source": [
    "pipeline_lg = Pipeline([\n",
    "    ('scaler', StandardScaler()),\n",
    "    ('lg',LogisticRegression())\n",
    "])\n",
    "pipeline_lg.fit(X_train, y_train)\n",
    "y_pred_lg = pipeline_lg.predict(X_test)"
   ]
  },
  {
   "cell_type": "code",
   "execution_count": null,
   "metadata": {
    "collapsed": true
   },
   "outputs": [],
   "source": [
    "display_results(y_pred_lg, y_test)"
   ]
  },
  {
   "cell_type": "markdown",
   "metadata": {},
   "source": [
    "### AdaboostClassifier"
   ]
  },
  {
   "cell_type": "code",
   "execution_count": null,
   "metadata": {
    "collapsed": true
   },
   "outputs": [],
   "source": [
    "pipeline_adb = Pipeline([\n",
    "    ('scaler', StandardScaler()),\n",
    "    ('adb', AdaBoostClassifier())\n",
    "])\n",
    "\n",
    "pipeline_adb.fit(X_train, y_train)\n",
    "y_pred_adb = pipeline_adb.predict(X_test)"
   ]
  },
  {
   "cell_type": "code",
   "execution_count": null,
   "metadata": {
    "collapsed": true
   },
   "outputs": [],
   "source": [
    "display_results(y_pred_adb, y_test)"
   ]
  },
  {
   "cell_type": "markdown",
   "metadata": {},
   "source": [
    "### Tuning parameters"
   ]
  },
  {
   "cell_type": "code",
   "execution_count": null,
   "metadata": {
    "collapsed": true
   },
   "outputs": [],
   "source": [
    "# use the best parameters\n",
    "pipeline_adb = Pipeline([\n",
    "    ('scaler', StandardScaler()),\n",
    "    ('adb', AdaBoostClassifier(learning_rate=1, \n",
    "                      n_estimators=100))\n",
    "])\n",
    "\n",
    "pipeline_adb.fit(X_train, y_train)\n",
    "y_pred_adb = pipeline_adb.predict(X_test)\n",
    "display_results(y_pred_adb, y_test)"
   ]
  },
  {
   "cell_type": "code",
   "execution_count": null,
   "metadata": {
    "collapsed": true
   },
   "outputs": [],
   "source": [
    "# create other features\n",
    "from sklearn.feature_selection import SelectPercentile, f_classif"
   ]
  },
  {
   "cell_type": "code",
   "execution_count": null,
   "metadata": {
    "collapsed": true
   },
   "outputs": [],
   "source": [
    "pipeline_adb_= Pipeline([\n",
    "    ('scaler', StandardScaler()),\n",
    "    ('features_select', SelectPercentile(f_classif, percentile=10)),\n",
    "    ('adb', AdaBoostClassifier(learning_rate=1, \n",
    "                      n_estimators=100))\n",
    "])\n",
    "\n",
    "pipeline_adb.fit(X_train, y_train)\n",
    "y_pred_adb = pipeline_adb.predict(X_test)\n",
    "display_results(y_pred_adb, y_test)"
   ]
  },
  {
   "cell_type": "code",
   "execution_count": null,
   "metadata": {
    "collapsed": true
   },
   "outputs": [],
   "source": [
    "y_train_adb = pipeline_adb.predict(X_train)\n",
    "display_results(y_train_adb, y_train)"
   ]
  },
  {
   "cell_type": "markdown",
   "metadata": {},
   "source": [
    "#### boosting ML doesn't need to be scaled with features, but scaling can speed up ML model\n",
    "https://towardsdatascience.com/the-ultimate-guide-to-adaboost-random-forests-and-xgboost-7f9327061c4f#:~:text=Compared%20to%20random%20forests%20and,being%20significantly%20slower%20than%20XGBoost."
   ]
  },
  {
   "cell_type": "markdown",
   "metadata": {},
   "source": [
    "#### Try adaboost without feature scaling"
   ]
  },
  {
   "cell_type": "code",
   "execution_count": null,
   "metadata": {
    "collapsed": true
   },
   "outputs": [],
   "source": [
    "# try without scaling\n",
    "pipeline_adb_= Pipeline([\n",
    "    ('features_select', SelectPercentile(f_classif, percentile=10)),\n",
    "    ('adb', AdaBoostClassifier(learning_rate=1, \n",
    "                      n_estimators=100))\n",
    "])\n",
    "\n",
    "pipeline_adb.fit(X_train, y_train)\n",
    "y_pred_adb = pipeline_adb.predict(X_test)\n",
    "display_results(y_pred_adb, y_test)"
   ]
  },
  {
   "cell_type": "code",
   "execution_count": null,
   "metadata": {
    "collapsed": true
   },
   "outputs": [],
   "source": []
  }
 ],
 "metadata": {
  "kernelspec": {
   "display_name": "Python 3",
   "language": "python",
   "name": "python3"
  },
  "language_info": {
   "codemirror_mode": {
    "name": "ipython",
    "version": 3
   },
   "file_extension": ".py",
   "mimetype": "text/x-python",
   "name": "python",
   "nbconvert_exporter": "python",
   "pygments_lexer": "ipython3",
   "version": "3.8.8"
  }
 },
 "nbformat": 4,
 "nbformat_minor": 2
}
