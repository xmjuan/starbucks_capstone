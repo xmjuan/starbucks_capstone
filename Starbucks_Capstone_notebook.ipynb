{
 "cells": [
  {
   "cell_type": "markdown",
   "metadata": {},
   "source": [
    "# Starbucks Capstone Challenge\n",
    "\n",
    "### Introduction\n",
    "\n",
    "This data set contains simulated data that mimics customer behavior on the Starbucks rewards mobile app. Once every few days, Starbucks sends out an offer to users of the mobile app. An offer can be merely an advertisement for a drink or an actual offer such as a discount or BOGO (buy one get one free). Some users might not receive any offer during certain weeks. \n",
    "\n",
    "Not all users receive the same offer, and that is the challenge to solve with this data set.\n",
    "\n",
    "Your task is to combine transaction, demographic and offer data to determine which demographic groups respond best to which offer type. This data set is a simplified version of the real Starbucks app because the underlying simulator only has one product whereas Starbucks actually sells dozens of products.\n",
    "\n",
    "Every offer has a validity period before the offer expires. As an example, a BOGO offer might be valid for only 5 days. You'll see in the data set that informational offers have a validity period even though these ads are merely providing information about a product; for example, if an informational offer has 7 days of validity, you can assume the customer is feeling the influence of the offer for 7 days after receiving the advertisement.\n",
    "\n",
    "You'll be given transactional data showing user purchases made on the app including the timestamp of purchase and the amount of money spent on a purchase. This transactional data also has a record for each offer that a user receives as well as a record for when a user actually views the offer. There are also records for when a user completes an offer. \n",
    "\n",
    "Keep in mind as well that someone using the app might make a purchase through the app without having received an offer or seen an offer.\n",
    "\n",
    "### Example\n",
    "\n",
    "To give an example, a user could receive a discount offer buy 10 dollars get 2 off on Monday. The offer is valid for 10 days from receipt. If the customer accumulates at least 10 dollars in purchases during the validity period, the customer completes the offer.\n",
    "\n",
    "However, there are a few things to watch out for in this data set. Customers do not opt into the offers that they receive; in other words, a user can receive an offer, never actually view the offer, and still complete the offer. For example, a user might receive the \"buy 10 dollars get 2 dollars off offer\", but the user never opens the offer during the 10 day validity period. The customer spends 15 dollars during those ten days. There will be an offer completion record in the data set; however, the customer was not influenced by the offer because the customer never viewed the offer.\n",
    "\n",
    "### Cleaning\n",
    "\n",
    "This makes data cleaning especially important and tricky.\n",
    "\n",
    "You'll also want to take into account that some demographic groups will make purchases even if they don't receive an offer. From a business perspective, if a customer is going to make a 10 dollar purchase without an offer anyway, you wouldn't want to send a buy 10 dollars get 2 dollars off offer. You'll want to try to assess what a certain demographic group will buy when not receiving any offers.\n",
    "\n",
    "### Final Advice\n",
    "\n",
    "Because this is a capstone project, you are free to analyze the data any way you see fit. For example, you could build a machine learning model that predicts how much someone will spend based on demographics and offer type. Or you could build a model that predicts whether or not someone will respond to an offer. Or, you don't need to build a machine learning model at all. You could develop a set of heuristics that determine what offer you should send to each customer (i.e., 75 percent of women customers who were 35 years old responded to offer A vs 40 percent from the same demographic to offer B, so send offer A)."
   ]
  },
  {
   "cell_type": "markdown",
   "metadata": {},
   "source": [
    "# Data Sets\n",
    "\n",
    "The data is contained in three files:\n",
    "\n",
    "* portfolio.json - containing offer ids and meta data about each offer (duration, type, etc.)\n",
    "* profile.json - demographic data for each customer\n",
    "* transcript.json - records for transactions, offers received, offers viewed, and offers completed\n",
    "\n",
    "Here is the schema and explanation of each variable in the files:\n",
    "\n",
    "**portfolio.json**\n",
    "* id (string) - offer id\n",
    "* offer_type (string) - type of offer ie BOGO, discount, informational\n",
    "* difficulty (int) - minimum required spend to complete an offer\n",
    "* reward (int) - reward given for completing an offer\n",
    "* duration (int) - time for offer to be open, in days\n",
    "* channels (list of strings)\n",
    "\n",
    "**profile.json**\n",
    "* age (int) - age of the customer \n",
    "* became_member_on (int) - date when customer created an app account\n",
    "* gender (str) - gender of the customer (note some entries contain 'O' for other rather than M or F)\n",
    "* id (str) - customer id\n",
    "* income (float) - customer's income\n",
    "\n",
    "**transcript.json**\n",
    "* event (str) - record description (ie transaction, offer received, offer viewed, etc.)\n",
    "* person (str) - customer id\n",
    "* time (int) - time in hours since start of test. The data begins at time t=0\n",
    "* value - (dict of strings) - either an offer id or transaction amount depending on the record\n",
    "\n",
    "**Note:** If you are using the workspace, you will need to go to the terminal and run the command `conda update pandas` before reading in the files. This is because the version of pandas in the workspace cannot read in the transcript.json file correctly, but the newest version of pandas can. You can access the termnal from the orange icon in the top left of this notebook.  \n",
    "\n",
    "You can see how to access the terminal and how the install works using the two images below.  First you need to access the terminal:\n",
    "\n",
    "<img src=\"pic1.png\"/>\n",
    "\n",
    "Then you will want to run the above command:\n",
    "\n",
    "<img src=\"pic2.png\"/>\n",
    "\n",
    "Finally, when you enter back into the notebook (use the jupyter icon again), you should be able to run the below cell without any errors."
   ]
  },
  {
   "cell_type": "markdown",
   "metadata": {},
   "source": [
    "## Problem statement\n",
    "- What is important to making an effective offer? <br>\n",
    "This project aims to use Starbucks offer meta data to explore 'What is important to making an effective offer?' It does EDA by answering some descriptive questions first in order to understand the data set and identify anomalies and missing data."
   ]
  },
  {
   "cell_type": "code",
   "execution_count": 1,
   "metadata": {},
   "outputs": [],
   "source": [
    "import pandas as pd\n",
    "import numpy as np\n",
    "import math\n",
    "import json\n",
    "import matplotlib.pyplot as plt\n",
    "import matplotlib.patches as mpatches\n",
    "import seaborn as sb\n",
    "%matplotlib inline\n",
    "\n",
    "# read in the json files\n",
    "portfolio = pd.read_json('data/portfolio.json', orient='records', lines=True)\n",
    "profile = pd.read_json('data/profile.json', orient='records', lines=True)\n",
    "transcript = pd.read_json('data/transcript.json', orient='records', lines=True)\n",
    "plt.style.use('ggplot')\n",
    "sb.set_style('white')\n",
    "\n",
    "import warnings\n",
    "warnings.filterwarnings(\"ignore\")\n",
    "\n",
    "from sklearn.model_selection import train_test_split, GridSearchCV\n",
    "from sklearn.pipeline import Pipeline\n",
    "\n",
    "from sklearn.preprocessing import StandardScaler\n",
    "from sklearn.ensemble import RandomForestClassifier\n",
    "from sklearn.ensemble import AdaBoostClassifier\n",
    "from sklearn.linear_model import LogisticRegression\n",
    "from sklearn import svm\n",
    "\n",
    "from sklearn.metrics import classification_report, accuracy_score\n",
    "from sklearn.metrics import precision_recall_fscore_support as score"
   ]
  },
  {
   "cell_type": "markdown",
   "metadata": {},
   "source": [
    "# EDA & data preprocessing"
   ]
  },
  {
   "cell_type": "markdown",
   "metadata": {},
   "source": [
    "### 1. portfolio dataset"
   ]
  },
  {
   "cell_type": "code",
   "execution_count": 2,
   "metadata": {},
   "outputs": [
    {
     "name": "stdout",
     "output_type": "stream",
     "text": [
      "<class 'pandas.core.frame.DataFrame'>\n",
      "RangeIndex: 10 entries, 0 to 9\n",
      "Data columns (total 6 columns):\n",
      " #   Column      Non-Null Count  Dtype \n",
      "---  ------      --------------  ----- \n",
      " 0   reward      10 non-null     int64 \n",
      " 1   channels    10 non-null     object\n",
      " 2   difficulty  10 non-null     int64 \n",
      " 3   duration    10 non-null     int64 \n",
      " 4   offer_type  10 non-null     object\n",
      " 5   id          10 non-null     object\n",
      "dtypes: int64(3), object(3)\n",
      "memory usage: 608.0+ bytes\n"
     ]
    },
    {
     "data": {
      "text/plain": [
       "(   reward                      channels  difficulty  duration     offer_type  \\\n",
       " 0      10       [email, mobile, social]          10         7           bogo   \n",
       " 1      10  [web, email, mobile, social]          10         5           bogo   \n",
       " 2       0          [web, email, mobile]           0         4  informational   \n",
       " 3       5          [web, email, mobile]           5         7           bogo   \n",
       " 4       5                  [web, email]          20        10       discount   \n",
       " \n",
       "                                  id  \n",
       " 0  ae264e3637204a6fb9bb56bc8210ddfd  \n",
       " 1  4d5c57ea9a6940dd891ad53e9dbe8da0  \n",
       " 2  3f207df678b143eea3cee63160fa8bed  \n",
       " 3  9b98b8c7a33c4b65b9aebfe6a799e6d9  \n",
       " 4  0b1e1539f2cc45b7b9fa7c272da2e1d7  ,\n",
       " None)"
      ]
     },
     "execution_count": 2,
     "metadata": {},
     "output_type": "execute_result"
    }
   ],
   "source": [
    "portfolio.head(), portfolio.info()"
   ]
  },
  {
   "cell_type": "code",
   "execution_count": 3,
   "metadata": {},
   "outputs": [
    {
     "name": "stdout",
     "output_type": "stream",
     "text": [
      "There is 0 duplicates in offer id.\n"
     ]
    }
   ],
   "source": [
    "id_duplicates = portfolio['id'].duplicated().sum()\n",
    "print('There is {} duplicates in offer id.'.format(id_duplicates))"
   ]
  },
  {
   "cell_type": "code",
   "execution_count": 4,
   "metadata": {},
   "outputs": [],
   "source": [
    "# rename id to offer_id\n",
    "portfolio.rename(columns={'id':'offer_id'}, inplace=True)"
   ]
  },
  {
   "cell_type": "code",
   "execution_count": 5,
   "metadata": {},
   "outputs": [
    {
     "data": {
      "image/png": "[encoded data removed]",
      "text/plain": [
       "<Figure size 864x360 with 4 Axes>"
      ]
     },
     "metadata": {},
     "output_type": "display_data"
    }
   ],
   "source": [
    "portfolio.hist(figsize=(12,5), grid=False);"
   ]
  },
  {
   "cell_type": "code",
   "execution_count": 6,
   "metadata": {},
   "outputs": [
    {
     "data": {
      "image/png": "[encoded data removed]",
      "text/plain": [
       "<Figure size 432x288 with 1 Axes>"
      ]
     },
     "metadata": {},
     "output_type": "display_data"
    }
   ],
   "source": [
    "portfolio['channels'].value_counts().plot(kind='bar', title='channels', width=0.75);"
   ]
  },
  {
   "cell_type": "markdown",
   "metadata": {},
   "source": [
    "Most of offers are sending on all channels."
   ]
  },
  {
   "cell_type": "code",
   "execution_count": 7,
   "metadata": {},
   "outputs": [
    {
     "data": {
      "image/png": "[encoded data removed]",
      "text/plain": [
       "<Figure size 432x288 with 1 Axes>"
      ]
     },
     "metadata": {},
     "output_type": "display_data"
    }
   ],
   "source": [
    "portfolio['offer_type'].value_counts().plot(kind='bar', title='offer type', width=0.75);"
   ]
  },
  {
   "cell_type": "code",
   "execution_count": 8,
   "metadata": {},
   "outputs": [],
   "source": [
    "# clean channel\n",
    "channels = pd.get_dummies(portfolio['channels'].apply(pd.Series).stack()).sum(level=0)\n",
    "portfolio_new = portfolio.merge(channels, left_index=True, right_index=True)\n",
    "portfolio_new = portfolio_new.drop('channels', axis=1)"
   ]
  },
  {
   "cell_type": "code",
   "execution_count": 9,
   "metadata": {},
   "outputs": [],
   "source": [
    "# clean offer_type\n",
    "offer_type = pd.get_dummies(portfolio_new['offer_type'])\n",
    "portfolio_new.merge(offer_type, left_index=True, right_index=True)\n",
    "portfolio_new = portfolio_new.drop('offer_type', axis=1)"
   ]
  },
  {
   "cell_type": "markdown",
   "metadata": {},
   "source": [
    "### 2. profile dataset"
   ]
  },
  {
   "cell_type": "code",
   "execution_count": 10,
   "metadata": {},
   "outputs": [
    {
     "name": "stdout",
     "output_type": "stream",
     "text": [
      "<class 'pandas.core.frame.DataFrame'>\n",
      "RangeIndex: 17000 entries, 0 to 16999\n",
      "Data columns (total 5 columns):\n",
      " #   Column            Non-Null Count  Dtype  \n",
      "---  ------            --------------  -----  \n",
      " 0   gender            14825 non-null  object \n",
      " 1   age               17000 non-null  int64  \n",
      " 2   id                17000 non-null  object \n",
      " 3   became_member_on  17000 non-null  int64  \n",
      " 4   income            14825 non-null  float64\n",
      "dtypes: float64(1), int64(2), object(2)\n",
      "memory usage: 664.2+ KB\n"
     ]
    },
    {
     "data": {
      "text/plain": [
       "(  gender  age                                id  became_member_on    income\n",
       " 0   None  118  68be06ca386d4c31939f3a4f0e3dd783          20170212       NaN\n",
       " 1      F   55  0610b486422d4921ae7d2bf64640c50b          20170715  112000.0\n",
       " 2   None  118  38fe809add3b4fcf9315a9694bb96ff5          20180712       NaN\n",
       " 3      F   75  78afa995795e4d85b5d9ceeca43f5fef          20170509  100000.0\n",
       " 4   None  118  a03223e636434f42ac4c3df47e8bac43          20170804       NaN,\n",
       " None)"
      ]
     },
     "execution_count": 10,
     "metadata": {},
     "output_type": "execute_result"
    }
   ],
   "source": [
    "profile.head(), profile.info()"
   ]
  },
  {
   "cell_type": "code",
   "execution_count": 11,
   "metadata": {},
   "outputs": [
    {
     "data": {
      "image/png": "[encoded data removed]",
      "text/plain": [
       "<Figure size 864x360 with 4 Axes>"
      ]
     },
     "metadata": {},
     "output_type": "display_data"
    }
   ],
   "source": [
    "profile.hist(figsize=(12,5), grid=False);"
   ]
  },
  {
   "cell_type": "markdown",
   "metadata": {},
   "source": [
    "In age distribution, there are some ages above 100, which doesn't seem to be correct."
   ]
  },
  {
   "cell_type": "code",
   "execution_count": 12,
   "metadata": {},
   "outputs": [
    {
     "data": {
      "text/html": [
       "<div>\n",
       "<style scoped>\n",
       "    .dataframe tbody tr th:only-of-type {\n",
       "        vertical-align: middle;\n",
       "    }\n",
       "\n",
       "    .dataframe tbody tr th {\n",
       "        vertical-align: top;\n",
       "    }\n",
       "\n",
       "    .dataframe thead th {\n",
       "        text-align: right;\n",
       "    }\n",
       "</style>\n",
       "<table border=\"1\" class=\"dataframe\">\n",
       "  <thead>\n",
       "    <tr style=\"text-align: right;\">\n",
       "      <th></th>\n",
       "      <th>gender</th>\n",
       "      <th>age</th>\n",
       "      <th>id</th>\n",
       "      <th>became_member_on</th>\n",
       "      <th>income</th>\n",
       "    </tr>\n",
       "  </thead>\n",
       "  <tbody>\n",
       "    <tr>\n",
       "      <th>0</th>\n",
       "      <td>None</td>\n",
       "      <td>118</td>\n",
       "      <td>68be06ca386d4c31939f3a4f0e3dd783</td>\n",
       "      <td>20170212</td>\n",
       "      <td>NaN</td>\n",
       "    </tr>\n",
       "    <tr>\n",
       "      <th>2</th>\n",
       "      <td>None</td>\n",
       "      <td>118</td>\n",
       "      <td>38fe809add3b4fcf9315a9694bb96ff5</td>\n",
       "      <td>20180712</td>\n",
       "      <td>NaN</td>\n",
       "    </tr>\n",
       "    <tr>\n",
       "      <th>4</th>\n",
       "      <td>None</td>\n",
       "      <td>118</td>\n",
       "      <td>a03223e636434f42ac4c3df47e8bac43</td>\n",
       "      <td>20170804</td>\n",
       "      <td>NaN</td>\n",
       "    </tr>\n",
       "    <tr>\n",
       "      <th>6</th>\n",
       "      <td>None</td>\n",
       "      <td>118</td>\n",
       "      <td>8ec6ce2a7e7949b1bf142def7d0e0586</td>\n",
       "      <td>20170925</td>\n",
       "      <td>NaN</td>\n",
       "    </tr>\n",
       "    <tr>\n",
       "      <th>7</th>\n",
       "      <td>None</td>\n",
       "      <td>118</td>\n",
       "      <td>68617ca6246f4fbc85e91a2a49552598</td>\n",
       "      <td>20171002</td>\n",
       "      <td>NaN</td>\n",
       "    </tr>\n",
       "    <tr>\n",
       "      <th>...</th>\n",
       "      <td>...</td>\n",
       "      <td>...</td>\n",
       "      <td>...</td>\n",
       "      <td>...</td>\n",
       "      <td>...</td>\n",
       "    </tr>\n",
       "    <tr>\n",
       "      <th>16980</th>\n",
       "      <td>None</td>\n",
       "      <td>118</td>\n",
       "      <td>5c686d09ca4d475a8f750f2ba07e0440</td>\n",
       "      <td>20160901</td>\n",
       "      <td>NaN</td>\n",
       "    </tr>\n",
       "    <tr>\n",
       "      <th>16982</th>\n",
       "      <td>None</td>\n",
       "      <td>118</td>\n",
       "      <td>d9ca82f550ac4ee58b6299cf1e5c824a</td>\n",
       "      <td>20160415</td>\n",
       "      <td>NaN</td>\n",
       "    </tr>\n",
       "    <tr>\n",
       "      <th>16989</th>\n",
       "      <td>None</td>\n",
       "      <td>118</td>\n",
       "      <td>ca45ee1883624304bac1e4c8a114f045</td>\n",
       "      <td>20180305</td>\n",
       "      <td>NaN</td>\n",
       "    </tr>\n",
       "    <tr>\n",
       "      <th>16991</th>\n",
       "      <td>None</td>\n",
       "      <td>118</td>\n",
       "      <td>a9a20fa8b5504360beb4e7c8712f8306</td>\n",
       "      <td>20160116</td>\n",
       "      <td>NaN</td>\n",
       "    </tr>\n",
       "    <tr>\n",
       "      <th>16994</th>\n",
       "      <td>None</td>\n",
       "      <td>118</td>\n",
       "      <td>c02b10e8752c4d8e9b73f918558531f7</td>\n",
       "      <td>20151211</td>\n",
       "      <td>NaN</td>\n",
       "    </tr>\n",
       "  </tbody>\n",
       "</table>\n",
       "<p>2192 rows × 5 columns</p>\n",
       "</div>"
      ],
      "text/plain": [
       "      gender  age                                id  became_member_on  income\n",
       "0       None  118  68be06ca386d4c31939f3a4f0e3dd783          20170212     NaN\n",
       "2       None  118  38fe809add3b4fcf9315a9694bb96ff5          20180712     NaN\n",
       "4       None  118  a03223e636434f42ac4c3df47e8bac43          20170804     NaN\n",
       "6       None  118  8ec6ce2a7e7949b1bf142def7d0e0586          20170925     NaN\n",
       "7       None  118  68617ca6246f4fbc85e91a2a49552598          20171002     NaN\n",
       "...      ...  ...                               ...               ...     ...\n",
       "16980   None  118  5c686d09ca4d475a8f750f2ba07e0440          20160901     NaN\n",
       "16982   None  118  d9ca82f550ac4ee58b6299cf1e5c824a          20160415     NaN\n",
       "16989   None  118  ca45ee1883624304bac1e4c8a114f045          20180305     NaN\n",
       "16991   None  118  a9a20fa8b5504360beb4e7c8712f8306          20160116     NaN\n",
       "16994   None  118  c02b10e8752c4d8e9b73f918558531f7          20151211     NaN\n",
       "\n",
       "[2192 rows x 5 columns]"
      ]
     },
     "execution_count": 12,
     "metadata": {},
     "output_type": "execute_result"
    }
   ],
   "source": [
    "# check and clean age over 100\n",
    "profile[profile['age']>=100]"
   ]
  },
  {
   "cell_type": "code",
   "execution_count": 13,
   "metadata": {},
   "outputs": [
    {
     "data": {
      "text/plain": [
       "gender              2175\n",
       "age                    0\n",
       "id                     0\n",
       "became_member_on       0\n",
       "income              2175\n",
       "dtype: int64"
      ]
     },
     "execution_count": 13,
     "metadata": {},
     "output_type": "execute_result"
    }
   ],
   "source": [
    "# none values in age and income for ages over 100\n",
    "profile[profile['age']>=100].isnull().sum()"
   ]
  },
  {
   "cell_type": "code",
   "execution_count": 14,
   "metadata": {},
   "outputs": [
    {
     "name": "stdout",
     "output_type": "stream",
     "text": [
      "<class 'pandas.core.frame.DataFrame'>\n",
      "Int64Index: 14808 entries, 1 to 16999\n",
      "Data columns (total 5 columns):\n",
      " #   Column            Non-Null Count  Dtype  \n",
      "---  ------            --------------  -----  \n",
      " 0   gender            14808 non-null  object \n",
      " 1   age               14808 non-null  int64  \n",
      " 2   id                14808 non-null  object \n",
      " 3   became_member_on  14808 non-null  int64  \n",
      " 4   income            14808 non-null  float64\n",
      "dtypes: float64(1), int64(2), object(2)\n",
      "memory usage: 694.1+ KB\n"
     ]
    }
   ],
   "source": [
    "# ages over 100 have no values in gender and income, drop rows when ages are over 100\n",
    "drop_age = profile[profile['age']>=100].index\n",
    "\n",
    "profile = profile.drop(axis=0, index=drop_age)\n",
    "profile.info()"
   ]
  },
  {
   "cell_type": "code",
   "execution_count": 15,
   "metadata": {},
   "outputs": [
    {
     "data": {
      "text/plain": [
       "gender              0\n",
       "age                 0\n",
       "id                  0\n",
       "became_member_on    0\n",
       "income              0\n",
       "dtype: int64"
      ]
     },
     "execution_count": 15,
     "metadata": {},
     "output_type": "execute_result"
    }
   ],
   "source": [
    "# after dropping ages over 100, there are no values any more\n",
    "profile.isnull().sum()"
   ]
  },
  {
   "cell_type": "code",
   "execution_count": 16,
   "metadata": {},
   "outputs": [
    {
     "data": {
      "text/plain": [
       "0"
      ]
     },
     "execution_count": 16,
     "metadata": {},
     "output_type": "execute_result"
    }
   ],
   "source": [
    "# no duplicates in customer id\n",
    "profile['id'].duplicated().sum()"
   ]
  },
  {
   "cell_type": "code",
   "execution_count": 17,
   "metadata": {},
   "outputs": [],
   "source": [
    "# rename id to customer_id\n",
    "profile.rename(columns={'id':'customer_id'}, inplace=True)"
   ]
  },
  {
   "cell_type": "code",
   "execution_count": 18,
   "metadata": {},
   "outputs": [
    {
     "data": {
      "image/png": "[encoded data removed]",
      "text/plain": [
       "<Figure size 864x360 with 4 Axes>"
      ]
     },
     "metadata": {},
     "output_type": "display_data"
    }
   ],
   "source": [
    "# distribution of numerical values seem better now\n",
    "profile.hist(figsize=(12,5), grid=False);"
   ]
  },
  {
   "cell_type": "markdown",
   "metadata": {},
   "source": [
    "- age is quite normal distribution, centralized at 50 to 60.\n",
    "- became_member_on is left skewed, most customers (6500) became members in 2017 and 2018.\n",
    "- income is right skewed, mode is at around 70000."
   ]
  },
  {
   "cell_type": "code",
   "execution_count": 19,
   "metadata": {},
   "outputs": [
    {
     "data": {
      "text/html": [
       "<div>\n",
       "<style scoped>\n",
       "    .dataframe tbody tr th:only-of-type {\n",
       "        vertical-align: middle;\n",
       "    }\n",
       "\n",
       "    .dataframe tbody tr th {\n",
       "        vertical-align: top;\n",
       "    }\n",
       "\n",
       "    .dataframe thead th {\n",
       "        text-align: right;\n",
       "    }\n",
       "</style>\n",
       "<table border=\"1\" class=\"dataframe\">\n",
       "  <thead>\n",
       "    <tr style=\"text-align: right;\">\n",
       "      <th></th>\n",
       "      <th>age</th>\n",
       "      <th>became_member_on</th>\n",
       "      <th>income</th>\n",
       "    </tr>\n",
       "  </thead>\n",
       "  <tbody>\n",
       "    <tr>\n",
       "      <th>count</th>\n",
       "      <td>14808.000000</td>\n",
       "      <td>1.480800e+04</td>\n",
       "      <td>14808.000000</td>\n",
       "    </tr>\n",
       "    <tr>\n",
       "      <th>mean</th>\n",
       "      <td>54.340829</td>\n",
       "      <td>2.016689e+07</td>\n",
       "      <td>65394.313884</td>\n",
       "    </tr>\n",
       "    <tr>\n",
       "      <th>std</th>\n",
       "      <td>17.323921</td>\n",
       "      <td>1.188748e+04</td>\n",
       "      <td>21595.072904</td>\n",
       "    </tr>\n",
       "    <tr>\n",
       "      <th>min</th>\n",
       "      <td>18.000000</td>\n",
       "      <td>2.013073e+07</td>\n",
       "      <td>30000.000000</td>\n",
       "    </tr>\n",
       "    <tr>\n",
       "      <th>25%</th>\n",
       "      <td>42.000000</td>\n",
       "      <td>2.016052e+07</td>\n",
       "      <td>49000.000000</td>\n",
       "    </tr>\n",
       "    <tr>\n",
       "      <th>50%</th>\n",
       "      <td>55.000000</td>\n",
       "      <td>2.017080e+07</td>\n",
       "      <td>64000.000000</td>\n",
       "    </tr>\n",
       "    <tr>\n",
       "      <th>75%</th>\n",
       "      <td>66.000000</td>\n",
       "      <td>2.017123e+07</td>\n",
       "      <td>80000.000000</td>\n",
       "    </tr>\n",
       "    <tr>\n",
       "      <th>max</th>\n",
       "      <td>99.000000</td>\n",
       "      <td>2.018073e+07</td>\n",
       "      <td>120000.000000</td>\n",
       "    </tr>\n",
       "  </tbody>\n",
       "</table>\n",
       "</div>"
      ],
      "text/plain": [
       "                age  became_member_on         income\n",
       "count  14808.000000      1.480800e+04   14808.000000\n",
       "mean      54.340829      2.016689e+07   65394.313884\n",
       "std       17.323921      1.188748e+04   21595.072904\n",
       "min       18.000000      2.013073e+07   30000.000000\n",
       "25%       42.000000      2.016052e+07   49000.000000\n",
       "50%       55.000000      2.017080e+07   64000.000000\n",
       "75%       66.000000      2.017123e+07   80000.000000\n",
       "max       99.000000      2.018073e+07  120000.000000"
      ]
     },
     "execution_count": 19,
     "metadata": {},
     "output_type": "execute_result"
    }
   ],
   "source": [
    "profile.describe()"
   ]
  },
  {
   "cell_type": "markdown",
   "metadata": {},
   "source": [
    "- Most customers sit in age group 50 to 60. Will use the 25%, 50% and 75% as a criteria to seperate customers into different age groups."
   ]
  },
  {
   "cell_type": "code",
   "execution_count": 20,
   "metadata": {},
   "outputs": [
    {
     "data": {
      "image/png": "[encoded data removed]",
      "text/plain": [
       "<Figure size 432x288 with 1 Axes>"
      ]
     },
     "metadata": {},
     "output_type": "display_data"
    }
   ],
   "source": [
    "profile['gender'].value_counts().plot(kind='bar', title='customer gender', width=0.55);"
   ]
  },
  {
   "cell_type": "markdown",
   "metadata": {},
   "source": [
    "In customer gender group, males (8000) are more than females (6000)."
   ]
  },
  {
   "cell_type": "code",
   "execution_count": 21,
   "metadata": {},
   "outputs": [
    {
     "data": {
      "image/png": "[encoded data removed]",
      "text/plain": [
       "<Figure size 1440x288 with 3 Axes>"
      ]
     },
     "metadata": {},
     "output_type": "display_data"
    }
   ],
   "source": [
    "# seperate became_member_on value to year, month, day as single feature\n",
    "profile['became_member_on_year'] = profile['became_member_on'].apply(lambda x: int(str(x)[:4]))\n",
    "profile['became_member_on_month'] = profile['became_member_on'].apply(lambda x: int(str(x)[4:6]))\n",
    "profile['became_member_on_day'] = profile['became_member_on'].apply(lambda x: int(str(x)[6:8]))\n",
    "\n",
    "# plot to see pattern\n",
    "fig, ax = plt.subplots(1, 3, figsize=(20,4), sharey=True)\n",
    "ax[0].hist(profile['became_member_on_year'])\n",
    "ax[0].set_title('distribution of became_member_on_year')\n",
    "\n",
    "ax[1].hist(profile['became_member_on_month'])\n",
    "ax[1].set_title('distribution of became_member_on_month')\n",
    "\n",
    "ax[2].hist(profile['became_member_on_day'])\n",
    "ax[2].set_title('distribution of became_member_on_day');"
   ]
  },
  {
   "cell_type": "markdown",
   "metadata": {},
   "source": [
    "- Most customers became member in 2017 and 2018, in Jan to Mar.\n",
    "- It seems the impact of year on number of customers are big, as well as month (Nov to Feb), however day as a feature has very small impact."
   ]
  },
  {
   "cell_type": "code",
   "execution_count": 22,
   "metadata": {},
   "outputs": [],
   "source": [
    "def profile_cleaning():\n",
    "    \"\"\" Method to clean up profile dataset,\n",
    "        it first encode gender,\n",
    "        then split age group into bins,\n",
    "        encode became_member_on,\n",
    "        at last encode age group.\n",
    "    \n",
    "    Inputs: none\n",
    "    Outputs: a cleaned new dataset, dataframe\n",
    "    \n",
    "    \"\"\"\n",
    "    # transform gender into dummy\n",
    "    profile_gender = pd.get_dummies(profile['gender'])\n",
    "    profile_new_df = profile_gender.merge(profile, left_on=profile.index, right_on=profile_gender.index)\n",
    "    \n",
    "    # drop old gender feature and the other extra\n",
    "    profile_new_df = profile_new_df.drop(['gender','key_0'], axis=1)\n",
    "    \n",
    "    # split age into different groups\n",
    "    perc_25 = profile['age'].describe()[4]\n",
    "    perc_50 = profile['age'].describe()[5]\n",
    "    perc_75 = profile['age'].describe()[6]\n",
    "    perc_min = profile['age'].min()\n",
    "    perc_max = profile['age'].max()\n",
    "    \n",
    "    # set bins and names\n",
    "    bins_edge = [perc_min, perc_25, perc_50, perc_75, perc_max]\n",
    "    bins_names = ['18_42', '42_55', '55_66', '66_99']\n",
    "    \n",
    "    # cut bins\n",
    "    profile_new_df['age_group'] = pd.cut(profile['age'], bins_edge, labels=bins_names)\n",
    "    profile['age_group'] = pd.cut(profile['age'], bins_edge, labels=bins_names)\n",
    "    \n",
    "    # encode age\n",
    "    profile_age = pd.get_dummies(profile_new_df['age_group'])\n",
    "    profile_new_df = profile_age.merge(profile_new_df, left_on=profile_new_df.index, right_on=profile_age.index)\n",
    "    profile_new_df = profile_new_df.drop(['age','age_group','key_0','became_member_on'], axis=1)\n",
    "    \n",
    "    # encode became_member_on\n",
    "    became_member_on = pd.get_dummies(profile_new_df[['became_member_on_year','became_member_on_month','became_member_on_day']].astype('str'))\n",
    "    profile_new_df = profile_new_df.merge(became_member_on, how='left', left_on=became_member_on.index, right_on=became_member_on.index)\n",
    "    profile_new_df = profile_new_df.drop(['key_0','became_member_on_year','became_member_on_month','became_member_on_day'], axis=1)\n",
    "    \n",
    "    return profile_new_df\n",
    "\n",
    "profile_new = profile_cleaning()"
   ]
  },
  {
   "cell_type": "markdown",
   "metadata": {},
   "source": [
    "### 3. transcript dataset\n",
    "\n",
    "transcript data set is the interaction between profile and portfolio"
   ]
  },
  {
   "cell_type": "code",
   "execution_count": 23,
   "metadata": {},
   "outputs": [
    {
     "name": "stdout",
     "output_type": "stream",
     "text": [
      "<class 'pandas.core.frame.DataFrame'>\n",
      "RangeIndex: 306534 entries, 0 to 306533\n",
      "Data columns (total 4 columns):\n",
      " #   Column  Non-Null Count   Dtype \n",
      "---  ------  --------------   ----- \n",
      " 0   person  306534 non-null  object\n",
      " 1   event   306534 non-null  object\n",
      " 2   value   306534 non-null  object\n",
      " 3   time    306534 non-null  int64 \n",
      "dtypes: int64(1), object(3)\n",
      "memory usage: 9.4+ MB\n"
     ]
    },
    {
     "data": {
      "text/plain": [
       "(                             person           event  \\\n",
       " 0  78afa995795e4d85b5d9ceeca43f5fef  offer received   \n",
       " 1  a03223e636434f42ac4c3df47e8bac43  offer received   \n",
       " 2  e2127556f4f64592b11af22de27a7932  offer received   \n",
       " 3  8ec6ce2a7e7949b1bf142def7d0e0586  offer received   \n",
       " 4  68617ca6246f4fbc85e91a2a49552598  offer received   \n",
       " \n",
       "                                               value  time  \n",
       " 0  {'offer id': '9b98b8c7a33c4b65b9aebfe6a799e6d9'}     0  \n",
       " 1  {'offer id': '0b1e1539f2cc45b7b9fa7c272da2e1d7'}     0  \n",
       " 2  {'offer id': '2906b810c7d4411798c6938adc9daaa5'}     0  \n",
       " 3  {'offer id': 'fafdcd668e3743c1bb461111dcafc2a4'}     0  \n",
       " 4  {'offer id': '4d5c57ea9a6940dd891ad53e9dbe8da0'}     0  ,\n",
       " None)"
      ]
     },
     "execution_count": 23,
     "metadata": {},
     "output_type": "execute_result"
    }
   ],
   "source": [
    "transcript.head(), transcript.info()"
   ]
  },
  {
   "cell_type": "code",
   "execution_count": 24,
   "metadata": {},
   "outputs": [
    {
     "name": "stdout",
     "output_type": "stream",
     "text": [
      "There are 289534 duplicates in person, due to different offers, there is 17000 unique customers\n"
     ]
    }
   ],
   "source": [
    "# duplicates in person\n",
    "person_duplicate = transcript['person'].duplicated().sum()\n",
    "person_unique = transcript['person'].nunique()\n",
    "print('There are {} duplicates in person, due to different offers, there is {} unique customers'.format(person_duplicate, person_unique))"
   ]
  },
  {
   "cell_type": "code",
   "execution_count": 25,
   "metadata": {},
   "outputs": [
    {
     "data": {
      "image/png": "[encoded data removed]",
      "text/plain": [
       "<Figure size 432x288 with 1 Axes>"
      ]
     },
     "metadata": {},
     "output_type": "display_data"
    }
   ],
   "source": [
    "# distribution of numerical values seem better now\n",
    "transcript.hist(grid=False)\n",
    "plt.title('time in hour');"
   ]
  },
  {
   "cell_type": "markdown",
   "metadata": {},
   "source": [
    "Inconsistency of unit between portfolio duration and transcript test time, will transform time in hour to day."
   ]
  },
  {
   "cell_type": "code",
   "execution_count": 26,
   "metadata": {},
   "outputs": [
    {
     "data": {
      "image/png": "[encoded data removed]",
      "text/plain": [
       "<Figure size 432x288 with 1 Axes>"
      ]
     },
     "metadata": {},
     "output_type": "display_data"
    }
   ],
   "source": [
    "# convert transcript test time from hour to day\n",
    "transcript['time_day'] = transcript['time']/24\n",
    "\n",
    "# visualize again\n",
    "transcript['time_day'].hist(grid=False)\n",
    "plt.title('time in day')\n",
    "\n",
    "# drop original column\n",
    "transcript = transcript.drop('time', axis=1);"
   ]
  },
  {
   "cell_type": "code",
   "execution_count": 27,
   "metadata": {},
   "outputs": [
    {
     "data": {
      "image/png": "[encoded data removed]",
      "text/plain": [
       "<Figure size 432x288 with 1 Axes>"
      ]
     },
     "metadata": {},
     "output_type": "display_data"
    }
   ],
   "source": [
    "# look at event\n",
    "transcript['event'].value_counts().plot(kind='bar', title='offer recevied', width=0.75);"
   ]
  },
  {
   "cell_type": "code",
   "execution_count": 28,
   "metadata": {},
   "outputs": [],
   "source": [
    "def clean_value_col():\n",
    "    \"\"\"split value column of transcript into 3 columns amount, offer_id, reward\n",
    "    \n",
    "    Inputs: none\n",
    "    Outputs: 3 new columns as a new dataset, dataframe\n",
    "    \"\"\"\n",
    "    # split value column\n",
    "    values = pd.json_normalize(transcript['value'])\n",
    "    \n",
    "    # get not null values in offer_id\n",
    "    values_offer_id = values[values['offer id'].isnull()==False]\n",
    "    \n",
    "    # fill with original index\n",
    "    filled_offers = values_offer_id.assign(offer_id=values_offer_id['offer id'])\n",
    "    values_old = values.drop(values_offer_id.index, axis=0)\n",
    "    values_new = values_old.append(filled_offers)\n",
    "    values_new = values_new.drop(['offer id'], axis=1)\n",
    "    \n",
    "    return values_new\n",
    "\n",
    "values_new = clean_value_col()"
   ]
  },
  {
   "cell_type": "code",
   "execution_count": 29,
   "metadata": {},
   "outputs": [],
   "source": [
    "# merge new values columns back to transcript\n",
    "transcript = transcript.merge(values_new, how='inner', left_index=True, right_index=True)\n",
    "transcript = transcript.drop(['value'], axis=1)"
   ]
  },
  {
   "cell_type": "code",
   "execution_count": 30,
   "metadata": {},
   "outputs": [
    {
     "data": {
      "image/png": "[encoded data removed]",
      "text/plain": [
       "<Figure size 576x360 with 4 Axes>"
      ]
     },
     "metadata": {},
     "output_type": "display_data"
    }
   ],
   "source": [
    "# look at distribution of numeric features in transcript\n",
    "transcript.hist(figsize=(8,5), grid=False);"
   ]
  },
  {
   "cell_type": "code",
   "execution_count": 31,
   "metadata": {},
   "outputs": [
    {
     "data": {
      "text/plain": [
       "count    138953.000000\n",
       "mean         12.777356\n",
       "std          30.250529\n",
       "min           0.050000\n",
       "25%           2.780000\n",
       "50%           8.890000\n",
       "75%          18.070000\n",
       "max        1062.280000\n",
       "Name: amount, dtype: float64"
      ]
     },
     "execution_count": 31,
     "metadata": {},
     "output_type": "execute_result"
    },
    {
     "data": {
      "image/png": "[encoded data removed]",
      "text/plain": [
       "<Figure size 432x288 with 1 Axes>"
      ]
     },
     "metadata": {},
     "output_type": "display_data"
    }
   ],
   "source": [
    "# as amount in previous plot is too squeezy, look at it seperately\n",
    "plt.boxplot(transcript[transcript['amount'].isnull()==False]['amount'])\n",
    "transcript[transcript['amount'].isnull()==False]['amount'].describe()"
   ]
  },
  {
   "cell_type": "code",
   "execution_count": 32,
   "metadata": {},
   "outputs": [
    {
     "name": "stdout",
     "output_type": "stream",
     "text": [
      "<class 'pandas.core.frame.DataFrame'>\n",
      "Int64Index: 306534 entries, 0 to 306533\n",
      "Data columns (total 6 columns):\n",
      " #   Column    Non-Null Count   Dtype  \n",
      "---  ------    --------------   -----  \n",
      " 0   person    306534 non-null  object \n",
      " 1   event     306534 non-null  object \n",
      " 2   time_day  306534 non-null  float64\n",
      " 3   amount    138953 non-null  float64\n",
      " 4   offer_id  167581 non-null  object \n",
      " 5   reward    33579 non-null   float64\n",
      "dtypes: float64(3), object(3)\n",
      "memory usage: 16.4+ MB\n"
     ]
    }
   ],
   "source": [
    "transcript.info()"
   ]
  },
  {
   "cell_type": "markdown",
   "metadata": {},
   "source": [
    "amount has a huge range from 1062 to 0.05, with average as 12.7."
   ]
  },
  {
   "cell_type": "code",
   "execution_count": 33,
   "metadata": {},
   "outputs": [],
   "source": [
    "# rename person to customer id\n",
    "transcript.rename(columns={'person':'customer_id'}, inplace=True)"
   ]
  },
  {
   "cell_type": "code",
   "execution_count": 34,
   "metadata": {},
   "outputs": [
    {
     "data": {
      "text/html": [
       "<div>\n",
       "<style scoped>\n",
       "    .dataframe tbody tr th:only-of-type {\n",
       "        vertical-align: middle;\n",
       "    }\n",
       "\n",
       "    .dataframe tbody tr th {\n",
       "        vertical-align: top;\n",
       "    }\n",
       "\n",
       "    .dataframe thead th {\n",
       "        text-align: right;\n",
       "    }\n",
       "</style>\n",
       "<table border=\"1\" class=\"dataframe\">\n",
       "  <thead>\n",
       "    <tr style=\"text-align: right;\">\n",
       "      <th></th>\n",
       "      <th>customer_id</th>\n",
       "      <th>event</th>\n",
       "      <th>time_day</th>\n",
       "      <th>amount</th>\n",
       "      <th>offer_id</th>\n",
       "      <th>reward</th>\n",
       "    </tr>\n",
       "  </thead>\n",
       "  <tbody>\n",
       "    <tr>\n",
       "      <th>0</th>\n",
       "      <td>78afa995795e4d85b5d9ceeca43f5fef</td>\n",
       "      <td>offer received</td>\n",
       "      <td>0.00</td>\n",
       "      <td>NaN</td>\n",
       "      <td>9b98b8c7a33c4b65b9aebfe6a799e6d9</td>\n",
       "      <td>NaN</td>\n",
       "    </tr>\n",
       "    <tr>\n",
       "      <th>15561</th>\n",
       "      <td>78afa995795e4d85b5d9ceeca43f5fef</td>\n",
       "      <td>offer viewed</td>\n",
       "      <td>0.25</td>\n",
       "      <td>NaN</td>\n",
       "      <td>9b98b8c7a33c4b65b9aebfe6a799e6d9</td>\n",
       "      <td>NaN</td>\n",
       "    </tr>\n",
       "    <tr>\n",
       "      <th>47582</th>\n",
       "      <td>78afa995795e4d85b5d9ceeca43f5fef</td>\n",
       "      <td>transaction</td>\n",
       "      <td>5.50</td>\n",
       "      <td>19.89</td>\n",
       "      <td>NaN</td>\n",
       "      <td>NaN</td>\n",
       "    </tr>\n",
       "    <tr>\n",
       "      <th>47583</th>\n",
       "      <td>78afa995795e4d85b5d9ceeca43f5fef</td>\n",
       "      <td>offer completed</td>\n",
       "      <td>5.50</td>\n",
       "      <td>NaN</td>\n",
       "      <td>9b98b8c7a33c4b65b9aebfe6a799e6d9</td>\n",
       "      <td>5.0</td>\n",
       "    </tr>\n",
       "    <tr>\n",
       "      <th>49502</th>\n",
       "      <td>78afa995795e4d85b5d9ceeca43f5fef</td>\n",
       "      <td>transaction</td>\n",
       "      <td>6.00</td>\n",
       "      <td>17.78</td>\n",
       "      <td>NaN</td>\n",
       "      <td>NaN</td>\n",
       "    </tr>\n",
       "    <tr>\n",
       "      <th>53176</th>\n",
       "      <td>78afa995795e4d85b5d9ceeca43f5fef</td>\n",
       "      <td>offer received</td>\n",
       "      <td>7.00</td>\n",
       "      <td>NaN</td>\n",
       "      <td>5a8bc65990b245e5a138643cd4eb9837</td>\n",
       "      <td>NaN</td>\n",
       "    </tr>\n",
       "    <tr>\n",
       "      <th>85291</th>\n",
       "      <td>78afa995795e4d85b5d9ceeca43f5fef</td>\n",
       "      <td>offer viewed</td>\n",
       "      <td>9.00</td>\n",
       "      <td>NaN</td>\n",
       "      <td>5a8bc65990b245e5a138643cd4eb9837</td>\n",
       "      <td>NaN</td>\n",
       "    </tr>\n",
       "    <tr>\n",
       "      <th>87134</th>\n",
       "      <td>78afa995795e4d85b5d9ceeca43f5fef</td>\n",
       "      <td>transaction</td>\n",
       "      <td>9.25</td>\n",
       "      <td>19.67</td>\n",
       "      <td>NaN</td>\n",
       "      <td>NaN</td>\n",
       "    </tr>\n",
       "    <tr>\n",
       "      <th>92104</th>\n",
       "      <td>78afa995795e4d85b5d9ceeca43f5fef</td>\n",
       "      <td>transaction</td>\n",
       "      <td>10.00</td>\n",
       "      <td>29.72</td>\n",
       "      <td>NaN</td>\n",
       "      <td>NaN</td>\n",
       "    </tr>\n",
       "    <tr>\n",
       "      <th>141566</th>\n",
       "      <td>78afa995795e4d85b5d9ceeca43f5fef</td>\n",
       "      <td>transaction</td>\n",
       "      <td>15.75</td>\n",
       "      <td>23.93</td>\n",
       "      <td>NaN</td>\n",
       "      <td>NaN</td>\n",
       "    </tr>\n",
       "    <tr>\n",
       "      <th>150598</th>\n",
       "      <td>78afa995795e4d85b5d9ceeca43f5fef</td>\n",
       "      <td>offer received</td>\n",
       "      <td>17.00</td>\n",
       "      <td>NaN</td>\n",
       "      <td>ae264e3637204a6fb9bb56bc8210ddfd</td>\n",
       "      <td>NaN</td>\n",
       "    </tr>\n",
       "    <tr>\n",
       "      <th>163375</th>\n",
       "      <td>78afa995795e4d85b5d9ceeca43f5fef</td>\n",
       "      <td>offer viewed</td>\n",
       "      <td>17.00</td>\n",
       "      <td>NaN</td>\n",
       "      <td>ae264e3637204a6fb9bb56bc8210ddfd</td>\n",
       "      <td>NaN</td>\n",
       "    </tr>\n",
       "    <tr>\n",
       "      <th>201572</th>\n",
       "      <td>78afa995795e4d85b5d9ceeca43f5fef</td>\n",
       "      <td>offer received</td>\n",
       "      <td>21.00</td>\n",
       "      <td>NaN</td>\n",
       "      <td>f19421c1d4aa40978ebb69ca19b0e20d</td>\n",
       "      <td>NaN</td>\n",
       "    </tr>\n",
       "    <tr>\n",
       "      <th>218393</th>\n",
       "      <td>78afa995795e4d85b5d9ceeca43f5fef</td>\n",
       "      <td>transaction</td>\n",
       "      <td>21.25</td>\n",
       "      <td>21.72</td>\n",
       "      <td>NaN</td>\n",
       "      <td>NaN</td>\n",
       "    </tr>\n",
       "    <tr>\n",
       "      <th>218394</th>\n",
       "      <td>78afa995795e4d85b5d9ceeca43f5fef</td>\n",
       "      <td>offer completed</td>\n",
       "      <td>21.25</td>\n",
       "      <td>NaN</td>\n",
       "      <td>ae264e3637204a6fb9bb56bc8210ddfd</td>\n",
       "      <td>10.0</td>\n",
       "    </tr>\n",
       "    <tr>\n",
       "      <th>218395</th>\n",
       "      <td>78afa995795e4d85b5d9ceeca43f5fef</td>\n",
       "      <td>offer completed</td>\n",
       "      <td>21.25</td>\n",
       "      <td>NaN</td>\n",
       "      <td>f19421c1d4aa40978ebb69ca19b0e20d</td>\n",
       "      <td>5.0</td>\n",
       "    </tr>\n",
       "    <tr>\n",
       "      <th>230412</th>\n",
       "      <td>78afa995795e4d85b5d9ceeca43f5fef</td>\n",
       "      <td>transaction</td>\n",
       "      <td>22.25</td>\n",
       "      <td>26.56</td>\n",
       "      <td>NaN</td>\n",
       "      <td>NaN</td>\n",
       "    </tr>\n",
       "    <tr>\n",
       "      <th>262138</th>\n",
       "      <td>78afa995795e4d85b5d9ceeca43f5fef</td>\n",
       "      <td>offer viewed</td>\n",
       "      <td>24.25</td>\n",
       "      <td>NaN</td>\n",
       "      <td>f19421c1d4aa40978ebb69ca19b0e20d</td>\n",
       "      <td>NaN</td>\n",
       "    </tr>\n",
       "  </tbody>\n",
       "</table>\n",
       "</div>"
      ],
      "text/plain": [
       "                             customer_id            event  time_day  amount  \\\n",
       "0       78afa995795e4d85b5d9ceeca43f5fef   offer received      0.00     NaN   \n",
       "15561   78afa995795e4d85b5d9ceeca43f5fef     offer viewed      0.25     NaN   \n",
       "47582   78afa995795e4d85b5d9ceeca43f5fef      transaction      5.50   19.89   \n",
       "47583   78afa995795e4d85b5d9ceeca43f5fef  offer completed      5.50     NaN   \n",
       "49502   78afa995795e4d85b5d9ceeca43f5fef      transaction      6.00   17.78   \n",
       "53176   78afa995795e4d85b5d9ceeca43f5fef   offer received      7.00     NaN   \n",
       "85291   78afa995795e4d85b5d9ceeca43f5fef     offer viewed      9.00     NaN   \n",
       "87134   78afa995795e4d85b5d9ceeca43f5fef      transaction      9.25   19.67   \n",
       "92104   78afa995795e4d85b5d9ceeca43f5fef      transaction     10.00   29.72   \n",
       "141566  78afa995795e4d85b5d9ceeca43f5fef      transaction     15.75   23.93   \n",
       "150598  78afa995795e4d85b5d9ceeca43f5fef   offer received     17.00     NaN   \n",
       "163375  78afa995795e4d85b5d9ceeca43f5fef     offer viewed     17.00     NaN   \n",
       "201572  78afa995795e4d85b5d9ceeca43f5fef   offer received     21.00     NaN   \n",
       "218393  78afa995795e4d85b5d9ceeca43f5fef      transaction     21.25   21.72   \n",
       "218394  78afa995795e4d85b5d9ceeca43f5fef  offer completed     21.25     NaN   \n",
       "218395  78afa995795e4d85b5d9ceeca43f5fef  offer completed     21.25     NaN   \n",
       "230412  78afa995795e4d85b5d9ceeca43f5fef      transaction     22.25   26.56   \n",
       "262138  78afa995795e4d85b5d9ceeca43f5fef     offer viewed     24.25     NaN   \n",
       "\n",
       "                                offer_id  reward  \n",
       "0       9b98b8c7a33c4b65b9aebfe6a799e6d9     NaN  \n",
       "15561   9b98b8c7a33c4b65b9aebfe6a799e6d9     NaN  \n",
       "47582                                NaN     NaN  \n",
       "47583   9b98b8c7a33c4b65b9aebfe6a799e6d9     5.0  \n",
       "49502                                NaN     NaN  \n",
       "53176   5a8bc65990b245e5a138643cd4eb9837     NaN  \n",
       "85291   5a8bc65990b245e5a138643cd4eb9837     NaN  \n",
       "87134                                NaN     NaN  \n",
       "92104                                NaN     NaN  \n",
       "141566                               NaN     NaN  \n",
       "150598  ae264e3637204a6fb9bb56bc8210ddfd     NaN  \n",
       "163375  ae264e3637204a6fb9bb56bc8210ddfd     NaN  \n",
       "201572  f19421c1d4aa40978ebb69ca19b0e20d     NaN  \n",
       "218393                               NaN     NaN  \n",
       "218394  ae264e3637204a6fb9bb56bc8210ddfd    10.0  \n",
       "218395  f19421c1d4aa40978ebb69ca19b0e20d     5.0  \n",
       "230412                               NaN     NaN  \n",
       "262138  f19421c1d4aa40978ebb69ca19b0e20d     NaN  "
      ]
     },
     "execution_count": 34,
     "metadata": {},
     "output_type": "execute_result"
    }
   ],
   "source": [
    "# look at 1 customer and his orders to understand the original dataset\n",
    "transcript[transcript['customer_id']=='78afa995795e4d85b5d9ceeca43f5fef']"
   ]
  },
  {
   "cell_type": "markdown",
   "metadata": {},
   "source": [
    "Above we are using one customer as example to understand the dataset, it seems, for one customer, an effective offer is: <br>\n",
    "- **offer_received -> offer_viewed -> if transaction over offer difficultiy -> offer_completed** <br>\n",
    "\n",
    "Sometimes even an offer is not viewed, it can be completed, this is unintentional offer completed, therefore, we will try identify the effective offers first. <br>\n",
    "As transaction here is used to measure if the offer is completed or not, will drop this feature from here."
   ]
  },
  {
   "cell_type": "code",
   "execution_count": 35,
   "metadata": {},
   "outputs": [],
   "source": [
    "def transcript_cleaning():\n",
    "    \"\"\"Encode categorical column (event) of transcript dataset\n",
    "    \n",
    "    Inputs: none\n",
    "    Outputs: new transcript dataset, dataframe\n",
    "    \"\"\"\n",
    "    events = pd.get_dummies(transcript['event'])\n",
    "    transcript_new_df = transcript.merge(events, left_index=True, right_index=True)\n",
    "    transcript_new_df = transcript_new_df.drop('event', axis=1)\n",
    "    \n",
    "    return transcript_new_df\n",
    "\n",
    "transcript_new = transcript_cleaning()"
   ]
  },
  {
   "cell_type": "code",
   "execution_count": 36,
   "metadata": {},
   "outputs": [
    {
     "name": "stdout",
     "output_type": "stream",
     "text": [
      "Number of offers per customer is 3.7.\n"
     ]
    }
   ],
   "source": [
    "# how many offers per customer get\n",
    "num_offer_person = transcript_new.groupby('customer_id')['offer_id'].nunique().mean()\n",
    "\n",
    "print('Number of offers per customer is {:.1f}.'.format(num_offer_person))"
   ]
  },
  {
   "cell_type": "code",
   "execution_count": 37,
   "metadata": {},
   "outputs": [],
   "source": [
    "# based on previous observation about effective offers, construct a dataset on effective offers\n",
    "\n",
    "def df_effective_offer():\n",
    "    \"\"\" construct a dataset of effective offer, per customer per offer id, \n",
    "        if offer is viewed and completed, that's an effective offer,\n",
    "        if offer is only received or received and viewed, it's an ineffective offer\n",
    "        \n",
    "    Inputs: none\n",
    "    Outputs: effective_offer dataset, dataframe\n",
    "    \n",
    "    \"\"\"\n",
    "    # group transcript df by events\n",
    "    transcript_df = transcript_new.groupby(['customer_id','offer_id'], as_index=False).agg({'offer completed':'sum',\n",
    "                                                                                        'offer received':'sum',\n",
    "                                                                                        'offer viewed':'sum'})\n",
    "    \n",
    "    # construct a new column of effective offer\n",
    "    transcript_df['effective_offer'] = transcript_df['offer completed'] + transcript_df['offer viewed']\n",
    "    transcript_df['effective_offer'] = transcript_df['effective_offer'].apply(lambda x: 1 if x>=2 else 0)\n",
    "    \n",
    "    # drop columns offer_completed, offer_received, offer_viewed\n",
    "    effective_offer = transcript_df.drop(['offer completed','offer received', 'offer viewed'], axis=1)\n",
    "    \n",
    "    return effective_offer\n",
    "\n",
    "effective_offer_df = df_effective_offer()"
   ]
  },
  {
   "cell_type": "code",
   "execution_count": 38,
   "metadata": {},
   "outputs": [
    {
     "data": {
      "text/plain": [
       "customer_id        0\n",
       "offer_id           0\n",
       "effective_offer    0\n",
       "dtype: int64"
      ]
     },
     "execution_count": 38,
     "metadata": {},
     "output_type": "execute_result"
    }
   ],
   "source": [
    "# validate constructed dataset\n",
    "effective_offer_df.isnull().sum()"
   ]
  },
  {
   "cell_type": "code",
   "execution_count": 39,
   "metadata": {},
   "outputs": [
    {
     "name": "stdout",
     "output_type": "stream",
     "text": [
      "<class 'pandas.core.frame.DataFrame'>\n",
      "RangeIndex: 63288 entries, 0 to 63287\n",
      "Data columns (total 3 columns):\n",
      " #   Column           Non-Null Count  Dtype \n",
      "---  ------           --------------  ----- \n",
      " 0   customer_id      63288 non-null  object\n",
      " 1   offer_id         63288 non-null  object\n",
      " 2   effective_offer  63288 non-null  int64 \n",
      "dtypes: int64(1), object(2)\n",
      "memory usage: 1.4+ MB\n"
     ]
    }
   ],
   "source": [
    "effective_offer_df.info()"
   ]
  },
  {
   "cell_type": "markdown",
   "metadata": {},
   "source": [
    "### 4. merge datasets"
   ]
  },
  {
   "cell_type": "code",
   "execution_count": 40,
   "metadata": {},
   "outputs": [],
   "source": [
    "def merge_df(df1=transcript, df2=profile, df3=portfolio):\n",
    "    \"\"\"Method to merge 2 dataframes on left, default is merging original dataframes\n",
    "    \n",
    "    Inputs: \n",
    "            df1: transcript dataframe\n",
    "            df2: profile dataframe\n",
    "            df3: portfolio dataframe\n",
    "    \n",
    "    Outputs:\n",
    "            merged dataframe\n",
    "    \"\"\"\n",
    "    df = df1.merge(df2, how='left', on='customer_id').merge(df3, how='left', on='offer_id')\n",
    "    #df_new = df.drop(['id_x', 'id_y'], axis=1)\n",
    "    \n",
    "    return df\n",
    "\n",
    "original_df = merge_df()\n",
    "model_df = merge_df(df1=effective_offer_df, df2=profile_new, df3=portfolio_new)"
   ]
  },
  {
   "cell_type": "code",
   "execution_count": 41,
   "metadata": {},
   "outputs": [
    {
     "name": "stdout",
     "output_type": "stream",
     "text": [
      "<class 'pandas.core.frame.DataFrame'>\n",
      "Int64Index: 306534 entries, 0 to 306533\n",
      "Data columns (total 19 columns):\n",
      " #   Column                  Non-Null Count   Dtype   \n",
      "---  ------                  --------------   -----   \n",
      " 0   customer_id             306534 non-null  object  \n",
      " 1   event                   306534 non-null  object  \n",
      " 2   time_day                306534 non-null  float64 \n",
      " 3   amount                  138953 non-null  float64 \n",
      " 4   offer_id                167581 non-null  object  \n",
      " 5   reward_x                33579 non-null   float64 \n",
      " 6   gender                  272430 non-null  object  \n",
      " 7   age                     272430 non-null  float64 \n",
      " 8   became_member_on        272430 non-null  float64 \n",
      " 9   income                  272430 non-null  float64 \n",
      " 10  became_member_on_year   272430 non-null  float64 \n",
      " 11  became_member_on_month  272430 non-null  float64 \n",
      " 12  became_member_on_day    272430 non-null  float64 \n",
      " 13  age_group               271063 non-null  category\n",
      " 14  reward_y                167581 non-null  float64 \n",
      " 15  channels                167581 non-null  object  \n",
      " 16  difficulty              167581 non-null  float64 \n",
      " 17  duration                167581 non-null  float64 \n",
      " 18  offer_type              167581 non-null  object  \n",
      "dtypes: category(1), float64(12), object(6)\n",
      "memory usage: 44.7+ MB\n"
     ]
    }
   ],
   "source": [
    "original_df.info()"
   ]
  },
  {
   "cell_type": "code",
   "execution_count": 42,
   "metadata": {},
   "outputs": [],
   "source": [
    "# clean up original dataframe\n",
    "original_df = original_df.drop('reward_y', axis=1)\n",
    "original_df.rename(columns={'reward_x':'reward'}, inplace=True)"
   ]
  },
  {
   "cell_type": "code",
   "execution_count": 43,
   "metadata": {},
   "outputs": [
    {
     "name": "stdout",
     "output_type": "stream",
     "text": [
      "<class 'pandas.core.frame.DataFrame'>\n",
      "Int64Index: 306534 entries, 0 to 306533\n",
      "Data columns (total 18 columns):\n",
      " #   Column                  Non-Null Count   Dtype   \n",
      "---  ------                  --------------   -----   \n",
      " 0   customer_id             306534 non-null  object  \n",
      " 1   event                   306534 non-null  object  \n",
      " 2   time_day                306534 non-null  float64 \n",
      " 3   amount                  138953 non-null  float64 \n",
      " 4   offer_id                167581 non-null  object  \n",
      " 5   reward                  33579 non-null   float64 \n",
      " 6   gender                  272430 non-null  object  \n",
      " 7   age                     272430 non-null  float64 \n",
      " 8   became_member_on        272430 non-null  float64 \n",
      " 9   income                  272430 non-null  float64 \n",
      " 10  became_member_on_year   272430 non-null  float64 \n",
      " 11  became_member_on_month  272430 non-null  float64 \n",
      " 12  became_member_on_day    272430 non-null  float64 \n",
      " 13  age_group               271063 non-null  category\n",
      " 14  channels                167581 non-null  object  \n",
      " 15  difficulty              167581 non-null  float64 \n",
      " 16  duration                167581 non-null  float64 \n",
      " 17  offer_type              167581 non-null  object  \n",
      "dtypes: category(1), float64(11), object(6)\n",
      "memory usage: 42.4+ MB\n"
     ]
    }
   ],
   "source": [
    "original_df.info()"
   ]
  },
  {
   "cell_type": "code",
   "execution_count": 44,
   "metadata": {},
   "outputs": [
    {
     "name": "stdout",
     "output_type": "stream",
     "text": [
      "5 exists in profile but not in effective_offer_df, 8125 exists in effective_offer_df but not in profile df.\n"
     ]
    }
   ],
   "source": [
    "# clean up model dataframe\n",
    "# it seems not all customer_id are in profile dataset\n",
    "not_eo_df = profile[profile['customer_id'].isin(effective_offer_df['customer_id']) == False].shape[0]\n",
    "\n",
    "not_profile_df = effective_offer_df[effective_offer_df['customer_id'].isin( \\\n",
    "    profile['customer_id']) == False]['customer_id'].shape[0]\n",
    "\n",
    "print('{} exists in profile but not in effective_offer_df,\\\n",
    " {} exists in effective_offer_df but not in profile df.'.format(not_eo_df, not_profile_df))\n",
    "\n",
    "# drop customers not with features\n",
    "model_df = model_df.dropna(axis=0)"
   ]
  },
  {
   "cell_type": "markdown",
   "metadata": {},
   "source": [
    "### 5. Insights\n",
    "In order to get some basic insights from the dataset, I will take a look at the original dataframe as well as the newly constructed dataframe on effective offers: <br>"
   ]
  },
  {
   "cell_type": "markdown",
   "metadata": {},
   "source": [
    "Here are some questions that I would like to answer by using the original dataframe:\n",
    "\n",
    "- Which offer type is the most difficult? Which reward is the most?\n",
    "- Which offer type is completed the most?\n",
    "- If number of completed offers differ by gender?\n",
    "- If number of completed offers differ by age group?"
   ]
  },
  {
   "cell_type": "code",
   "execution_count": 45,
   "metadata": {
    "scrolled": true
   },
   "outputs": [
    {
     "data": {
      "image/png": "[encoded data removed]",
      "text/plain": [
       "<Figure size 1440x360 with 3 Axes>"
      ]
     },
     "metadata": {},
     "output_type": "display_data"
    }
   ],
   "source": [
    "# compare features among event type\n",
    "portfolio.boxplot(column=['difficulty','reward','duration'], by='offer_type',grid=False, figsize=(20,5), layout=(1, 3))\n",
    "plt.ylabel('Value');"
   ]
  },
  {
   "cell_type": "markdown",
   "metadata": {},
   "source": [
    "Completion of discount is the most difficult, which also has the most duration and small rewards."
   ]
  },
  {
   "cell_type": "code",
   "execution_count": 46,
   "metadata": {},
   "outputs": [
    {
     "data": {
      "image/png": "[encoded data removed]",
      "text/plain": [
       "<Figure size 1008x288 with 2 Axes>"
      ]
     },
     "metadata": {},
     "output_type": "display_data"
    }
   ],
   "source": [
    "# look at number of offers by event type and offer type\n",
    "fig, ax = plt.subplots(nrows=1, ncols=2, figsize = [14,4])\n",
    "\n",
    "# left ax\n",
    "original_df.groupby(['offer_type','event'])['offer_id'].count().unstack().plot(kind='bar', \n",
    "                                                                               ax=ax[0], \n",
    "                                                                               title='Number of offers by event per offer type')\n",
    "\n",
    "# construct numbers\n",
    "by_event_perc = original_df.groupby('offer_type')['offer_id'].count()/original_df.groupby('offer_type')['offer_id'].count().sum()\n",
    "\n",
    "# right ax\n",
    "ax[1].pie(by_event_perc, autopct=\"%.1f%%\", explode=[0.05]*3, labels = by_event_perc.index)\n",
    "plt.title('Percent of offers by offer type');"
   ]
  },
  {
   "cell_type": "markdown",
   "metadata": {},
   "source": [
    "In terms of offers, no completed offer for informational events (no track of that?), offer received is equal for discount and bogo (both around 30000), for offer viewed, discount (around 22000) is lower than bogo (around 25000), while for offer completed, it's ( around 18000) higher than bogo (around 15000). Looks discount could be the most effective event type with a higher completion rate, to be validated."
   ]
  },
  {
   "cell_type": "code",
   "execution_count": 47,
   "metadata": {},
   "outputs": [
    {
     "data": {
      "image/png": "[encoded data removed]",
      "text/plain": [
       "<Figure size 432x288 with 1 Axes>"
      ]
     },
     "metadata": {},
     "output_type": "display_data"
    }
   ],
   "source": [
    "# gender with offer types\n",
    "original_df.groupby(['gender','event'])['offer_id'].count().unstack().plot(kind='bar')\n",
    "plt.title('number of offers by event type per gender');"
   ]
  },
  {
   "cell_type": "markdown",
   "metadata": {},
   "source": [
    "It seems the pattern between female and male are the same for offer received, offer reviewed and offer completed. In terms of customer group, more males received/reviewed offers. However, it seems female is higher in ratio of offer viewed and offer completed."
   ]
  },
  {
   "cell_type": "code",
   "execution_count": 48,
   "metadata": {},
   "outputs": [
    {
     "data": {
      "image/png": "[encoded data removed]",
      "text/plain": [
       "<Figure size 432x288 with 1 Axes>"
      ]
     },
     "metadata": {},
     "output_type": "display_data"
    }
   ],
   "source": [
    "# age with offer types\n",
    "by_age_group = original_df.groupby(['age_group','event'])['offer_id'].count().unstack().plot(kind='bar')\n",
    "plt.title('number of offers by event type per age group');"
   ]
  },
  {
   "cell_type": "markdown",
   "metadata": {},
   "source": [
    "In 4 age groups, it seems received offers are almost the same (around 16000), while for age group 18_42, the completed offers are slightly lower (7000 for 18_42 while over 8000 for the other groups)."
   ]
  },
  {
   "cell_type": "markdown",
   "metadata": {},
   "source": [
    "#### As we've completed a new dataset to measure if the sent offer is effective or not, we still start looking at the new dataset."
   ]
  },
  {
   "cell_type": "code",
   "execution_count": 49,
   "metadata": {},
   "outputs": [
    {
     "name": "stdout",
     "output_type": "stream",
     "text": [
      "In all offers, 47.45390932327828% is effective, which is quite a balanced dataset.\n"
     ]
    }
   ],
   "source": [
    "# effective offer rate\n",
    "effective_perc = model_df['effective_offer'].mean()\n",
    "print('In all offers, {}% is effective, which is quite a balanced dataset.'.format(effective_perc*100))"
   ]
  },
  {
   "cell_type": "code",
   "execution_count": 50,
   "metadata": {},
   "outputs": [
    {
     "name": "stdout",
     "output_type": "stream",
     "text": [
      "Number of effective offers per customer is 0.49.\n"
     ]
    },
    {
     "data": {
      "image/png": "[encoded data removed]",
      "text/plain": [
       "<Figure size 432x288 with 1 Axes>"
      ]
     },
     "metadata": {},
     "output_type": "display_data"
    }
   ],
   "source": [
    "# effective offer by customers\n",
    "top_customer_offer = model_df.groupby('customer_id')['effective_offer'].mean().sort_values(ascending=False)\n",
    "top_customer_offer.head(10).plot(kind='barh', title='top 10 customers with the most effective offers')\n",
    "print('Number of effective offers per customer is {:.2f}.'.format(top_customer_offer.mean()))"
   ]
  },
  {
   "cell_type": "markdown",
   "metadata": {},
   "source": [
    "For top 10 customers, they can complete all offers that they received."
   ]
  },
  {
   "cell_type": "code",
   "execution_count": 51,
   "metadata": {},
   "outputs": [
    {
     "name": "stdout",
     "output_type": "stream",
     "text": [
      "There are in total 1889 customers who completed all their offers.\n"
     ]
    }
   ],
   "source": [
    "customers_completed_offers = sum(top_customer_offer.values == 1)\n",
    "print('There are in total {} customers who completed all their offers.'.format(customers_completed_offers))"
   ]
  },
  {
   "cell_type": "markdown",
   "metadata": {},
   "source": [
    "Now I would like to take a look at all the categorical features and their within-group difference on effective offer rate, I would expect it is also their impact in the model later I will be creating."
   ]
  },
  {
   "cell_type": "code",
   "execution_count": 52,
   "metadata": {},
   "outputs": [],
   "source": [
    "def effective_offer_by_feature(selected_features, height=4, width=6):\n",
    "    \"\"\"Method to visualize multiple comparable columns and their number of average effective offers\n",
    "    \n",
    "    Inputs: selected features, list of column names\n",
    "    Outputs: none\n",
    "    \"\"\"\n",
    "    # construct effective offer dataframe\n",
    "    effective_offer = model_df[model_df['effective_offer']==1]\n",
    "    \n",
    "    # initialize\n",
    "    features_values = []\n",
    "    count = 0\n",
    "    features_names = []\n",
    "    \n",
    "    # loop to get list of feature names and feature of values\n",
    "    for col in selected_features:\n",
    "        feature_value = (effective_offer[col]==1).sum()/effective_offer_df.shape[0]\n",
    "        features_values.append(feature_value)\n",
    "        features_names.append(col)\n",
    "        count+=1\n",
    "    feature_mean = np.array(features_values).mean()\n",
    "    \n",
    "    # construct y and x in plot\n",
    "    y = features_values - feature_mean\n",
    "    x = range(0, count)\n",
    "    \n",
    "    # differentiate by color for values below and above averages\n",
    "    cc=list(map(lambda x: 'red' if x <= 0 else 'green', y))\n",
    "    \n",
    "    # visualize\n",
    "    plt.figure(figsize=(width, height))\n",
    "    plt.bar(x, y, color=cc)\n",
    "    plt.annotate('mean: {:.2f}'.format(feature_mean), xy=(0.02, 0.94), xycoords='axes fraction')\n",
    "    plt.xticks(x, features_names, rotation=90)\n",
    "    plt.title('effective offer compared with mean per feature group')"
   ]
  },
  {
   "cell_type": "code",
   "execution_count": 53,
   "metadata": {
    "scrolled": true
   },
   "outputs": [
    {
     "data": {
      "image/png": "[encoded data removed]",
      "text/plain": [
       "<Figure size 432x288 with 1 Axes>"
      ]
     },
     "metadata": {},
     "output_type": "display_data"
    }
   ],
   "source": [
    "# age group\n",
    "age_group = model_df.columns[3:7]\n",
    "effective_offer_by_feature(age_group)"
   ]
  },
  {
   "cell_type": "code",
   "execution_count": 54,
   "metadata": {},
   "outputs": [
    {
     "data": {
      "image/png": "[encoded data removed]",
      "text/plain": [
       "<Figure size 432x288 with 1 Axes>"
      ]
     },
     "metadata": {},
     "output_type": "display_data"
    }
   ],
   "source": [
    "# gender group\n",
    "gender_group = model_df.columns[7:10]\n",
    "effective_offer_by_feature(gender_group)"
   ]
  },
  {
   "cell_type": "code",
   "execution_count": 55,
   "metadata": {},
   "outputs": [
    {
     "data": {
      "image/png": "[encoded data removed]",
      "text/plain": [
       "<Figure size 432x288 with 1 Axes>"
      ]
     },
     "metadata": {},
     "output_type": "display_data"
    }
   ],
   "source": [
    "# became_member_on_year group\n",
    "year_group = model_df.columns[11:17]\n",
    "effective_offer_by_feature(year_group)"
   ]
  },
  {
   "cell_type": "code",
   "execution_count": 56,
   "metadata": {},
   "outputs": [
    {
     "data": {
      "image/png": "[encoded data removed]",
      "text/plain": [
       "<Figure size 432x288 with 1 Axes>"
      ]
     },
     "metadata": {},
     "output_type": "display_data"
    }
   ],
   "source": [
    "# became_member_on_month group\n",
    "month_group = model_df.columns[17:29]\n",
    "effective_offer_by_feature(month_group)"
   ]
  },
  {
   "cell_type": "code",
   "execution_count": 57,
   "metadata": {},
   "outputs": [
    {
     "data": {
      "image/png": "[encoded data removed]",
      "text/plain": [
       "<Figure size 432x288 with 1 Axes>"
      ]
     },
     "metadata": {},
     "output_type": "display_data"
    }
   ],
   "source": [
    "# became_member_on_month group\n",
    "day_group = model_df.columns[29:60]\n",
    "effective_offer_by_feature(day_group)"
   ]
  },
  {
   "cell_type": "code",
   "execution_count": 58,
   "metadata": {
    "scrolled": true
   },
   "outputs": [
    {
     "data": {
      "image/png": "[encoded data removed]",
      "text/plain": [
       "<Figure size 432x288 with 1 Axes>"
      ]
     },
     "metadata": {},
     "output_type": "display_data"
    }
   ],
   "source": [
    "# channel group\n",
    "channel_group = model_df.columns[63:67]\n",
    "effective_offer_by_feature(channel_group)"
   ]
  },
  {
   "cell_type": "markdown",
   "metadata": {},
   "source": [
    "It seems within group, we can pick some features already tha can affect the effective offer a lot, between group, we can see channel is a big impact (mean 0.36)."
   ]
  },
  {
   "cell_type": "markdown",
   "metadata": {},
   "source": [
    "Now I will take a look at the numeric features and their correlations."
   ]
  },
  {
   "cell_type": "code",
   "execution_count": 59,
   "metadata": {},
   "outputs": [
    {
     "data": {
      "image/png": "[encoded data removed]",
      "text/plain": [
       "<Figure size 576x360 with 2 Axes>"
      ]
     },
     "metadata": {},
     "output_type": "display_data"
    }
   ],
   "source": [
    "# numeric group\n",
    "num_group = ['effective_offer', 'income', 'reward', 'difficulty', 'duration']\n",
    "plt.figure(figsize=(8,5))\n",
    "sb.heatmap(model_df[num_group].corr(), cmap='rocket_r', annot=True, fmt='.1f')\n",
    "plt.title('Correlation between numeric features and effective offer');"
   ]
  },
  {
   "cell_type": "markdown",
   "metadata": {},
   "source": [
    "It seems difficulty, reward and duration have middle to strong correlation (difficulty and reward 0.5, difficulty and duration 0.8), which makes sense if the offer has more reward, it should be more difficult, it will need more time. \n",
    "Apart from above observation, no significant correlation between numerical features and effective offer."
   ]
  },
  {
   "cell_type": "markdown",
   "metadata": {},
   "source": [
    " Now I would like to look at the last question:\n",
    " \n",
    "- Which feature is the most important to an effective offer?"
   ]
  },
  {
   "cell_type": "markdown",
   "metadata": {},
   "source": [
    "### Preparing model dataset"
   ]
  },
  {
   "cell_type": "code",
   "execution_count": 60,
   "metadata": {},
   "outputs": [],
   "source": [
    "# drop offer id and customer id in model dataset\n",
    "df = model_df.drop(['customer_id','offer_id'], axis=1)"
   ]
  },
  {
   "cell_type": "code",
   "execution_count": 61,
   "metadata": {},
   "outputs": [],
   "source": [
    "# split X and y\n",
    "X = df.drop('effective_offer', axis=1)\n",
    "y = df[['effective_offer']]"
   ]
  },
  {
   "cell_type": "code",
   "execution_count": 62,
   "metadata": {},
   "outputs": [],
   "source": [
    "# creat traing, test sets\n",
    "X_train, X_test, y_train, y_test = train_test_split(X, y, test_size=0.3, random_state=42)"
   ]
  },
  {
   "cell_type": "markdown",
   "metadata": {},
   "source": [
    "### Metrics"
   ]
  },
  {
   "cell_type": "code",
   "execution_count": 63,
   "metadata": {},
   "outputs": [],
   "source": [
    "# before trying different models, I will create a class to store the results of different models in preparation for comparison.\n",
    "class model_results():\n",
    "    \"\"\"model results class is to calculate the precision, recall, fscore, support score\n",
    "    for model and store them as attributes for further usage.\n",
    "    \n",
    "    Attributes:\n",
    "    precision (float) representing model precision score\n",
    "    accuracy (float) representing model accuracy score\n",
    "    fscore (float) representing model fscore score\n",
    "    recall (float) representing model recall score\n",
    "    y_pred (numpy array) representing model predicted values\n",
    "    y_test (numpy array) representing model true values\n",
    "    result_df (dataframe) representing the model results\n",
    "    \"\"\"\n",
    "    def __init__(self):\n",
    "        \n",
    "        self.precision = None\n",
    "        self.accuracy = None\n",
    "        self.fscore = None\n",
    "        self.recall = None\n",
    "        self.y_pred = None\n",
    "        self.y_test = None\n",
    "        self.result_df = None\n",
    "    \n",
    "    def calculate_results(self, y_pred, y_test):\n",
    "        \"\"\"Method to calculate results precision, recall, accuracy, fsocre, support results for model\n",
    "        based on given y_pred and y_test\n",
    "        \n",
    "        Args: \n",
    "        y_pred (numpy array): model predicted values\n",
    "        y_test (numpy array): model true values\n",
    "        \n",
    "        Return:\n",
    "        result_df (dataframe): precision, recall, fscore, accuracy stored in dataframe\n",
    "        \"\"\"\n",
    "        \n",
    "        # calculate scores\n",
    "        precision, recall, fscore, support = score(y_test, y_pred, average=None)\n",
    "        \n",
    "        # returned label 1's score\n",
    "        self.precision = precision[1]\n",
    "        self.recall = recall[1]\n",
    "        self.fscore = fscore[1]\n",
    "        \n",
    "        # return accuracy\n",
    "        self.accuracy = accuracy_score(y_test, y_pred)\n",
    "        \n",
    "        # store args back to attributes\n",
    "        self.y_pred = y_pred\n",
    "        self.y_test = y_test\n",
    "        self.result_df = pd.DataFrame(data={'precision': [self.precision], \n",
    "                                            'recall': [self.recall], \n",
    "                                            'fscore': [self.fscore], \n",
    "                                            'accuracy': [self.accuracy]})\n",
    "        \n",
    "        return self.result_df\n",
    "\n",
    "    def display_results(self):\n",
    "        \"\"\"Method to iterate classification report per target and overall accuracy\n",
    "    \n",
    "        Args:\n",
    "        None\n",
    "    \n",
    "        Returns:\n",
    "        None\n",
    "        \"\"\"\n",
    "        y_pred = self.y_pred\n",
    "        y_test = self.y_test\n",
    "        \n",
    "        # calculated overall accuracy\n",
    "        print('Overall accuracy of current model is {:.3f}'.format(self.accuracy))\n",
    "    \n",
    "        # classification report per column\n",
    "        col_name = 'effective_offer'\n",
    "    \n",
    "        results = classification_report(y_test, y_pred)\n",
    "    \n",
    "        print('Feature:', 'effective offer', '\\n', results)\n",
    "        \n",
    "    def __repr__(self):\n",
    "        \"\"\"Function to return introduction of dataset\n",
    "        \"\"\"\n",
    "        return 'The precision and accuracy of model is {} and {}.\\n\\n'.format(self.precision, self.accuracy)"
   ]
  },
  {
   "cell_type": "markdown",
   "metadata": {},
   "source": [
    "In class above, several indexes have been set up to measure the performance of model, another index is calculated with the model:\n",
    "- accuracy: measure if the model label the data points correctly, while shortcome is when data is skewed.\n",
    "- precision: TP/(TP + FP), this one focuses on 1 labelled data point.\n",
    "- recall: TP/(TP + FN), how many actual is recalled from original data set.\n",
    "- fscore: achieve the balance between precision and recall.\n",
    "- running time: how much time the model needs\n",
    "\n",
    "Due to the drawback of accuracy (not good for imbalanced dataset), I am actually using all the other 3 indexes as a control. Running time is more from practical perspective, we don't want to crush our machine for running a model."
   ]
  },
  {
   "cell_type": "markdown",
   "metadata": {},
   "source": [
    "Additionally, for below models, although sometimes scaler is not needed for that model's performing well, I still keep it in the pipeline as it can help with speeding up the process."
   ]
  },
  {
   "cell_type": "markdown",
   "metadata": {},
   "source": [
    "# Try different models"
   ]
  },
  {
   "cell_type": "markdown",
   "metadata": {},
   "source": [
    "### 1. Random forest classifier"
   ]
  },
  {
   "cell_type": "code",
   "execution_count": 64,
   "metadata": {},
   "outputs": [],
   "source": [
    "# although scaling is not needed in ensemble, but it's used to speed up the process\n",
    "import time\n",
    "\n",
    "start = time.time()\n",
    "pipeline_rfc = Pipeline([\n",
    "    ('scaler', StandardScaler()),\n",
    "    ('rfc', RandomForestClassifier(random_state=42))\n",
    "])\n",
    "\n",
    "# fit model\n",
    "pipeline_rfc.fit(X_train, y_train)\n",
    "y_pred_rfc = pipeline_rfc.predict(X_test)\n",
    "\n",
    "end = time.time()\n",
    "rfc_time = end - start"
   ]
  },
  {
   "cell_type": "code",
   "execution_count": 65,
   "metadata": {},
   "outputs": [
    {
     "name": "stdout",
     "output_type": "stream",
     "text": [
      "The running time of this model is 8.27s.\n"
     ]
    },
    {
     "data": {
      "text/html": [
       "<div>\n",
       "<style scoped>\n",
       "    .dataframe tbody tr th:only-of-type {\n",
       "        vertical-align: middle;\n",
       "    }\n",
       "\n",
       "    .dataframe tbody tr th {\n",
       "        vertical-align: top;\n",
       "    }\n",
       "\n",
       "    .dataframe thead th {\n",
       "        text-align: right;\n",
       "    }\n",
       "</style>\n",
       "<table border=\"1\" class=\"dataframe\">\n",
       "  <thead>\n",
       "    <tr style=\"text-align: right;\">\n",
       "      <th></th>\n",
       "      <th>precision</th>\n",
       "      <th>recall</th>\n",
       "      <th>fscore</th>\n",
       "      <th>accuracy</th>\n",
       "      <th>running_time</th>\n",
       "    </tr>\n",
       "  </thead>\n",
       "  <tbody>\n",
       "    <tr>\n",
       "      <th>0</th>\n",
       "      <td>0.704857</td>\n",
       "      <td>0.703775</td>\n",
       "      <td>0.704316</td>\n",
       "      <td>0.72095</td>\n",
       "      <td>8.268348</td>\n",
       "    </tr>\n",
       "  </tbody>\n",
       "</table>\n",
       "</div>"
      ],
      "text/plain": [
       "   precision    recall    fscore  accuracy  running_time\n",
       "0   0.704857  0.703775  0.704316   0.72095      8.268348"
      ]
     },
     "execution_count": 65,
     "metadata": {},
     "output_type": "execute_result"
    }
   ],
   "source": [
    "# fit in model\n",
    "rfc_result = model_results()\n",
    "df_rfc = rfc_result.calculate_results(y_pred_rfc, y_test)\n",
    "df_rfc['running_time'] = rfc_time\n",
    "\n",
    "print('The running time of this model is {:.2f}s.'.format(rfc_time))\n",
    "df_rfc['running_time'] = rfc_time\n",
    "df_rfc"
   ]
  },
  {
   "cell_type": "markdown",
   "metadata": {},
   "source": [
    "### SVC"
   ]
  },
  {
   "cell_type": "code",
   "execution_count": 66,
   "metadata": {},
   "outputs": [],
   "source": [
    "# record time and create pipeline\n",
    "start = time.time()\n",
    "pipeline_svc = Pipeline([\n",
    "    ('scaler', StandardScaler()),\n",
    "    ('svc', svm.SVC(random_state=42))\n",
    "])\n",
    "\n",
    "# fit model\n",
    "pipeline_svc.fit(X_train, y_train)\n",
    "y_pred_svc = pipeline_svc.predict(X_test)\n",
    "\n",
    "end = time.time()\n",
    "svc_time = end - start"
   ]
  },
  {
   "cell_type": "code",
   "execution_count": 67,
   "metadata": {},
   "outputs": [
    {
     "name": "stdout",
     "output_type": "stream",
     "text": [
      "The running time of this model is 202.32s.\n"
     ]
    },
    {
     "data": {
      "text/html": [
       "<div>\n",
       "<style scoped>\n",
       "    .dataframe tbody tr th:only-of-type {\n",
       "        vertical-align: middle;\n",
       "    }\n",
       "\n",
       "    .dataframe tbody tr th {\n",
       "        vertical-align: top;\n",
       "    }\n",
       "\n",
       "    .dataframe thead th {\n",
       "        text-align: right;\n",
       "    }\n",
       "</style>\n",
       "<table border=\"1\" class=\"dataframe\">\n",
       "  <thead>\n",
       "    <tr style=\"text-align: right;\">\n",
       "      <th></th>\n",
       "      <th>precision</th>\n",
       "      <th>recall</th>\n",
       "      <th>fscore</th>\n",
       "      <th>accuracy</th>\n",
       "      <th>running_time</th>\n",
       "    </tr>\n",
       "  </thead>\n",
       "  <tbody>\n",
       "    <tr>\n",
       "      <th>0</th>\n",
       "      <td>0.701974</td>\n",
       "      <td>0.732694</td>\n",
       "      <td>0.717005</td>\n",
       "      <td>0.726872</td>\n",
       "      <td>202.322762</td>\n",
       "    </tr>\n",
       "  </tbody>\n",
       "</table>\n",
       "</div>"
      ],
      "text/plain": [
       "   precision    recall    fscore  accuracy  running_time\n",
       "0   0.701974  0.732694  0.717005  0.726872    202.322762"
      ]
     },
     "execution_count": 67,
     "metadata": {},
     "output_type": "execute_result"
    }
   ],
   "source": [
    "# present results\n",
    "svc_result = model_results()\n",
    "df_svc = svc_result.calculate_results(y_pred_svc, y_test)\n",
    "\n",
    "df_svc['running_time'] = svc_time\n",
    "\n",
    "print('The running time of this model is {:.2f}s.'.format(svc_time))\n",
    "df_svc['running_time'] = svc_time\n",
    "df_svc"
   ]
  },
  {
   "cell_type": "markdown",
   "metadata": {},
   "source": [
    "### LogisticRegression"
   ]
  },
  {
   "cell_type": "code",
   "execution_count": 68,
   "metadata": {},
   "outputs": [],
   "source": [
    "# record time and create pipeline\n",
    "start = time.time()\n",
    "pipeline_lg = Pipeline([\n",
    "    ('scaler', StandardScaler()),\n",
    "    ('lg',LogisticRegression(random_state=42))\n",
    "])\n",
    "\n",
    "# fit model\n",
    "pipeline_lg.fit(X_train, y_train)\n",
    "y_pred_lg = pipeline_lg.predict(X_test)\n",
    "\n",
    "end = time.time()\n",
    "lg_time = end - start"
   ]
  },
  {
   "cell_type": "code",
   "execution_count": 69,
   "metadata": {},
   "outputs": [
    {
     "name": "stdout",
     "output_type": "stream",
     "text": [
      "The running time of this model is 0.20s.\n"
     ]
    },
    {
     "data": {
      "text/html": [
       "<div>\n",
       "<style scoped>\n",
       "    .dataframe tbody tr th:only-of-type {\n",
       "        vertical-align: middle;\n",
       "    }\n",
       "\n",
       "    .dataframe tbody tr th {\n",
       "        vertical-align: top;\n",
       "    }\n",
       "\n",
       "    .dataframe thead th {\n",
       "        text-align: right;\n",
       "    }\n",
       "</style>\n",
       "<table border=\"1\" class=\"dataframe\">\n",
       "  <thead>\n",
       "    <tr style=\"text-align: right;\">\n",
       "      <th></th>\n",
       "      <th>precision</th>\n",
       "      <th>recall</th>\n",
       "      <th>fscore</th>\n",
       "      <th>accuracy</th>\n",
       "      <th>running_time</th>\n",
       "    </tr>\n",
       "  </thead>\n",
       "  <tbody>\n",
       "    <tr>\n",
       "      <th>0</th>\n",
       "      <td>0.698501</td>\n",
       "      <td>0.691619</td>\n",
       "      <td>0.695043</td>\n",
       "      <td>0.713397</td>\n",
       "      <td>0.197472</td>\n",
       "    </tr>\n",
       "  </tbody>\n",
       "</table>\n",
       "</div>"
      ],
      "text/plain": [
       "   precision    recall    fscore  accuracy  running_time\n",
       "0   0.698501  0.691619  0.695043  0.713397      0.197472"
      ]
     },
     "execution_count": 69,
     "metadata": {},
     "output_type": "execute_result"
    }
   ],
   "source": [
    "# present results\n",
    "log_result = model_results()\n",
    "df_log = log_result.calculate_results(y_pred_lg, y_test)\n",
    "\n",
    "df_log['running_time'] = lg_time\n",
    "\n",
    "print('The running time of this model is {:.2f}s.'.format(lg_time))\n",
    "df_log"
   ]
  },
  {
   "cell_type": "markdown",
   "metadata": {},
   "source": [
    "### AdaboostClassifier"
   ]
  },
  {
   "cell_type": "code",
   "execution_count": 70,
   "metadata": {},
   "outputs": [],
   "source": [
    "# record time and create pipeline\n",
    "start = time.time()\n",
    "pipeline_adb = Pipeline([\n",
    "    ('scaler', StandardScaler()),\n",
    "    ('adb', AdaBoostClassifier(random_state=42))\n",
    "])\n",
    "\n",
    "# fit model\n",
    "pipeline_adb.fit(X_train, y_train)\n",
    "y_pred_adb = pipeline_adb.predict(X_test)\n",
    "\n",
    "end = time.time()\n",
    "adb_time = end - start"
   ]
  },
  {
   "cell_type": "code",
   "execution_count": 71,
   "metadata": {},
   "outputs": [
    {
     "name": "stdout",
     "output_type": "stream",
     "text": [
      "The running time of this model is 2.14s.\n"
     ]
    },
    {
     "data": {
      "text/html": [
       "<div>\n",
       "<style scoped>\n",
       "    .dataframe tbody tr th:only-of-type {\n",
       "        vertical-align: middle;\n",
       "    }\n",
       "\n",
       "    .dataframe tbody tr th {\n",
       "        vertical-align: top;\n",
       "    }\n",
       "\n",
       "    .dataframe thead th {\n",
       "        text-align: right;\n",
       "    }\n",
       "</style>\n",
       "<table border=\"1\" class=\"dataframe\">\n",
       "  <thead>\n",
       "    <tr style=\"text-align: right;\">\n",
       "      <th></th>\n",
       "      <th>precision</th>\n",
       "      <th>recall</th>\n",
       "      <th>fscore</th>\n",
       "      <th>accuracy</th>\n",
       "      <th>running_time</th>\n",
       "    </tr>\n",
       "  </thead>\n",
       "  <tbody>\n",
       "    <tr>\n",
       "      <th>0</th>\n",
       "      <td>0.696962</td>\n",
       "      <td>0.745745</td>\n",
       "      <td>0.720529</td>\n",
       "      <td>0.726811</td>\n",
       "      <td>2.135564</td>\n",
       "    </tr>\n",
       "  </tbody>\n",
       "</table>\n",
       "</div>"
      ],
      "text/plain": [
       "   precision    recall    fscore  accuracy  running_time\n",
       "0   0.696962  0.745745  0.720529  0.726811      2.135564"
      ]
     },
     "execution_count": 71,
     "metadata": {},
     "output_type": "execute_result"
    }
   ],
   "source": [
    "# present results\n",
    "ada_result = model_results()\n",
    "df_ada = ada_result.calculate_results(y_pred_adb, y_test)\n",
    "\n",
    "df_ada['running_time'] = adb_time\n",
    "\n",
    "print('The running time of this model is {:.2f}s.'.format(adb_time))\n",
    "df_ada"
   ]
  },
  {
   "cell_type": "code",
   "execution_count": 72,
   "metadata": {},
   "outputs": [
    {
     "data": {
      "text/html": [
       "<style type=\"text/css\">\n",
       "#T_02a62_row0_col0 {\n",
       "  width: 10em;\n",
       "  height: 80%;\n",
       "  background: linear-gradient(90deg,#5fba7d 74.2%, transparent 74.2%);\n",
       "}\n",
       "#T_02a62_row0_col1 {\n",
       "  width: 10em;\n",
       "  height: 80%;\n",
       "  background: linear-gradient(90deg,#5fba7d 86.4%, transparent 86.4%);\n",
       "}\n",
       "#T_02a62_row0_col2 {\n",
       "  width: 10em;\n",
       "  height: 80%;\n",
       "  background: linear-gradient(90deg,#5fba7d 80.1%, transparent 80.1%);\n",
       "}\n",
       "#T_02a62_row0_col3, #T_02a62_row1_col3 {\n",
       "  width: 10em;\n",
       "  height: 80%;\n",
       "  background: linear-gradient(90deg,#5fba7d 81.7%, transparent 81.7%);\n",
       "}\n",
       "#T_02a62_row0_col4 {\n",
       "  width: 10em;\n",
       "  height: 80%;\n",
       "  background: linear-gradient(90deg,#d65f5f 1.1%, transparent 1.1%);\n",
       "}\n",
       "#T_02a62_row1_col0 {\n",
       "  width: 10em;\n",
       "  height: 80%;\n",
       "  background: linear-gradient(90deg,#5fba7d 75.5%, transparent 75.5%);\n",
       "}\n",
       "#T_02a62_row1_col1 {\n",
       "  width: 10em;\n",
       "  height: 80%;\n",
       "  background: linear-gradient(90deg,#5fba7d 83.2%, transparent 83.2%);\n",
       "}\n",
       "#T_02a62_row1_col2 {\n",
       "  width: 10em;\n",
       "  height: 80%;\n",
       "  background: linear-gradient(90deg,#5fba7d 79.3%, transparent 79.3%);\n",
       "}\n",
       "#T_02a62_row1_col4 {\n",
       "  width: 10em;\n",
       "  height: 80%;\n",
       "  background: linear-gradient(90deg,#d65f5f 100.0%, transparent 100.0%);\n",
       "}\n",
       "#T_02a62_row2_col0 {\n",
       "  width: 10em;\n",
       "  height: 80%;\n",
       "  background: linear-gradient(90deg,#5fba7d 74.6%, transparent 74.6%);\n",
       "}\n",
       "#T_02a62_row2_col1 {\n",
       "  width: 10em;\n",
       "  height: 80%;\n",
       "  background: linear-gradient(90deg,#5fba7d 72.9%, transparent 72.9%);\n",
       "}\n",
       "#T_02a62_row2_col2 {\n",
       "  width: 10em;\n",
       "  height: 80%;\n",
       "  background: linear-gradient(90deg,#5fba7d 73.8%, transparent 73.8%);\n",
       "}\n",
       "#T_02a62_row2_col3 {\n",
       "  width: 10em;\n",
       "  height: 80%;\n",
       "  background: linear-gradient(90deg,#5fba7d 78.3%, transparent 78.3%);\n",
       "}\n",
       "#T_02a62_row2_col4 {\n",
       "  width: 10em;\n",
       "  height: 80%;\n",
       "  background: linear-gradient(90deg,#d65f5f 0.1%, transparent 0.1%);\n",
       "}\n",
       "#T_02a62_row3_col0 {\n",
       "  width: 10em;\n",
       "  height: 80%;\n",
       "  background: linear-gradient(90deg,#5fba7d 76.2%, transparent 76.2%);\n",
       "}\n",
       "#T_02a62_row3_col1 {\n",
       "  width: 10em;\n",
       "  height: 80%;\n",
       "  background: linear-gradient(90deg,#5fba7d 75.9%, transparent 75.9%);\n",
       "}\n",
       "#T_02a62_row3_col2 {\n",
       "  width: 10em;\n",
       "  height: 80%;\n",
       "  background: linear-gradient(90deg,#5fba7d 76.1%, transparent 76.1%);\n",
       "}\n",
       "#T_02a62_row3_col3 {\n",
       "  width: 10em;\n",
       "  height: 80%;\n",
       "  background: linear-gradient(90deg,#5fba7d 80.2%, transparent 80.2%);\n",
       "}\n",
       "#T_02a62_row3_col4 {\n",
       "  width: 10em;\n",
       "  height: 80%;\n",
       "  background: linear-gradient(90deg,#d65f5f 4.1%, transparent 4.1%);\n",
       "}\n",
       "</style>\n",
       "<table id=\"T_02a62_\">\n",
       "  <thead>\n",
       "    <tr>\n",
       "      <th class=\"blank level0\" >&nbsp;</th>\n",
       "      <th class=\"col_heading level0 col0\" >precision</th>\n",
       "      <th class=\"col_heading level0 col1\" >recall</th>\n",
       "      <th class=\"col_heading level0 col2\" >fscore</th>\n",
       "      <th class=\"col_heading level0 col3\" >accuracy</th>\n",
       "      <th class=\"col_heading level0 col4\" >running_time</th>\n",
       "    </tr>\n",
       "    <tr>\n",
       "      <th class=\"index_name level0\" >model_name</th>\n",
       "      <th class=\"blank col0\" >&nbsp;</th>\n",
       "      <th class=\"blank col1\" >&nbsp;</th>\n",
       "      <th class=\"blank col2\" >&nbsp;</th>\n",
       "      <th class=\"blank col3\" >&nbsp;</th>\n",
       "      <th class=\"blank col4\" >&nbsp;</th>\n",
       "    </tr>\n",
       "  </thead>\n",
       "  <tbody>\n",
       "    <tr>\n",
       "      <th id=\"T_02a62_level0_row0\" class=\"row_heading level0 row0\" >adaboost</th>\n",
       "      <td id=\"T_02a62_row0_col0\" class=\"data row0 col0\" >0.696962</td>\n",
       "      <td id=\"T_02a62_row0_col1\" class=\"data row0 col1\" >0.745745</td>\n",
       "      <td id=\"T_02a62_row0_col2\" class=\"data row0 col2\" >0.720529</td>\n",
       "      <td id=\"T_02a62_row0_col3\" class=\"data row0 col3\" >0.726811</td>\n",
       "      <td id=\"T_02a62_row0_col4\" class=\"data row0 col4\" >2.135564</td>\n",
       "    </tr>\n",
       "    <tr>\n",
       "      <th id=\"T_02a62_level0_row1\" class=\"row_heading level0 row1\" >svc</th>\n",
       "      <td id=\"T_02a62_row1_col0\" class=\"data row1 col0\" >0.701974</td>\n",
       "      <td id=\"T_02a62_row1_col1\" class=\"data row1 col1\" >0.732694</td>\n",
       "      <td id=\"T_02a62_row1_col2\" class=\"data row1 col2\" >0.717005</td>\n",
       "      <td id=\"T_02a62_row1_col3\" class=\"data row1 col3\" >0.726872</td>\n",
       "      <td id=\"T_02a62_row1_col4\" class=\"data row1 col4\" >202.322762</td>\n",
       "    </tr>\n",
       "    <tr>\n",
       "      <th id=\"T_02a62_level0_row2\" class=\"row_heading level0 row2\" >logistic</th>\n",
       "      <td id=\"T_02a62_row2_col0\" class=\"data row2 col0\" >0.698501</td>\n",
       "      <td id=\"T_02a62_row2_col1\" class=\"data row2 col1\" >0.691619</td>\n",
       "      <td id=\"T_02a62_row2_col2\" class=\"data row2 col2\" >0.695043</td>\n",
       "      <td id=\"T_02a62_row2_col3\" class=\"data row2 col3\" >0.713397</td>\n",
       "      <td id=\"T_02a62_row2_col4\" class=\"data row2 col4\" >0.197472</td>\n",
       "    </tr>\n",
       "    <tr>\n",
       "      <th id=\"T_02a62_level0_row3\" class=\"row_heading level0 row3\" >randomforest</th>\n",
       "      <td id=\"T_02a62_row3_col0\" class=\"data row3 col0\" >0.704857</td>\n",
       "      <td id=\"T_02a62_row3_col1\" class=\"data row3 col1\" >0.703775</td>\n",
       "      <td id=\"T_02a62_row3_col2\" class=\"data row3 col2\" >0.704316</td>\n",
       "      <td id=\"T_02a62_row3_col3\" class=\"data row3 col3\" >0.720950</td>\n",
       "      <td id=\"T_02a62_row3_col4\" class=\"data row3 col4\" >8.268348</td>\n",
       "    </tr>\n",
       "  </tbody>\n",
       "</table>\n"
      ],
      "text/plain": [
       "<pandas.io.formats.style.Styler at 0x29de4c12c10>"
      ]
     },
     "execution_count": 72,
     "metadata": {},
     "output_type": "execute_result"
    }
   ],
   "source": [
    "# concat all results dataset to compare\n",
    "df_results = df_ada.append([df_svc, df_log, df_rfc])\n",
    "df_results['model_name'] = ['adaboost','svc','logistic','randomforest']\n",
    "\n",
    "df_results.set_index('model_name', inplace=True)\n",
    "\n",
    "df_results.style.bar(subset=['precision', 'recall', 'fscore','accuracy'], color=['#d65f5f','#5fba7d'], vmin=0.4, vmax=0.8)\\\n",
    "          .bar(subset=['running_time'], color='#d65f5f', vmin=0.0)"
   ]
  },
  {
   "cell_type": "markdown",
   "metadata": {},
   "source": [
    "Above we can see, I've tried four models, although the four models have very similar performance (around 0.7), from a comprehensive perspective, adboost is the best in terms of recall, fscore and running time. Further on, I will tune parameters for this model to improve the performance. Due to the extremely long running time of SVC, it will be left out for next step."
   ]
  },
  {
   "cell_type": "markdown",
   "metadata": {},
   "source": [
    "### Tuning parameters of Random forest classifier"
   ]
  },
  {
   "cell_type": "code",
   "execution_count": 73,
   "metadata": {},
   "outputs": [
    {
     "data": {
      "text/plain": [
       "{'memory': None,\n",
       " 'steps': [('scaler', StandardScaler()),\n",
       "  ('rfc', RandomForestClassifier(random_state=42))],\n",
       " 'verbose': False,\n",
       " 'scaler': StandardScaler(),\n",
       " 'rfc': RandomForestClassifier(random_state=42),\n",
       " 'scaler__copy': True,\n",
       " 'scaler__with_mean': True,\n",
       " 'scaler__with_std': True,\n",
       " 'rfc__bootstrap': True,\n",
       " 'rfc__ccp_alpha': 0.0,\n",
       " 'rfc__class_weight': None,\n",
       " 'rfc__criterion': 'gini',\n",
       " 'rfc__max_depth': None,\n",
       " 'rfc__max_features': 'auto',\n",
       " 'rfc__max_leaf_nodes': None,\n",
       " 'rfc__max_samples': None,\n",
       " 'rfc__min_impurity_decrease': 0.0,\n",
       " 'rfc__min_impurity_split': None,\n",
       " 'rfc__min_samples_leaf': 1,\n",
       " 'rfc__min_samples_split': 2,\n",
       " 'rfc__min_weight_fraction_leaf': 0.0,\n",
       " 'rfc__n_estimators': 100,\n",
       " 'rfc__n_jobs': None,\n",
       " 'rfc__oob_score': False,\n",
       " 'rfc__random_state': 42,\n",
       " 'rfc__verbose': 0,\n",
       " 'rfc__warm_start': False}"
      ]
     },
     "execution_count": 73,
     "metadata": {},
     "output_type": "execute_result"
    }
   ],
   "source": [
    "# get all parameters\n",
    "pipeline_rfc.get_params()"
   ]
  },
  {
   "cell_type": "code",
   "execution_count": 74,
   "metadata": {},
   "outputs": [
    {
     "data": {
      "text/plain": [
       "{'rfc__max_depth': 10, 'rfc__max_features': 50}"
      ]
     },
     "execution_count": 74,
     "metadata": {},
     "output_type": "execute_result"
    }
   ],
   "source": [
    "# set parameters\n",
    "parameters = {'rfc__max_depth': [10, 20, 50],\n",
    "             'rfc__max_features': ['auto', 'sqrt', 'log2', 20, 50]}\n",
    "\n",
    "# fit model\n",
    "cv_rfc = GridSearchCV(pipeline_rfc, parameters)\n",
    "cv_rfc.fit(X_train, y_train)\n",
    "\n",
    "# check the best estimator\n",
    "cv_rfc.best_params_"
   ]
  },
  {
   "cell_type": "code",
   "execution_count": 75,
   "metadata": {},
   "outputs": [
    {
     "data": {
      "text/html": [
       "<div>\n",
       "<style scoped>\n",
       "    .dataframe tbody tr th:only-of-type {\n",
       "        vertical-align: middle;\n",
       "    }\n",
       "\n",
       "    .dataframe tbody tr th {\n",
       "        vertical-align: top;\n",
       "    }\n",
       "\n",
       "    .dataframe thead th {\n",
       "        text-align: right;\n",
       "    }\n",
       "</style>\n",
       "<table border=\"1\" class=\"dataframe\">\n",
       "  <thead>\n",
       "    <tr style=\"text-align: right;\">\n",
       "      <th></th>\n",
       "      <th>precision</th>\n",
       "      <th>recall</th>\n",
       "      <th>fscore</th>\n",
       "      <th>accuracy</th>\n",
       "      <th>running_time</th>\n",
       "    </tr>\n",
       "  </thead>\n",
       "  <tbody>\n",
       "    <tr>\n",
       "      <th>0</th>\n",
       "      <td>0.708416</td>\n",
       "      <td>0.734613</td>\n",
       "      <td>0.721276</td>\n",
       "      <td>0.731887</td>\n",
       "      <td>0.23802</td>\n",
       "    </tr>\n",
       "  </tbody>\n",
       "</table>\n",
       "</div>"
      ],
      "text/plain": [
       "   precision    recall    fscore  accuracy  running_time\n",
       "0   0.708416  0.734613  0.721276  0.731887       0.23802"
      ]
     },
     "execution_count": 75,
     "metadata": {},
     "output_type": "execute_result"
    }
   ],
   "source": [
    "# results\n",
    "start = time.time()\n",
    "scaled_X_test = StandardScaler().fit_transform(X_test)\n",
    "y_pred_rfc_refine = cv_rfc.best_estimator_.named_steps['rfc'].predict(scaled_X_test)\n",
    "end\n",
    "end = time.time()\n",
    "\n",
    "running_time = end - start\n",
    "\n",
    "rfc_cv_result = model_results()\n",
    "df_cv_rfc = rfc_cv_result.calculate_results(y_pred_rfc_refine, y_test)\n",
    "df_cv_rfc['running_time'] = running_time\n",
    "df_cv_rfc"
   ]
  },
  {
   "cell_type": "markdown",
   "metadata": {},
   "source": [
    "### Tuning parameters of Logistic regression"
   ]
  },
  {
   "cell_type": "code",
   "execution_count": 76,
   "metadata": {},
   "outputs": [
    {
     "data": {
      "text/plain": [
       "{'memory': None,\n",
       " 'steps': [('scaler', StandardScaler()),\n",
       "  ('lg', LogisticRegression(random_state=42))],\n",
       " 'verbose': False,\n",
       " 'scaler': StandardScaler(),\n",
       " 'lg': LogisticRegression(random_state=42),\n",
       " 'scaler__copy': True,\n",
       " 'scaler__with_mean': True,\n",
       " 'scaler__with_std': True,\n",
       " 'lg__C': 1.0,\n",
       " 'lg__class_weight': None,\n",
       " 'lg__dual': False,\n",
       " 'lg__fit_intercept': True,\n",
       " 'lg__intercept_scaling': 1,\n",
       " 'lg__l1_ratio': None,\n",
       " 'lg__max_iter': 100,\n",
       " 'lg__multi_class': 'auto',\n",
       " 'lg__n_jobs': None,\n",
       " 'lg__penalty': 'l2',\n",
       " 'lg__random_state': 42,\n",
       " 'lg__solver': 'lbfgs',\n",
       " 'lg__tol': 0.0001,\n",
       " 'lg__verbose': 0,\n",
       " 'lg__warm_start': False}"
      ]
     },
     "execution_count": 76,
     "metadata": {},
     "output_type": "execute_result"
    }
   ],
   "source": [
    "# get all parameters\n",
    "pipeline_lg.get_params()"
   ]
  },
  {
   "cell_type": "code",
   "execution_count": 77,
   "metadata": {},
   "outputs": [
    {
     "data": {
      "text/plain": [
       "{'lg__C': 1, 'lg__solver': 'lbfgs'}"
      ]
     },
     "execution_count": 77,
     "metadata": {},
     "output_type": "execute_result"
    }
   ],
   "source": [
    "# set parameters\n",
    "parameters = {'lg__solver': ['newton-cg', 'lbfgs', 'liblinear'],\n",
    "             'lg__C': [100, 10, 1, 0.1]}\n",
    "\n",
    "\n",
    "# fit model\n",
    "cv_lg = GridSearchCV(pipeline_lg, parameters)\n",
    "cv_lg.fit(X_train, y_train)\n",
    "\n",
    "# check the best estimator\n",
    "cv_lg.best_params_"
   ]
  },
  {
   "cell_type": "code",
   "execution_count": 78,
   "metadata": {},
   "outputs": [
    {
     "data": {
      "text/html": [
       "<div>\n",
       "<style scoped>\n",
       "    .dataframe tbody tr th:only-of-type {\n",
       "        vertical-align: middle;\n",
       "    }\n",
       "\n",
       "    .dataframe tbody tr th {\n",
       "        vertical-align: top;\n",
       "    }\n",
       "\n",
       "    .dataframe thead th {\n",
       "        text-align: right;\n",
       "    }\n",
       "</style>\n",
       "<table border=\"1\" class=\"dataframe\">\n",
       "  <thead>\n",
       "    <tr style=\"text-align: right;\">\n",
       "      <th></th>\n",
       "      <th>precision</th>\n",
       "      <th>recall</th>\n",
       "      <th>fscore</th>\n",
       "      <th>accuracy</th>\n",
       "      <th>running_time</th>\n",
       "    </tr>\n",
       "  </thead>\n",
       "  <tbody>\n",
       "    <tr>\n",
       "      <th>0</th>\n",
       "      <td>0.698123</td>\n",
       "      <td>0.690083</td>\n",
       "      <td>0.69408</td>\n",
       "      <td>0.712732</td>\n",
       "      <td>0.042883</td>\n",
       "    </tr>\n",
       "  </tbody>\n",
       "</table>\n",
       "</div>"
      ],
      "text/plain": [
       "   precision    recall   fscore  accuracy  running_time\n",
       "0   0.698123  0.690083  0.69408  0.712732      0.042883"
      ]
     },
     "execution_count": 78,
     "metadata": {},
     "output_type": "execute_result"
    }
   ],
   "source": [
    "# results\n",
    "start = time.time()\n",
    "scaled_X_test = StandardScaler().fit_transform(X_test)\n",
    "y_pred_lg_refine = cv_lg.best_estimator_.named_steps['lg'].predict(scaled_X_test)\n",
    "end\n",
    "end = time.time()\n",
    "running_time = end - start\n",
    "\n",
    "lg_cv_result = model_results()\n",
    "df_cv_lg = lg_cv_result.calculate_results(y_pred_lg_refine, y_test)\n",
    "df_cv_lg['running_time'] = running_time\n",
    "df_cv_lg"
   ]
  },
  {
   "cell_type": "markdown",
   "metadata": {},
   "source": [
    "### Tuning parameters of Adaboost"
   ]
  },
  {
   "cell_type": "markdown",
   "metadata": {},
   "source": [
    "According to above, adaboost returns the best results overall, will tune parameter for this model to improve performance."
   ]
  },
  {
   "cell_type": "code",
   "execution_count": 79,
   "metadata": {},
   "outputs": [
    {
     "data": {
      "text/plain": [
       "{'memory': None,\n",
       " 'steps': [('scaler', StandardScaler()),\n",
       "  ('adb', AdaBoostClassifier(random_state=42))],\n",
       " 'verbose': False,\n",
       " 'scaler': StandardScaler(),\n",
       " 'adb': AdaBoostClassifier(random_state=42),\n",
       " 'scaler__copy': True,\n",
       " 'scaler__with_mean': True,\n",
       " 'scaler__with_std': True,\n",
       " 'adb__algorithm': 'SAMME.R',\n",
       " 'adb__base_estimator': None,\n",
       " 'adb__learning_rate': 1.0,\n",
       " 'adb__n_estimators': 50,\n",
       " 'adb__random_state': 42}"
      ]
     },
     "execution_count": 79,
     "metadata": {},
     "output_type": "execute_result"
    }
   ],
   "source": [
    "# get all parameters\n",
    "pipeline_adb.get_params()"
   ]
  },
  {
   "cell_type": "code",
   "execution_count": 80,
   "metadata": {},
   "outputs": [
    {
     "data": {
      "text/plain": [
       "{'adb__learning_rate': 1, 'adb__n_estimators': 200}"
      ]
     },
     "execution_count": 80,
     "metadata": {},
     "output_type": "execute_result"
    }
   ],
   "source": [
    "# set parameters\n",
    "parameters = {'adb__learning_rate': [0.5, 1, 2],\n",
    "             'adb__n_estimators': [100, 150, 200, 250]}\n",
    "\n",
    "# fit model\n",
    "cv = GridSearchCV(pipeline_adb, parameters)\n",
    "cv.fit(X_train, y_train)\n",
    "\n",
    "# check the best estimator\n",
    "cv.best_params_"
   ]
  },
  {
   "cell_type": "code",
   "execution_count": 81,
   "metadata": {},
   "outputs": [
    {
     "data": {
      "text/html": [
       "<div>\n",
       "<style scoped>\n",
       "    .dataframe tbody tr th:only-of-type {\n",
       "        vertical-align: middle;\n",
       "    }\n",
       "\n",
       "    .dataframe tbody tr th {\n",
       "        vertical-align: top;\n",
       "    }\n",
       "\n",
       "    .dataframe thead th {\n",
       "        text-align: right;\n",
       "    }\n",
       "</style>\n",
       "<table border=\"1\" class=\"dataframe\">\n",
       "  <thead>\n",
       "    <tr style=\"text-align: right;\">\n",
       "      <th></th>\n",
       "      <th>precision</th>\n",
       "      <th>recall</th>\n",
       "      <th>fscore</th>\n",
       "      <th>accuracy</th>\n",
       "      <th>running_time</th>\n",
       "    </tr>\n",
       "  </thead>\n",
       "  <tbody>\n",
       "    <tr>\n",
       "      <th>0</th>\n",
       "      <td>0.698009</td>\n",
       "      <td>0.744722</td>\n",
       "      <td>0.720609</td>\n",
       "      <td>0.727295</td>\n",
       "      <td>0.854568</td>\n",
       "    </tr>\n",
       "  </tbody>\n",
       "</table>\n",
       "</div>"
      ],
      "text/plain": [
       "   precision    recall    fscore  accuracy  running_time\n",
       "0   0.698009  0.744722  0.720609  0.727295      0.854568"
      ]
     },
     "execution_count": 81,
     "metadata": {},
     "output_type": "execute_result"
    }
   ],
   "source": [
    "# results\n",
    "start = time.time()\n",
    "scaled_X_test = StandardScaler().fit_transform(X_test)\n",
    "y_pred_cv = cv.best_estimator_.named_steps['adb'].predict(scaled_X_test)\n",
    "end = time.time()\n",
    "\n",
    "running_time = end - start\n",
    "\n",
    "cv_result = model_results()\n",
    "df_cv = cv_result.calculate_results(y_pred_cv, y_test)\n",
    "df_cv['running_time'] = running_time\n",
    "\n",
    "df_cv"
   ]
  },
  {
   "cell_type": "code",
   "execution_count": 82,
   "metadata": {},
   "outputs": [
    {
     "data": {
      "text/html": [
       "<style type=\"text/css\">\n",
       "#T_aa174_row0_col0 {\n",
       "  width: 10em;\n",
       "  height: 80%;\n",
       "  background: linear-gradient(90deg,#5fba7d 77.1%, transparent 77.1%);\n",
       "}\n",
       "#T_aa174_row0_col1 {\n",
       "  width: 10em;\n",
       "  height: 80%;\n",
       "  background: linear-gradient(90deg,#5fba7d 83.7%, transparent 83.7%);\n",
       "}\n",
       "#T_aa174_row0_col2 {\n",
       "  width: 10em;\n",
       "  height: 80%;\n",
       "  background: linear-gradient(90deg,#5fba7d 80.3%, transparent 80.3%);\n",
       "}\n",
       "#T_aa174_row0_col3 {\n",
       "  width: 10em;\n",
       "  height: 80%;\n",
       "  background: linear-gradient(90deg,#5fba7d 83.0%, transparent 83.0%);\n",
       "}\n",
       "#T_aa174_row0_col4 {\n",
       "  width: 10em;\n",
       "  height: 80%;\n",
       "  background: linear-gradient(90deg,#d65f5f 27.9%, transparent 27.9%);\n",
       "}\n",
       "#T_aa174_row1_col0, #T_aa174_row2_col0 {\n",
       "  width: 10em;\n",
       "  height: 80%;\n",
       "  background: linear-gradient(90deg,#5fba7d 74.5%, transparent 74.5%);\n",
       "}\n",
       "#T_aa174_row1_col1 {\n",
       "  width: 10em;\n",
       "  height: 80%;\n",
       "  background: linear-gradient(90deg,#5fba7d 72.5%, transparent 72.5%);\n",
       "}\n",
       "#T_aa174_row1_col2 {\n",
       "  width: 10em;\n",
       "  height: 80%;\n",
       "  background: linear-gradient(90deg,#5fba7d 73.5%, transparent 73.5%);\n",
       "}\n",
       "#T_aa174_row1_col3 {\n",
       "  width: 10em;\n",
       "  height: 80%;\n",
       "  background: linear-gradient(90deg,#5fba7d 78.2%, transparent 78.2%);\n",
       "}\n",
       "#T_aa174_row1_col4 {\n",
       "  width: 10em;\n",
       "  height: 80%;\n",
       "  background: linear-gradient(90deg,#d65f5f 5.0%, transparent 5.0%);\n",
       "}\n",
       "#T_aa174_row2_col1 {\n",
       "  width: 10em;\n",
       "  height: 80%;\n",
       "  background: linear-gradient(90deg,#5fba7d 86.2%, transparent 86.2%);\n",
       "}\n",
       "#T_aa174_row2_col2 {\n",
       "  width: 10em;\n",
       "  height: 80%;\n",
       "  background: linear-gradient(90deg,#5fba7d 80.2%, transparent 80.2%);\n",
       "}\n",
       "#T_aa174_row2_col3 {\n",
       "  width: 10em;\n",
       "  height: 80%;\n",
       "  background: linear-gradient(90deg,#5fba7d 81.8%, transparent 81.8%);\n",
       "}\n",
       "#T_aa174_row2_col4 {\n",
       "  width: 10em;\n",
       "  height: 80%;\n",
       "  background: linear-gradient(90deg,#d65f5f 100.0%, transparent 100.0%);\n",
       "}\n",
       "</style>\n",
       "<table id=\"T_aa174_\">\n",
       "  <thead>\n",
       "    <tr>\n",
       "      <th class=\"blank level0\" >&nbsp;</th>\n",
       "      <th class=\"col_heading level0 col0\" >precision</th>\n",
       "      <th class=\"col_heading level0 col1\" >recall</th>\n",
       "      <th class=\"col_heading level0 col2\" >fscore</th>\n",
       "      <th class=\"col_heading level0 col3\" >accuracy</th>\n",
       "      <th class=\"col_heading level0 col4\" >running_time</th>\n",
       "    </tr>\n",
       "    <tr>\n",
       "      <th class=\"index_name level0\" >model_name</th>\n",
       "      <th class=\"blank col0\" >&nbsp;</th>\n",
       "      <th class=\"blank col1\" >&nbsp;</th>\n",
       "      <th class=\"blank col2\" >&nbsp;</th>\n",
       "      <th class=\"blank col3\" >&nbsp;</th>\n",
       "      <th class=\"blank col4\" >&nbsp;</th>\n",
       "    </tr>\n",
       "  </thead>\n",
       "  <tbody>\n",
       "    <tr>\n",
       "      <th id=\"T_aa174_level0_row0\" class=\"row_heading level0 row0\" >tuned_randomforest</th>\n",
       "      <td id=\"T_aa174_row0_col0\" class=\"data row0 col0\" >0.708416</td>\n",
       "      <td id=\"T_aa174_row0_col1\" class=\"data row0 col1\" >0.734613</td>\n",
       "      <td id=\"T_aa174_row0_col2\" class=\"data row0 col2\" >0.721276</td>\n",
       "      <td id=\"T_aa174_row0_col3\" class=\"data row0 col3\" >0.731887</td>\n",
       "      <td id=\"T_aa174_row0_col4\" class=\"data row0 col4\" >0.238020</td>\n",
       "    </tr>\n",
       "    <tr>\n",
       "      <th id=\"T_aa174_level0_row1\" class=\"row_heading level0 row1\" >tuned_logistic</th>\n",
       "      <td id=\"T_aa174_row1_col0\" class=\"data row1 col0\" >0.698123</td>\n",
       "      <td id=\"T_aa174_row1_col1\" class=\"data row1 col1\" >0.690083</td>\n",
       "      <td id=\"T_aa174_row1_col2\" class=\"data row1 col2\" >0.694080</td>\n",
       "      <td id=\"T_aa174_row1_col3\" class=\"data row1 col3\" >0.712732</td>\n",
       "      <td id=\"T_aa174_row1_col4\" class=\"data row1 col4\" >0.042883</td>\n",
       "    </tr>\n",
       "    <tr>\n",
       "      <th id=\"T_aa174_level0_row2\" class=\"row_heading level0 row2\" >tuned_adaboost</th>\n",
       "      <td id=\"T_aa174_row2_col0\" class=\"data row2 col0\" >0.698009</td>\n",
       "      <td id=\"T_aa174_row2_col1\" class=\"data row2 col1\" >0.744722</td>\n",
       "      <td id=\"T_aa174_row2_col2\" class=\"data row2 col2\" >0.720609</td>\n",
       "      <td id=\"T_aa174_row2_col3\" class=\"data row2 col3\" >0.727295</td>\n",
       "      <td id=\"T_aa174_row2_col4\" class=\"data row2 col4\" >0.854568</td>\n",
       "    </tr>\n",
       "  </tbody>\n",
       "</table>\n"
      ],
      "text/plain": [
       "<pandas.io.formats.style.Styler at 0x29de363a640>"
      ]
     },
     "execution_count": 82,
     "metadata": {},
     "output_type": "execute_result"
    }
   ],
   "source": [
    "# compare tuned results\n",
    "tuned_results = df_cv_rfc.append(df_cv_lg).append(df_cv).reset_index()\n",
    "tuned_results['model_name'] = ['tuned_randomforest','tuned_logistic','tuned_adaboost']\n",
    "tuned_results = tuned_results.drop('index', axis=1)\n",
    "tuned_results.set_index('model_name', inplace=True)\n",
    "\n",
    "tuned_results.style.bar(subset=['precision', 'recall', 'fscore','accuracy'], color=['#d65f5f','#5fba7d'], vmin=0.4, vmax=0.8)\\\n",
    "          .bar(subset=['running_time'], color='#d65f5f', vmin=0.0)"
   ]
  },
  {
   "cell_type": "code",
   "execution_count": 83,
   "metadata": {},
   "outputs": [
    {
     "data": {
      "text/html": [
       "<style type=\"text/css\">\n",
       "#T_a65d0_row0_col0 {\n",
       "  width: 10em;\n",
       "  height: 80%;\n",
       "  background: linear-gradient(90deg,#5fba7d 74.2%, transparent 74.2%);\n",
       "}\n",
       "#T_a65d0_row0_col1 {\n",
       "  width: 10em;\n",
       "  height: 80%;\n",
       "  background: linear-gradient(90deg,#5fba7d 86.4%, transparent 86.4%);\n",
       "}\n",
       "#T_a65d0_row0_col2 {\n",
       "  width: 10em;\n",
       "  height: 80%;\n",
       "  background: linear-gradient(90deg,#5fba7d 80.1%, transparent 80.1%);\n",
       "}\n",
       "#T_a65d0_row0_col3, #T_a65d0_row1_col3 {\n",
       "  width: 10em;\n",
       "  height: 80%;\n",
       "  background: linear-gradient(90deg,#5fba7d 81.7%, transparent 81.7%);\n",
       "}\n",
       "#T_a65d0_row0_col4 {\n",
       "  width: 10em;\n",
       "  height: 80%;\n",
       "  background: linear-gradient(90deg,#d65f5f 1.1%, transparent 1.1%);\n",
       "}\n",
       "#T_a65d0_row1_col0 {\n",
       "  width: 10em;\n",
       "  height: 80%;\n",
       "  background: linear-gradient(90deg,#5fba7d 75.5%, transparent 75.5%);\n",
       "}\n",
       "#T_a65d0_row1_col1 {\n",
       "  width: 10em;\n",
       "  height: 80%;\n",
       "  background: linear-gradient(90deg,#5fba7d 83.2%, transparent 83.2%);\n",
       "}\n",
       "#T_a65d0_row1_col2 {\n",
       "  width: 10em;\n",
       "  height: 80%;\n",
       "  background: linear-gradient(90deg,#5fba7d 79.3%, transparent 79.3%);\n",
       "}\n",
       "#T_a65d0_row1_col4 {\n",
       "  width: 10em;\n",
       "  height: 80%;\n",
       "  background: linear-gradient(90deg,#d65f5f 100.0%, transparent 100.0%);\n",
       "}\n",
       "#T_a65d0_row2_col0 {\n",
       "  width: 10em;\n",
       "  height: 80%;\n",
       "  background: linear-gradient(90deg,#5fba7d 74.6%, transparent 74.6%);\n",
       "}\n",
       "#T_a65d0_row2_col1 {\n",
       "  width: 10em;\n",
       "  height: 80%;\n",
       "  background: linear-gradient(90deg,#5fba7d 72.9%, transparent 72.9%);\n",
       "}\n",
       "#T_a65d0_row2_col2 {\n",
       "  width: 10em;\n",
       "  height: 80%;\n",
       "  background: linear-gradient(90deg,#5fba7d 73.8%, transparent 73.8%);\n",
       "}\n",
       "#T_a65d0_row2_col3 {\n",
       "  width: 10em;\n",
       "  height: 80%;\n",
       "  background: linear-gradient(90deg,#5fba7d 78.3%, transparent 78.3%);\n",
       "}\n",
       "#T_a65d0_row2_col4, #T_a65d0_row4_col4 {\n",
       "  width: 10em;\n",
       "  height: 80%;\n",
       "  background: linear-gradient(90deg,#d65f5f 0.1%, transparent 0.1%);\n",
       "}\n",
       "#T_a65d0_row3_col0 {\n",
       "  width: 10em;\n",
       "  height: 80%;\n",
       "  background: linear-gradient(90deg,#5fba7d 76.2%, transparent 76.2%);\n",
       "}\n",
       "#T_a65d0_row3_col1 {\n",
       "  width: 10em;\n",
       "  height: 80%;\n",
       "  background: linear-gradient(90deg,#5fba7d 75.9%, transparent 75.9%);\n",
       "}\n",
       "#T_a65d0_row3_col2 {\n",
       "  width: 10em;\n",
       "  height: 80%;\n",
       "  background: linear-gradient(90deg,#5fba7d 76.1%, transparent 76.1%);\n",
       "}\n",
       "#T_a65d0_row3_col3, #T_a65d0_row6_col2 {\n",
       "  width: 10em;\n",
       "  height: 80%;\n",
       "  background: linear-gradient(90deg,#5fba7d 80.2%, transparent 80.2%);\n",
       "}\n",
       "#T_a65d0_row3_col4 {\n",
       "  width: 10em;\n",
       "  height: 80%;\n",
       "  background: linear-gradient(90deg,#d65f5f 4.1%, transparent 4.1%);\n",
       "}\n",
       "#T_a65d0_row4_col0 {\n",
       "  width: 10em;\n",
       "  height: 80%;\n",
       "  background: linear-gradient(90deg,#5fba7d 77.1%, transparent 77.1%);\n",
       "}\n",
       "#T_a65d0_row4_col1 {\n",
       "  width: 10em;\n",
       "  height: 80%;\n",
       "  background: linear-gradient(90deg,#5fba7d 83.7%, transparent 83.7%);\n",
       "}\n",
       "#T_a65d0_row4_col2 {\n",
       "  width: 10em;\n",
       "  height: 80%;\n",
       "  background: linear-gradient(90deg,#5fba7d 80.3%, transparent 80.3%);\n",
       "}\n",
       "#T_a65d0_row4_col3 {\n",
       "  width: 10em;\n",
       "  height: 80%;\n",
       "  background: linear-gradient(90deg,#5fba7d 83.0%, transparent 83.0%);\n",
       "}\n",
       "#T_a65d0_row5_col0, #T_a65d0_row6_col0 {\n",
       "  width: 10em;\n",
       "  height: 80%;\n",
       "  background: linear-gradient(90deg,#5fba7d 74.5%, transparent 74.5%);\n",
       "}\n",
       "#T_a65d0_row5_col1 {\n",
       "  width: 10em;\n",
       "  height: 80%;\n",
       "  background: linear-gradient(90deg,#5fba7d 72.5%, transparent 72.5%);\n",
       "}\n",
       "#T_a65d0_row5_col2 {\n",
       "  width: 10em;\n",
       "  height: 80%;\n",
       "  background: linear-gradient(90deg,#5fba7d 73.5%, transparent 73.5%);\n",
       "}\n",
       "#T_a65d0_row5_col3 {\n",
       "  width: 10em;\n",
       "  height: 80%;\n",
       "  background: linear-gradient(90deg,#5fba7d 78.2%, transparent 78.2%);\n",
       "}\n",
       "#T_a65d0_row5_col4 {\n",
       "  width: 10em;\n",
       "  height: 80%;\n",
       "  background: linear-gradient(90deg,#d65f5f 0.0%, transparent 0.0%);\n",
       "}\n",
       "#T_a65d0_row6_col1 {\n",
       "  width: 10em;\n",
       "  height: 80%;\n",
       "  background: linear-gradient(90deg,#5fba7d 86.2%, transparent 86.2%);\n",
       "}\n",
       "#T_a65d0_row6_col3 {\n",
       "  width: 10em;\n",
       "  height: 80%;\n",
       "  background: linear-gradient(90deg,#5fba7d 81.8%, transparent 81.8%);\n",
       "}\n",
       "#T_a65d0_row6_col4 {\n",
       "  width: 10em;\n",
       "  height: 80%;\n",
       "  background: linear-gradient(90deg,#d65f5f 0.4%, transparent 0.4%);\n",
       "}\n",
       "</style>\n",
       "<table id=\"T_a65d0_\">\n",
       "  <thead>\n",
       "    <tr>\n",
       "      <th class=\"blank level0\" >&nbsp;</th>\n",
       "      <th class=\"col_heading level0 col0\" >precision</th>\n",
       "      <th class=\"col_heading level0 col1\" >recall</th>\n",
       "      <th class=\"col_heading level0 col2\" >fscore</th>\n",
       "      <th class=\"col_heading level0 col3\" >accuracy</th>\n",
       "      <th class=\"col_heading level0 col4\" >running_time</th>\n",
       "    </tr>\n",
       "    <tr>\n",
       "      <th class=\"index_name level0\" >model_name</th>\n",
       "      <th class=\"blank col0\" >&nbsp;</th>\n",
       "      <th class=\"blank col1\" >&nbsp;</th>\n",
       "      <th class=\"blank col2\" >&nbsp;</th>\n",
       "      <th class=\"blank col3\" >&nbsp;</th>\n",
       "      <th class=\"blank col4\" >&nbsp;</th>\n",
       "    </tr>\n",
       "  </thead>\n",
       "  <tbody>\n",
       "    <tr>\n",
       "      <th id=\"T_a65d0_level0_row0\" class=\"row_heading level0 row0\" >adaboost</th>\n",
       "      <td id=\"T_a65d0_row0_col0\" class=\"data row0 col0\" >0.696962</td>\n",
       "      <td id=\"T_a65d0_row0_col1\" class=\"data row0 col1\" >0.745745</td>\n",
       "      <td id=\"T_a65d0_row0_col2\" class=\"data row0 col2\" >0.720529</td>\n",
       "      <td id=\"T_a65d0_row0_col3\" class=\"data row0 col3\" >0.726811</td>\n",
       "      <td id=\"T_a65d0_row0_col4\" class=\"data row0 col4\" >2.135564</td>\n",
       "    </tr>\n",
       "    <tr>\n",
       "      <th id=\"T_a65d0_level0_row1\" class=\"row_heading level0 row1\" >svc</th>\n",
       "      <td id=\"T_a65d0_row1_col0\" class=\"data row1 col0\" >0.701974</td>\n",
       "      <td id=\"T_a65d0_row1_col1\" class=\"data row1 col1\" >0.732694</td>\n",
       "      <td id=\"T_a65d0_row1_col2\" class=\"data row1 col2\" >0.717005</td>\n",
       "      <td id=\"T_a65d0_row1_col3\" class=\"data row1 col3\" >0.726872</td>\n",
       "      <td id=\"T_a65d0_row1_col4\" class=\"data row1 col4\" >202.322762</td>\n",
       "    </tr>\n",
       "    <tr>\n",
       "      <th id=\"T_a65d0_level0_row2\" class=\"row_heading level0 row2\" >logistic</th>\n",
       "      <td id=\"T_a65d0_row2_col0\" class=\"data row2 col0\" >0.698501</td>\n",
       "      <td id=\"T_a65d0_row2_col1\" class=\"data row2 col1\" >0.691619</td>\n",
       "      <td id=\"T_a65d0_row2_col2\" class=\"data row2 col2\" >0.695043</td>\n",
       "      <td id=\"T_a65d0_row2_col3\" class=\"data row2 col3\" >0.713397</td>\n",
       "      <td id=\"T_a65d0_row2_col4\" class=\"data row2 col4\" >0.197472</td>\n",
       "    </tr>\n",
       "    <tr>\n",
       "      <th id=\"T_a65d0_level0_row3\" class=\"row_heading level0 row3\" >randomforest</th>\n",
       "      <td id=\"T_a65d0_row3_col0\" class=\"data row3 col0\" >0.704857</td>\n",
       "      <td id=\"T_a65d0_row3_col1\" class=\"data row3 col1\" >0.703775</td>\n",
       "      <td id=\"T_a65d0_row3_col2\" class=\"data row3 col2\" >0.704316</td>\n",
       "      <td id=\"T_a65d0_row3_col3\" class=\"data row3 col3\" >0.720950</td>\n",
       "      <td id=\"T_a65d0_row3_col4\" class=\"data row3 col4\" >8.268348</td>\n",
       "    </tr>\n",
       "    <tr>\n",
       "      <th id=\"T_a65d0_level0_row4\" class=\"row_heading level0 row4\" >tuned_randomforest</th>\n",
       "      <td id=\"T_a65d0_row4_col0\" class=\"data row4 col0\" >0.708416</td>\n",
       "      <td id=\"T_a65d0_row4_col1\" class=\"data row4 col1\" >0.734613</td>\n",
       "      <td id=\"T_a65d0_row4_col2\" class=\"data row4 col2\" >0.721276</td>\n",
       "      <td id=\"T_a65d0_row4_col3\" class=\"data row4 col3\" >0.731887</td>\n",
       "      <td id=\"T_a65d0_row4_col4\" class=\"data row4 col4\" >0.238020</td>\n",
       "    </tr>\n",
       "    <tr>\n",
       "      <th id=\"T_a65d0_level0_row5\" class=\"row_heading level0 row5\" >tuned_logistic</th>\n",
       "      <td id=\"T_a65d0_row5_col0\" class=\"data row5 col0\" >0.698123</td>\n",
       "      <td id=\"T_a65d0_row5_col1\" class=\"data row5 col1\" >0.690083</td>\n",
       "      <td id=\"T_a65d0_row5_col2\" class=\"data row5 col2\" >0.694080</td>\n",
       "      <td id=\"T_a65d0_row5_col3\" class=\"data row5 col3\" >0.712732</td>\n",
       "      <td id=\"T_a65d0_row5_col4\" class=\"data row5 col4\" >0.042883</td>\n",
       "    </tr>\n",
       "    <tr>\n",
       "      <th id=\"T_a65d0_level0_row6\" class=\"row_heading level0 row6\" >tuned_adaboost</th>\n",
       "      <td id=\"T_a65d0_row6_col0\" class=\"data row6 col0\" >0.698009</td>\n",
       "      <td id=\"T_a65d0_row6_col1\" class=\"data row6 col1\" >0.744722</td>\n",
       "      <td id=\"T_a65d0_row6_col2\" class=\"data row6 col2\" >0.720609</td>\n",
       "      <td id=\"T_a65d0_row6_col3\" class=\"data row6 col3\" >0.727295</td>\n",
       "      <td id=\"T_a65d0_row6_col4\" class=\"data row6 col4\" >0.854568</td>\n",
       "    </tr>\n",
       "  </tbody>\n",
       "</table>\n"
      ],
      "text/plain": [
       "<pandas.io.formats.style.Styler at 0x29de4ae8250>"
      ]
     },
     "execution_count": 83,
     "metadata": {},
     "output_type": "execute_result"
    }
   ],
   "source": [
    "# put all results together\n",
    "df_results.append(tuned_results).style.bar(subset=['precision', 'recall', 'fscore','accuracy'], color=['#d65f5f','#5fba7d'], vmin=0.4, vmax=0.8)\\\n",
    "          .bar(subset=['running_time'], color='#d65f5f', vmin=0.0)"
   ]
  },
  {
   "cell_type": "markdown",
   "metadata": {},
   "source": [
    "Compared with the original models, it seems the tuned random forest classifier returns better and balanced results, which also has second short running time, this is used for extracting feature importance."
   ]
  },
  {
   "cell_type": "code",
   "execution_count": 84,
   "metadata": {},
   "outputs": [
    {
     "data": {
      "image/png": "[encoded data removed]",
      "text/plain": [
       "<Figure size 576x360 with 1 Axes>"
      ]
     },
     "metadata": {},
     "output_type": "display_data"
    }
   ],
   "source": [
    "# get feature importance from model\n",
    "importance = cv_rfc.best_estimator_.named_steps['rfc'].feature_importances_\n",
    "df_importance = pd.Series(importance, index=X.columns)\n",
    "\n",
    "# seperate feature group\n",
    "customer_features = list(X.columns)[0:56]\n",
    "offer_features = list(X.columns)[57:]\n",
    "\n",
    "# customize colors\n",
    "colors = ['blue' if (a in customer_features)\\\n",
    "          else 'orange' for a in list(df_importance.nlargest(20).sort_values(ascending=True).index)]\n",
    "\n",
    "# visualize\n",
    "df_importance.nlargest(20).sort_values(ascending=True)\n",
    "df_importance.nlargest(20).sort_values(ascending=True).plot(kind='barh', \n",
    "                                                            figsize=(8, 5), \n",
    "                                                            title='Top 20 feature importance to effective offer prediction',\n",
    "                                                           color=colors)\n",
    "plt.xlabel('score')\n",
    "plt.ylabel('feature')\n",
    "\n",
    "# legend\n",
    "pop_a = mpatches.Patch(color='blue', label='customer feature')\n",
    "pop_b = mpatches.Patch(color='orange', label='offer feature')\n",
    "\n",
    "plt.legend(handles=[pop_a,pop_b]);"
   ]
  },
  {
   "cell_type": "markdown",
   "metadata": {},
   "source": [
    "Above top 20 important features to effective offer are presented with distinction between customer feature and offer feature. We can see the top 1 is reward (0.18 explained), followed by duration (0.14) and social (0.14), then by income (0.125) and difficulty (0.123). These are some features that we see within group where dramatic changes occur, which could impact the average in either a positive or negative way. Additionally, out of top 20 features, 5 is related to offer itself, the other 15 is all due to customer, however the 5 offer related features can impact the offer’s effectiveness in a strong way."
   ]
  },
  {
   "cell_type": "markdown",
   "metadata": {},
   "source": [
    "### Reference:\n",
    "boosting ML doesn't need to be scaled with features, but scaling can speed up ML model <br>\n",
    "https://towardsdatascience.com/the-ultimate-guide-to-adaboost-random-forests-and-xgboost-7f9327061c4f#:~:text=Compared%20to%20random%20forests%20and,being%20significantly%20slower%20than%20XGBoost\n",
    "\n",
    "https://moonbooks.org/Articles/How-to-manually-add-a-legend-with-a-color-box-on-a-matplotlib-figure-/\n",
    "\n",
    "https://stackoverflow.com/questions/38231591/split-explode-a-column-of-dictionaries-into-separate-columns-with-pandas"
   ]
  }
 ],
 "metadata": {
  "kernelspec": {
   "display_name": "Python 3 (ipykernel)",
   "language": "python",
   "name": "python3"
  },
  "language_info": {
   "codemirror_mode": {
    "name": "ipython",
    "version": 3
   },
   "file_extension": ".py",
   "mimetype": "text/x-python",
   "name": "python",
   "nbconvert_exporter": "python",
   "pygments_lexer": "ipython3",
   "version": "3.9.7"
  }
 },
 "nbformat": 4,
 "nbformat_minor": 2
}
